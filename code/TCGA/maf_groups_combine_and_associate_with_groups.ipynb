{
 "cells": [
  {
   "cell_type": "code",
   "execution_count": 35,
   "id": "476f3f9a-dd38-4986-ae88-428d40de8b91",
   "metadata": {},
   "outputs": [],
   "source": [
    "import pandas as pd"
   ]
  },
  {
   "cell_type": "code",
   "execution_count": 36,
   "id": "27c02011-e07d-4819-a821-9020bfcb4453",
   "metadata": {},
   "outputs": [],
   "source": [
    "df_maf = pd.read_csv(\"maf_matched.csv\", index_col=0)"
   ]
  },
  {
   "cell_type": "code",
   "execution_count": 37,
   "id": "fcfdcfab-b9b4-412a-93e2-23d487e7f4c1",
   "metadata": {},
   "outputs": [],
   "source": [
    "df_groups = pd.read_csv(\"Allgroups_noDupIDs.csv\", index_col=0)"
   ]
  },
  {
   "cell_type": "code",
   "execution_count": 38,
   "id": "1c82e0b8-0c35-4581-90af-4e0df954e6bf",
   "metadata": {},
   "outputs": [
    {
     "data": {
      "text/plain": [
       "((121, 26), (121, 24))"
      ]
     },
     "execution_count": 38,
     "metadata": {},
     "output_type": "execute_result"
    }
   ],
   "source": [
    "df_maf.shape, df_groups.shape"
   ]
  },
  {
   "cell_type": "code",
   "execution_count": 39,
   "id": "7f58d6f8-81d4-4dc0-9830-c76a9ccd2f01",
   "metadata": {},
   "outputs": [
    {
     "name": "stdout",
     "output_type": "stream",
     "text": [
      "121\n"
     ]
    }
   ],
   "source": [
    "common = list(set(df_maf.index.tolist())&set(df_groups.index.tolist()))\n",
    "print(len(common))"
   ]
  },
  {
   "cell_type": "code",
   "execution_count": 40,
   "id": "d3dfa129-4540-4833-ae54-14b203c86ab8",
   "metadata": {},
   "outputs": [],
   "source": [
    "df_maf, df_groups = df_maf.loc[common], df_groups.loc[common]"
   ]
  },
  {
   "cell_type": "code",
   "execution_count": 41,
   "id": "c0f3a774-6243-4ba4-95cd-ef1ff61921d1",
   "metadata": {},
   "outputs": [
    {
     "name": "stdout",
     "output_type": "stream",
     "text": [
      "True\n"
     ]
    }
   ],
   "source": [
    "print((df_maf.index==df_groups.index).all())"
   ]
  },
  {
   "cell_type": "code",
   "execution_count": 42,
   "id": "cd155518-7327-480a-8c2d-18b9a1e00f93",
   "metadata": {},
   "outputs": [],
   "source": [
    "df = pd.concat([df_groups, df_maf], axis=1)"
   ]
  },
  {
   "cell_type": "code",
   "execution_count": 43,
   "id": "13164a90-66c9-4f85-81ed-bafda4945338",
   "metadata": {},
   "outputs": [
    {
     "data": {
      "text/plain": [
       "Index(['barcode', 'patient', 'paper_Supervised.DNA.Methylation.Cluster',\n",
       "       'paper_Original.Subtype', 'paper_Transcriptome.Subtype',\n",
       "       'paper_IDH.specific.DNA.Methylation.Cluster', 'paper_IDH.status',\n",
       "       'paper_IDH.specific.RNA.Expression.Cluster', 'paper_IDH.codel.subtype',\n",
       "       'Project ID', 'Case ID', 'Case UUID', 'ID', 'File Name',\n",
       "       'Data Category', 'Data Type', 'Sample Type', 'year of diagnosis',\n",
       "       'age at index', 'days to death', 'gender',\n",
       "       'vital status (0=alive, 1=dead)', 'Neural signature score',\n",
       "       'Neural subgroup (0=low, 1=high)', 'Project ID', 'Case ID', 'Case UUID',\n",
       "       'ID', 'File Name', 'Data Category', 'Data Type', 'Sample Type',\n",
       "       'year of diagnosis', 'age at index', 'days to death', 'gender',\n",
       "       'vital status (0=alive, 1=dead)', 'Neural signature score',\n",
       "       'Neural subgroup (0=low, 1=high)', 'PTEN', 'EGFR', 'RB1', 'TP53', 'NF1',\n",
       "       'PIK3R1', 'ATRX', 'PIK3CA', 'TERT', 'CIC', 'FUBP1'],\n",
       "      dtype='object')"
      ]
     },
     "execution_count": 43,
     "metadata": {},
     "output_type": "execute_result"
    }
   ],
   "source": [
    "df.columns"
   ]
  },
  {
   "cell_type": "code",
   "execution_count": 44,
   "id": "9b7ad51b-b7d9-426c-ac3a-2d4602b2cdb9",
   "metadata": {},
   "outputs": [],
   "source": [
    "df = df.loc[:, ~df.columns.duplicated(keep=\"first\")]"
   ]
  },
  {
   "cell_type": "code",
   "execution_count": 11,
   "id": "da011902-f4e4-4e89-a852-a59fbe8cf352",
   "metadata": {},
   "outputs": [
    {
     "data": {
      "text/plain": [
       "(121, 35)"
      ]
     },
     "execution_count": 11,
     "metadata": {},
     "output_type": "execute_result"
    }
   ],
   "source": [
    "df.shape"
   ]
  },
  {
   "cell_type": "code",
   "execution_count": 12,
   "id": "53ae865b-c398-4904-a972-6ab75c8baedc",
   "metadata": {},
   "outputs": [],
   "source": [
    "df.to_csv(\"merged_groups_maf.csv\")"
   ]
  },
  {
   "cell_type": "code",
   "execution_count": 13,
   "id": "97f23b31-44c7-4978-ad03-15c4cf7eeb70",
   "metadata": {},
   "outputs": [],
   "source": [
    "crosstab = pd.crosstab(df[\"Neural subgroup (0=low, 1=high)\"], df[\"paper_Transcriptome.Subtype\"])"
   ]
  },
  {
   "cell_type": "code",
   "execution_count": 14,
   "id": "442e5be6-2aa5-4998-ac73-844a306e2655",
   "metadata": {},
   "outputs": [
    {
     "data": {
      "text/plain": [
       "Index(['CL', 'ME', 'NE', 'PN'], dtype='object', name='paper_Transcriptome.Subtype')"
      ]
     },
     "execution_count": 14,
     "metadata": {},
     "output_type": "execute_result"
    }
   ],
   "source": [
    "crosstab.columns"
   ]
  },
  {
   "cell_type": "code",
   "execution_count": 15,
   "id": "9ccf23d8-8d22-4b0b-a2a2-320e7404678f",
   "metadata": {},
   "outputs": [
    {
     "data": {
      "text/html": [
       "<div>\n",
       "<style scoped>\n",
       "    .dataframe tbody tr th:only-of-type {\n",
       "        vertical-align: middle;\n",
       "    }\n",
       "\n",
       "    .dataframe tbody tr th {\n",
       "        vertical-align: top;\n",
       "    }\n",
       "\n",
       "    .dataframe thead th {\n",
       "        text-align: right;\n",
       "    }\n",
       "</style>\n",
       "<table border=\"1\" class=\"dataframe\">\n",
       "  <thead>\n",
       "    <tr style=\"text-align: right;\">\n",
       "      <th>paper_Transcriptome.Subtype</th>\n",
       "      <th>CL</th>\n",
       "      <th>ME</th>\n",
       "      <th>NE</th>\n",
       "      <th>PN</th>\n",
       "    </tr>\n",
       "    <tr>\n",
       "      <th>Neural subgroup (0=low, 1=high)</th>\n",
       "      <th></th>\n",
       "      <th></th>\n",
       "      <th></th>\n",
       "      <th></th>\n",
       "    </tr>\n",
       "  </thead>\n",
       "  <tbody>\n",
       "    <tr>\n",
       "      <th>0</th>\n",
       "      <td>19</td>\n",
       "      <td>18</td>\n",
       "      <td>2</td>\n",
       "      <td>1</td>\n",
       "    </tr>\n",
       "    <tr>\n",
       "      <th>1</th>\n",
       "      <td>12</td>\n",
       "      <td>5</td>\n",
       "      <td>1</td>\n",
       "      <td>9</td>\n",
       "    </tr>\n",
       "  </tbody>\n",
       "</table>\n",
       "</div>"
      ],
      "text/plain": [
       "paper_Transcriptome.Subtype      CL  ME  NE  PN\n",
       "Neural subgroup (0=low, 1=high)                \n",
       "0                                19  18   2   1\n",
       "1                                12   5   1   9"
      ]
     },
     "execution_count": 15,
     "metadata": {},
     "output_type": "execute_result"
    }
   ],
   "source": [
    "crosstab"
   ]
  },
  {
   "cell_type": "code",
   "execution_count": 16,
   "id": "861be1b8-892a-4d99-b759-3a203d8e3318",
   "metadata": {},
   "outputs": [],
   "source": [
    "import seaborn as sns\n",
    "colors = sns.color_palette(\"colorblind\", 2+4).as_hex()\n",
    "df_nodes = pd.DataFrame(index=list(range(2+4)),\n",
    "                     columns = [\"ID\", \"Label\", \"Color\"])\n",
    "df_nodes[\"ID\"] = df_nodes.index.tolist()\n",
    "df_nodes[\"Color\"] = colors\n",
    "df_nodes[\"Label\"] = crosstab.index.tolist()+crosstab.columns.tolist()"
   ]
  },
  {
   "cell_type": "code",
   "execution_count": 17,
   "id": "c5302260-736f-4351-a89f-5efdfae7cab3",
   "metadata": {},
   "outputs": [
    {
     "data": {
      "text/html": [
       "<div>\n",
       "<style scoped>\n",
       "    .dataframe tbody tr th:only-of-type {\n",
       "        vertical-align: middle;\n",
       "    }\n",
       "\n",
       "    .dataframe tbody tr th {\n",
       "        vertical-align: top;\n",
       "    }\n",
       "\n",
       "    .dataframe thead th {\n",
       "        text-align: right;\n",
       "    }\n",
       "</style>\n",
       "<table border=\"1\" class=\"dataframe\">\n",
       "  <thead>\n",
       "    <tr style=\"text-align: right;\">\n",
       "      <th></th>\n",
       "      <th>ID</th>\n",
       "      <th>Label</th>\n",
       "      <th>Color</th>\n",
       "    </tr>\n",
       "  </thead>\n",
       "  <tbody>\n",
       "    <tr>\n",
       "      <th>0</th>\n",
       "      <td>0</td>\n",
       "      <td>0</td>\n",
       "      <td>#0173b2</td>\n",
       "    </tr>\n",
       "    <tr>\n",
       "      <th>1</th>\n",
       "      <td>1</td>\n",
       "      <td>1</td>\n",
       "      <td>#de8f05</td>\n",
       "    </tr>\n",
       "    <tr>\n",
       "      <th>2</th>\n",
       "      <td>2</td>\n",
       "      <td>CL</td>\n",
       "      <td>#029e73</td>\n",
       "    </tr>\n",
       "    <tr>\n",
       "      <th>3</th>\n",
       "      <td>3</td>\n",
       "      <td>ME</td>\n",
       "      <td>#d55e00</td>\n",
       "    </tr>\n",
       "    <tr>\n",
       "      <th>4</th>\n",
       "      <td>4</td>\n",
       "      <td>NE</td>\n",
       "      <td>#cc78bc</td>\n",
       "    </tr>\n",
       "    <tr>\n",
       "      <th>5</th>\n",
       "      <td>5</td>\n",
       "      <td>PN</td>\n",
       "      <td>#ca9161</td>\n",
       "    </tr>\n",
       "  </tbody>\n",
       "</table>\n",
       "</div>"
      ],
      "text/plain": [
       "   ID Label    Color\n",
       "0   0     0  #0173b2\n",
       "1   1     1  #de8f05\n",
       "2   2    CL  #029e73\n",
       "3   3    ME  #d55e00\n",
       "4   4    NE  #cc78bc\n",
       "5   5    PN  #ca9161"
      ]
     },
     "execution_count": 17,
     "metadata": {},
     "output_type": "execute_result"
    }
   ],
   "source": [
    "df_nodes"
   ]
  },
  {
   "cell_type": "code",
   "execution_count": 18,
   "id": "a0743aaa-8223-4bf9-b60e-950d2ded89bc",
   "metadata": {},
   "outputs": [],
   "source": [
    "df_nodes[\"Label\"].replace({0: \"Low\", 1: \"High\",\n",
    "                         \"CL\": \"Classical\",\n",
    "                         \"ME\": \"Mesenchymal\",\n",
    "                         \"NE\": \"Neural\",\n",
    "                         \"PN\": \"Proneural\"}, inplace=True)"
   ]
  },
  {
   "cell_type": "code",
   "execution_count": 19,
   "id": "a5c82fbb-0626-45a7-bfef-54d93e61d40a",
   "metadata": {},
   "outputs": [],
   "source": [
    "df_nodes.Color = [\"#f68612\", \"#91191e\"] + df_nodes.Color.tolist()[2:]"
   ]
  },
  {
   "cell_type": "code",
   "execution_count": 20,
   "id": "88f03f59-3e1e-4602-96bc-daa54987b8e6",
   "metadata": {},
   "outputs": [],
   "source": [
    "df_links = pd.read_table(\"links_transcriptomic.txt\", index_col=None, header=None)"
   ]
  },
  {
   "cell_type": "code",
   "execution_count": 21,
   "id": "1d834fcc-331e-4f3e-916e-dab508ca2642",
   "metadata": {},
   "outputs": [],
   "source": [
    "df_links.columns = [\"Source\", \"Target\", \"Value\", \"Link Color\"]"
   ]
  },
  {
   "cell_type": "code",
   "execution_count": 22,
   "id": "c9a23d79-5c95-4558-a0dc-67c3cb1430e8",
   "metadata": {},
   "outputs": [
    {
     "data": {
      "text/html": [
       "<div>\n",
       "<style scoped>\n",
       "    .dataframe tbody tr th:only-of-type {\n",
       "        vertical-align: middle;\n",
       "    }\n",
       "\n",
       "    .dataframe tbody tr th {\n",
       "        vertical-align: top;\n",
       "    }\n",
       "\n",
       "    .dataframe thead th {\n",
       "        text-align: right;\n",
       "    }\n",
       "</style>\n",
       "<table border=\"1\" class=\"dataframe\">\n",
       "  <thead>\n",
       "    <tr style=\"text-align: right;\">\n",
       "      <th>paper_Transcriptome.Subtype</th>\n",
       "      <th>CL</th>\n",
       "      <th>ME</th>\n",
       "      <th>NE</th>\n",
       "      <th>PN</th>\n",
       "    </tr>\n",
       "    <tr>\n",
       "      <th>Neural subgroup (0=low, 1=high)</th>\n",
       "      <th></th>\n",
       "      <th></th>\n",
       "      <th></th>\n",
       "      <th></th>\n",
       "    </tr>\n",
       "  </thead>\n",
       "  <tbody>\n",
       "    <tr>\n",
       "      <th>0</th>\n",
       "      <td>19</td>\n",
       "      <td>18</td>\n",
       "      <td>2</td>\n",
       "      <td>1</td>\n",
       "    </tr>\n",
       "    <tr>\n",
       "      <th>1</th>\n",
       "      <td>12</td>\n",
       "      <td>5</td>\n",
       "      <td>1</td>\n",
       "      <td>9</td>\n",
       "    </tr>\n",
       "  </tbody>\n",
       "</table>\n",
       "</div>"
      ],
      "text/plain": [
       "paper_Transcriptome.Subtype      CL  ME  NE  PN\n",
       "Neural subgroup (0=low, 1=high)                \n",
       "0                                19  18   2   1\n",
       "1                                12   5   1   9"
      ]
     },
     "execution_count": 22,
     "metadata": {},
     "output_type": "execute_result"
    }
   ],
   "source": [
    "crosstab"
   ]
  },
  {
   "cell_type": "code",
   "execution_count": 23,
   "id": "99d5a19d-41cc-4f06-8ec5-bdd5dbb15093",
   "metadata": {},
   "outputs": [
    {
     "data": {
      "text/html": [
       "<div>\n",
       "<style scoped>\n",
       "    .dataframe tbody tr th:only-of-type {\n",
       "        vertical-align: middle;\n",
       "    }\n",
       "\n",
       "    .dataframe tbody tr th {\n",
       "        vertical-align: top;\n",
       "    }\n",
       "\n",
       "    .dataframe thead th {\n",
       "        text-align: right;\n",
       "    }\n",
       "</style>\n",
       "<table border=\"1\" class=\"dataframe\">\n",
       "  <thead>\n",
       "    <tr style=\"text-align: right;\">\n",
       "      <th></th>\n",
       "      <th>ID</th>\n",
       "      <th>Label</th>\n",
       "      <th>Color</th>\n",
       "    </tr>\n",
       "  </thead>\n",
       "  <tbody>\n",
       "    <tr>\n",
       "      <th>0</th>\n",
       "      <td>0</td>\n",
       "      <td>Low</td>\n",
       "      <td>#f68612</td>\n",
       "    </tr>\n",
       "    <tr>\n",
       "      <th>1</th>\n",
       "      <td>1</td>\n",
       "      <td>High</td>\n",
       "      <td>#91191e</td>\n",
       "    </tr>\n",
       "    <tr>\n",
       "      <th>2</th>\n",
       "      <td>2</td>\n",
       "      <td>Classical</td>\n",
       "      <td>#029e73</td>\n",
       "    </tr>\n",
       "    <tr>\n",
       "      <th>3</th>\n",
       "      <td>3</td>\n",
       "      <td>Mesenchymal</td>\n",
       "      <td>#d55e00</td>\n",
       "    </tr>\n",
       "    <tr>\n",
       "      <th>4</th>\n",
       "      <td>4</td>\n",
       "      <td>Neural</td>\n",
       "      <td>#cc78bc</td>\n",
       "    </tr>\n",
       "    <tr>\n",
       "      <th>5</th>\n",
       "      <td>5</td>\n",
       "      <td>Proneural</td>\n",
       "      <td>#ca9161</td>\n",
       "    </tr>\n",
       "  </tbody>\n",
       "</table>\n",
       "</div>"
      ],
      "text/plain": [
       "   ID        Label    Color\n",
       "0   0          Low  #f68612\n",
       "1   1         High  #91191e\n",
       "2   2    Classical  #029e73\n",
       "3   3  Mesenchymal  #d55e00\n",
       "4   4       Neural  #cc78bc\n",
       "5   5    Proneural  #ca9161"
      ]
     },
     "execution_count": 23,
     "metadata": {},
     "output_type": "execute_result"
    }
   ],
   "source": [
    "df_nodes"
   ]
  },
  {
   "cell_type": "code",
   "execution_count": 24,
   "id": "88a6a9a4-9348-41f9-99ce-3a16e4d66839",
   "metadata": {},
   "outputs": [],
   "source": [
    "for row in crosstab.index:\n",
    "    if row==0:\n",
    "        l = \"Low\"\n",
    "    else:\n",
    "        l = \"High\"\n",
    "    e = crosstab.loc[row].sum()\n",
    "    df_nodes[\"Label\"].replace({f\"{l}\": f\"{l} (n={e})\"}, inplace=True)\n",
    "for col in crosstab.columns:\n",
    "    if col==\"CL\":\n",
    "        l = \"Classical\"\n",
    "    elif col==\"ME\":\n",
    "        l = \"Mesenchymal\"\n",
    "    elif col==\"NE\":\n",
    "        l = \"Neural\"\n",
    "    else:\n",
    "        l = \"Proneural\"\n",
    "    e = crosstab[col].sum()\n",
    "    df_nodes[\"Label\"].replace({f\"{l}\": f\"{l} (n={e})\"}, inplace=True)"
   ]
  },
  {
   "cell_type": "code",
   "execution_count": 25,
   "id": "6fd7115a-84c1-45d5-888c-fb7886d1a8c0",
   "metadata": {},
   "outputs": [
    {
     "data": {
      "text/html": [
       "<div>\n",
       "<style scoped>\n",
       "    .dataframe tbody tr th:only-of-type {\n",
       "        vertical-align: middle;\n",
       "    }\n",
       "\n",
       "    .dataframe tbody tr th {\n",
       "        vertical-align: top;\n",
       "    }\n",
       "\n",
       "    .dataframe thead th {\n",
       "        text-align: right;\n",
       "    }\n",
       "</style>\n",
       "<table border=\"1\" class=\"dataframe\">\n",
       "  <thead>\n",
       "    <tr style=\"text-align: right;\">\n",
       "      <th></th>\n",
       "      <th>ID</th>\n",
       "      <th>Label</th>\n",
       "      <th>Color</th>\n",
       "    </tr>\n",
       "  </thead>\n",
       "  <tbody>\n",
       "    <tr>\n",
       "      <th>0</th>\n",
       "      <td>0</td>\n",
       "      <td>Low (n=40)</td>\n",
       "      <td>#f68612</td>\n",
       "    </tr>\n",
       "    <tr>\n",
       "      <th>1</th>\n",
       "      <td>1</td>\n",
       "      <td>High (n=27)</td>\n",
       "      <td>#91191e</td>\n",
       "    </tr>\n",
       "    <tr>\n",
       "      <th>2</th>\n",
       "      <td>2</td>\n",
       "      <td>Classical (n=31)</td>\n",
       "      <td>#029e73</td>\n",
       "    </tr>\n",
       "    <tr>\n",
       "      <th>3</th>\n",
       "      <td>3</td>\n",
       "      <td>Mesenchymal (n=23)</td>\n",
       "      <td>#d55e00</td>\n",
       "    </tr>\n",
       "    <tr>\n",
       "      <th>4</th>\n",
       "      <td>4</td>\n",
       "      <td>Neural (n=3)</td>\n",
       "      <td>#cc78bc</td>\n",
       "    </tr>\n",
       "    <tr>\n",
       "      <th>5</th>\n",
       "      <td>5</td>\n",
       "      <td>Proneural (n=10)</td>\n",
       "      <td>#ca9161</td>\n",
       "    </tr>\n",
       "  </tbody>\n",
       "</table>\n",
       "</div>"
      ],
      "text/plain": [
       "   ID               Label    Color\n",
       "0   0          Low (n=40)  #f68612\n",
       "1   1         High (n=27)  #91191e\n",
       "2   2    Classical (n=31)  #029e73\n",
       "3   3  Mesenchymal (n=23)  #d55e00\n",
       "4   4        Neural (n=3)  #cc78bc\n",
       "5   5    Proneural (n=10)  #ca9161"
      ]
     },
     "execution_count": 25,
     "metadata": {},
     "output_type": "execute_result"
    }
   ],
   "source": [
    "df_nodes"
   ]
  },
  {
   "cell_type": "code",
   "execution_count": 26,
   "id": "27a85db2-eb76-4830-9fe8-2dd8d82cd3fa",
   "metadata": {},
   "outputs": [
    {
     "data": {
      "text/html": [
       "        <script type=\"text/javascript\">\n",
       "        window.PlotlyConfig = {MathJaxConfig: 'local'};\n",
       "        if (window.MathJax && window.MathJax.Hub && window.MathJax.Hub.Config) {window.MathJax.Hub.Config({SVG: {font: \"STIX-Web\"}});}\n",
       "        if (typeof require !== 'undefined') {\n",
       "        require.undef(\"plotly\");\n",
       "        requirejs.config({\n",
       "            paths: {\n",
       "                'plotly': ['https://cdn.plot.ly/plotly-2.14.0.min']\n",
       "            }\n",
       "        });\n",
       "        require(['plotly'], function(Plotly) {\n",
       "            window._Plotly = Plotly;\n",
       "        });\n",
       "        }\n",
       "        </script>\n",
       "        "
      ]
     },
     "metadata": {},
     "output_type": "display_data"
    }
   ],
   "source": [
    "# imports\n",
    "import pandas as pd\n",
    "import numpy as np\n",
    "import plotly.graph_objs as go\n",
    "from plotly.offline import download_plotlyjs, init_notebook_mode, plot, iplot\n",
    "init_notebook_mode(connected=True)"
   ]
  },
  {
   "cell_type": "code",
   "execution_count": 27,
   "id": "83977a73-cd9a-4c13-bdad-d6c68ea71a84",
   "metadata": {},
   "outputs": [],
   "source": [
    "# Sankey plot setup\n",
    "data_trace = dict(\n",
    "    type='sankey',\n",
    "    domain = dict(\n",
    "      x =  [0,1],\n",
    "      y =  [0,1]\n",
    "    ),\n",
    "    orientation = \"h\",\n",
    "    valueformat = \".0f\",\n",
    "    node = dict(\n",
    "      pad = 10,\n",
    "    # thickness = 30,\n",
    "      line = dict(\n",
    "        color = \"black\",\n",
    "        width = 0\n",
    "      ),\n",
    "      label =  df_nodes['Label'].dropna(axis=0, how='any'),\n",
    "      color = df_nodes['Color']\n",
    "    ),\n",
    "    link = dict(\n",
    "      source = df_links['Source'].dropna(axis=0, how='any'),\n",
    "      target = df_links['Target'].dropna(axis=0, how='any'),\n",
    "      value = df_links['Value'].dropna(axis=0, how='any'),\n",
    "      color = df_links['Link Color'].dropna(axis=0, how='any'),\n",
    "  )\n",
    ")"
   ]
  },
  {
   "cell_type": "code",
   "execution_count": 28,
   "id": "d74ac59a-0cdf-44ec-8d8f-d46fac022a3e",
   "metadata": {},
   "outputs": [
    {
     "data": {
      "application/vnd.plotly.v1+json": {
       "config": {
        "linkText": "Export to plot.ly",
        "plotlyServerURL": "https://plot.ly",
        "showLink": false
       },
       "data": [
        {
         "domain": {
          "x": [
           0,
           1
          ],
          "y": [
           0,
           1
          ]
         },
         "link": {
          "color": [
           "#f68612",
           "#f68612",
           "#f68612",
           "#f68612",
           "#91191e",
           "#91191e",
           "#91191e",
           "#91191e"
          ],
          "source": [
           0,
           0,
           0,
           0,
           1,
           1,
           1,
           1
          ],
          "target": [
           2,
           3,
           4,
           5,
           2,
           3,
           4,
           5
          ],
          "value": [
           19,
           18,
           2,
           1,
           12,
           5,
           1,
           9
          ]
         },
         "node": {
          "color": [
           "#f68612",
           "#91191e",
           "#029e73",
           "#d55e00",
           "#cc78bc",
           "#ca9161"
          ],
          "label": [
           "Low (n=40)",
           "High (n=27)",
           "Classical (n=31)",
           "Mesenchymal (n=23)",
           "Neural (n=3)",
           "Proneural (n=10)"
          ],
          "line": {
           "color": "black",
           "width": 0
          },
          "pad": 10
         },
         "orientation": "h",
         "type": "sankey",
         "valueformat": ".0f"
        }
       ],
       "layout": {
        "font": {
         "size": 10
        },
        "height": 700,
        "template": {
         "data": {
          "bar": [
           {
            "error_x": {
             "color": "#2a3f5f"
            },
            "error_y": {
             "color": "#2a3f5f"
            },
            "marker": {
             "line": {
              "color": "#E5ECF6",
              "width": 0.5
             },
             "pattern": {
              "fillmode": "overlay",
              "size": 10,
              "solidity": 0.2
             }
            },
            "type": "bar"
           }
          ],
          "barpolar": [
           {
            "marker": {
             "line": {
              "color": "#E5ECF6",
              "width": 0.5
             },
             "pattern": {
              "fillmode": "overlay",
              "size": 10,
              "solidity": 0.2
             }
            },
            "type": "barpolar"
           }
          ],
          "carpet": [
           {
            "aaxis": {
             "endlinecolor": "#2a3f5f",
             "gridcolor": "white",
             "linecolor": "white",
             "minorgridcolor": "white",
             "startlinecolor": "#2a3f5f"
            },
            "baxis": {
             "endlinecolor": "#2a3f5f",
             "gridcolor": "white",
             "linecolor": "white",
             "minorgridcolor": "white",
             "startlinecolor": "#2a3f5f"
            },
            "type": "carpet"
           }
          ],
          "choropleth": [
           {
            "colorbar": {
             "outlinewidth": 0,
             "ticks": ""
            },
            "type": "choropleth"
           }
          ],
          "contour": [
           {
            "colorbar": {
             "outlinewidth": 0,
             "ticks": ""
            },
            "colorscale": [
             [
              0,
              "#0d0887"
             ],
             [
              0.1111111111111111,
              "#46039f"
             ],
             [
              0.2222222222222222,
              "#7201a8"
             ],
             [
              0.3333333333333333,
              "#9c179e"
             ],
             [
              0.4444444444444444,
              "#bd3786"
             ],
             [
              0.5555555555555556,
              "#d8576b"
             ],
             [
              0.6666666666666666,
              "#ed7953"
             ],
             [
              0.7777777777777778,
              "#fb9f3a"
             ],
             [
              0.8888888888888888,
              "#fdca26"
             ],
             [
              1,
              "#f0f921"
             ]
            ],
            "type": "contour"
           }
          ],
          "contourcarpet": [
           {
            "colorbar": {
             "outlinewidth": 0,
             "ticks": ""
            },
            "type": "contourcarpet"
           }
          ],
          "heatmap": [
           {
            "colorbar": {
             "outlinewidth": 0,
             "ticks": ""
            },
            "colorscale": [
             [
              0,
              "#0d0887"
             ],
             [
              0.1111111111111111,
              "#46039f"
             ],
             [
              0.2222222222222222,
              "#7201a8"
             ],
             [
              0.3333333333333333,
              "#9c179e"
             ],
             [
              0.4444444444444444,
              "#bd3786"
             ],
             [
              0.5555555555555556,
              "#d8576b"
             ],
             [
              0.6666666666666666,
              "#ed7953"
             ],
             [
              0.7777777777777778,
              "#fb9f3a"
             ],
             [
              0.8888888888888888,
              "#fdca26"
             ],
             [
              1,
              "#f0f921"
             ]
            ],
            "type": "heatmap"
           }
          ],
          "heatmapgl": [
           {
            "colorbar": {
             "outlinewidth": 0,
             "ticks": ""
            },
            "colorscale": [
             [
              0,
              "#0d0887"
             ],
             [
              0.1111111111111111,
              "#46039f"
             ],
             [
              0.2222222222222222,
              "#7201a8"
             ],
             [
              0.3333333333333333,
              "#9c179e"
             ],
             [
              0.4444444444444444,
              "#bd3786"
             ],
             [
              0.5555555555555556,
              "#d8576b"
             ],
             [
              0.6666666666666666,
              "#ed7953"
             ],
             [
              0.7777777777777778,
              "#fb9f3a"
             ],
             [
              0.8888888888888888,
              "#fdca26"
             ],
             [
              1,
              "#f0f921"
             ]
            ],
            "type": "heatmapgl"
           }
          ],
          "histogram": [
           {
            "marker": {
             "pattern": {
              "fillmode": "overlay",
              "size": 10,
              "solidity": 0.2
             }
            },
            "type": "histogram"
           }
          ],
          "histogram2d": [
           {
            "colorbar": {
             "outlinewidth": 0,
             "ticks": ""
            },
            "colorscale": [
             [
              0,
              "#0d0887"
             ],
             [
              0.1111111111111111,
              "#46039f"
             ],
             [
              0.2222222222222222,
              "#7201a8"
             ],
             [
              0.3333333333333333,
              "#9c179e"
             ],
             [
              0.4444444444444444,
              "#bd3786"
             ],
             [
              0.5555555555555556,
              "#d8576b"
             ],
             [
              0.6666666666666666,
              "#ed7953"
             ],
             [
              0.7777777777777778,
              "#fb9f3a"
             ],
             [
              0.8888888888888888,
              "#fdca26"
             ],
             [
              1,
              "#f0f921"
             ]
            ],
            "type": "histogram2d"
           }
          ],
          "histogram2dcontour": [
           {
            "colorbar": {
             "outlinewidth": 0,
             "ticks": ""
            },
            "colorscale": [
             [
              0,
              "#0d0887"
             ],
             [
              0.1111111111111111,
              "#46039f"
             ],
             [
              0.2222222222222222,
              "#7201a8"
             ],
             [
              0.3333333333333333,
              "#9c179e"
             ],
             [
              0.4444444444444444,
              "#bd3786"
             ],
             [
              0.5555555555555556,
              "#d8576b"
             ],
             [
              0.6666666666666666,
              "#ed7953"
             ],
             [
              0.7777777777777778,
              "#fb9f3a"
             ],
             [
              0.8888888888888888,
              "#fdca26"
             ],
             [
              1,
              "#f0f921"
             ]
            ],
            "type": "histogram2dcontour"
           }
          ],
          "mesh3d": [
           {
            "colorbar": {
             "outlinewidth": 0,
             "ticks": ""
            },
            "type": "mesh3d"
           }
          ],
          "parcoords": [
           {
            "line": {
             "colorbar": {
              "outlinewidth": 0,
              "ticks": ""
             }
            },
            "type": "parcoords"
           }
          ],
          "pie": [
           {
            "automargin": true,
            "type": "pie"
           }
          ],
          "scatter": [
           {
            "fillpattern": {
             "fillmode": "overlay",
             "size": 10,
             "solidity": 0.2
            },
            "type": "scatter"
           }
          ],
          "scatter3d": [
           {
            "line": {
             "colorbar": {
              "outlinewidth": 0,
              "ticks": ""
             }
            },
            "marker": {
             "colorbar": {
              "outlinewidth": 0,
              "ticks": ""
             }
            },
            "type": "scatter3d"
           }
          ],
          "scattercarpet": [
           {
            "marker": {
             "colorbar": {
              "outlinewidth": 0,
              "ticks": ""
             }
            },
            "type": "scattercarpet"
           }
          ],
          "scattergeo": [
           {
            "marker": {
             "colorbar": {
              "outlinewidth": 0,
              "ticks": ""
             }
            },
            "type": "scattergeo"
           }
          ],
          "scattergl": [
           {
            "marker": {
             "colorbar": {
              "outlinewidth": 0,
              "ticks": ""
             }
            },
            "type": "scattergl"
           }
          ],
          "scattermapbox": [
           {
            "marker": {
             "colorbar": {
              "outlinewidth": 0,
              "ticks": ""
             }
            },
            "type": "scattermapbox"
           }
          ],
          "scatterpolar": [
           {
            "marker": {
             "colorbar": {
              "outlinewidth": 0,
              "ticks": ""
             }
            },
            "type": "scatterpolar"
           }
          ],
          "scatterpolargl": [
           {
            "marker": {
             "colorbar": {
              "outlinewidth": 0,
              "ticks": ""
             }
            },
            "type": "scatterpolargl"
           }
          ],
          "scatterternary": [
           {
            "marker": {
             "colorbar": {
              "outlinewidth": 0,
              "ticks": ""
             }
            },
            "type": "scatterternary"
           }
          ],
          "surface": [
           {
            "colorbar": {
             "outlinewidth": 0,
             "ticks": ""
            },
            "colorscale": [
             [
              0,
              "#0d0887"
             ],
             [
              0.1111111111111111,
              "#46039f"
             ],
             [
              0.2222222222222222,
              "#7201a8"
             ],
             [
              0.3333333333333333,
              "#9c179e"
             ],
             [
              0.4444444444444444,
              "#bd3786"
             ],
             [
              0.5555555555555556,
              "#d8576b"
             ],
             [
              0.6666666666666666,
              "#ed7953"
             ],
             [
              0.7777777777777778,
              "#fb9f3a"
             ],
             [
              0.8888888888888888,
              "#fdca26"
             ],
             [
              1,
              "#f0f921"
             ]
            ],
            "type": "surface"
           }
          ],
          "table": [
           {
            "cells": {
             "fill": {
              "color": "#EBF0F8"
             },
             "line": {
              "color": "white"
             }
            },
            "header": {
             "fill": {
              "color": "#C8D4E3"
             },
             "line": {
              "color": "white"
             }
            },
            "type": "table"
           }
          ]
         },
         "layout": {
          "annotationdefaults": {
           "arrowcolor": "#2a3f5f",
           "arrowhead": 0,
           "arrowwidth": 1
          },
          "autotypenumbers": "strict",
          "coloraxis": {
           "colorbar": {
            "outlinewidth": 0,
            "ticks": ""
           }
          },
          "colorscale": {
           "diverging": [
            [
             0,
             "#8e0152"
            ],
            [
             0.1,
             "#c51b7d"
            ],
            [
             0.2,
             "#de77ae"
            ],
            [
             0.3,
             "#f1b6da"
            ],
            [
             0.4,
             "#fde0ef"
            ],
            [
             0.5,
             "#f7f7f7"
            ],
            [
             0.6,
             "#e6f5d0"
            ],
            [
             0.7,
             "#b8e186"
            ],
            [
             0.8,
             "#7fbc41"
            ],
            [
             0.9,
             "#4d9221"
            ],
            [
             1,
             "#276419"
            ]
           ],
           "sequential": [
            [
             0,
             "#0d0887"
            ],
            [
             0.1111111111111111,
             "#46039f"
            ],
            [
             0.2222222222222222,
             "#7201a8"
            ],
            [
             0.3333333333333333,
             "#9c179e"
            ],
            [
             0.4444444444444444,
             "#bd3786"
            ],
            [
             0.5555555555555556,
             "#d8576b"
            ],
            [
             0.6666666666666666,
             "#ed7953"
            ],
            [
             0.7777777777777778,
             "#fb9f3a"
            ],
            [
             0.8888888888888888,
             "#fdca26"
            ],
            [
             1,
             "#f0f921"
            ]
           ],
           "sequentialminus": [
            [
             0,
             "#0d0887"
            ],
            [
             0.1111111111111111,
             "#46039f"
            ],
            [
             0.2222222222222222,
             "#7201a8"
            ],
            [
             0.3333333333333333,
             "#9c179e"
            ],
            [
             0.4444444444444444,
             "#bd3786"
            ],
            [
             0.5555555555555556,
             "#d8576b"
            ],
            [
             0.6666666666666666,
             "#ed7953"
            ],
            [
             0.7777777777777778,
             "#fb9f3a"
            ],
            [
             0.8888888888888888,
             "#fdca26"
            ],
            [
             1,
             "#f0f921"
            ]
           ]
          },
          "colorway": [
           "#636efa",
           "#EF553B",
           "#00cc96",
           "#ab63fa",
           "#FFA15A",
           "#19d3f3",
           "#FF6692",
           "#B6E880",
           "#FF97FF",
           "#FECB52"
          ],
          "font": {
           "color": "#2a3f5f"
          },
          "geo": {
           "bgcolor": "white",
           "lakecolor": "white",
           "landcolor": "#E5ECF6",
           "showlakes": true,
           "showland": true,
           "subunitcolor": "white"
          },
          "hoverlabel": {
           "align": "left"
          },
          "hovermode": "closest",
          "mapbox": {
           "style": "light"
          },
          "paper_bgcolor": "white",
          "plot_bgcolor": "#E5ECF6",
          "polar": {
           "angularaxis": {
            "gridcolor": "white",
            "linecolor": "white",
            "ticks": ""
           },
           "bgcolor": "#E5ECF6",
           "radialaxis": {
            "gridcolor": "white",
            "linecolor": "white",
            "ticks": ""
           }
          },
          "scene": {
           "xaxis": {
            "backgroundcolor": "#E5ECF6",
            "gridcolor": "white",
            "gridwidth": 2,
            "linecolor": "white",
            "showbackground": true,
            "ticks": "",
            "zerolinecolor": "white"
           },
           "yaxis": {
            "backgroundcolor": "#E5ECF6",
            "gridcolor": "white",
            "gridwidth": 2,
            "linecolor": "white",
            "showbackground": true,
            "ticks": "",
            "zerolinecolor": "white"
           },
           "zaxis": {
            "backgroundcolor": "#E5ECF6",
            "gridcolor": "white",
            "gridwidth": 2,
            "linecolor": "white",
            "showbackground": true,
            "ticks": "",
            "zerolinecolor": "white"
           }
          },
          "shapedefaults": {
           "line": {
            "color": "#2a3f5f"
           }
          },
          "ternary": {
           "aaxis": {
            "gridcolor": "white",
            "linecolor": "white",
            "ticks": ""
           },
           "baxis": {
            "gridcolor": "white",
            "linecolor": "white",
            "ticks": ""
           },
           "bgcolor": "#E5ECF6",
           "caxis": {
            "gridcolor": "white",
            "linecolor": "white",
            "ticks": ""
           }
          },
          "title": {
           "x": 0.05
          },
          "xaxis": {
           "automargin": true,
           "gridcolor": "white",
           "linecolor": "white",
           "ticks": "",
           "title": {
            "standoff": 15
           },
           "zerolinecolor": "white",
           "zerolinewidth": 2
          },
          "yaxis": {
           "automargin": true,
           "gridcolor": "white",
           "linecolor": "white",
           "ticks": "",
           "title": {
            "standoff": 15
           },
           "zerolinecolor": "white",
           "zerolinewidth": 2
          }
         }
        },
        "title": {
         "text": "Correspondence between neural and transcriptomic subgroups (TCGA)"
        },
        "width": 700
       }
      },
      "image/png": "[encoded data removed]",
      "text/html": [
       "<div>                            <div id=\"14a30c6f-56b4-43ce-bced-6298a582939f\" class=\"plotly-graph-div\" style=\"height:700px; width:700px;\"></div>            <script type=\"text/javascript\">                require([\"plotly\"], function(Plotly) {                    window.PLOTLYENV=window.PLOTLYENV || {};                                    if (document.getElementById(\"14a30c6f-56b4-43ce-bced-6298a582939f\")) {                    Plotly.newPlot(                        \"14a30c6f-56b4-43ce-bced-6298a582939f\",                        [{\"domain\":{\"x\":[0,1],\"y\":[0,1]},\"link\":{\"color\":[\"#f68612\",\"#f68612\",\"#f68612\",\"#f68612\",\"#91191e\",\"#91191e\",\"#91191e\",\"#91191e\"],\"source\":[0,0,0,0,1,1,1,1],\"target\":[2,3,4,5,2,3,4,5],\"value\":[19,18,2,1,12,5,1,9]},\"node\":{\"color\":[\"#f68612\",\"#91191e\",\"#029e73\",\"#d55e00\",\"#cc78bc\",\"#ca9161\"],\"label\":[\"Low (n=40)\",\"High (n=27)\",\"Classical (n=31)\",\"Mesenchymal (n=23)\",\"Neural (n=3)\",\"Proneural (n=10)\"],\"line\":{\"color\":\"black\",\"width\":0},\"pad\":10},\"orientation\":\"h\",\"valueformat\":\".0f\",\"type\":\"sankey\"}],                        {\"font\":{\"size\":10},\"height\":700,\"title\":{\"text\":\"Correspondence between neural and transcriptomic subgroups (TCGA)\"},\"width\":700,\"template\":{\"data\":{\"histogram2dcontour\":[{\"type\":\"histogram2dcontour\",\"colorbar\":{\"outlinewidth\":0,\"ticks\":\"\"},\"colorscale\":[[0.0,\"#0d0887\"],[0.1111111111111111,\"#46039f\"],[0.2222222222222222,\"#7201a8\"],[0.3333333333333333,\"#9c179e\"],[0.4444444444444444,\"#bd3786\"],[0.5555555555555556,\"#d8576b\"],[0.6666666666666666,\"#ed7953\"],[0.7777777777777778,\"#fb9f3a\"],[0.8888888888888888,\"#fdca26\"],[1.0,\"#f0f921\"]]}],\"choropleth\":[{\"type\":\"choropleth\",\"colorbar\":{\"outlinewidth\":0,\"ticks\":\"\"}}],\"histogram2d\":[{\"type\":\"histogram2d\",\"colorbar\":{\"outlinewidth\":0,\"ticks\":\"\"},\"colorscale\":[[0.0,\"#0d0887\"],[0.1111111111111111,\"#46039f\"],[0.2222222222222222,\"#7201a8\"],[0.3333333333333333,\"#9c179e\"],[0.4444444444444444,\"#bd3786\"],[0.5555555555555556,\"#d8576b\"],[0.6666666666666666,\"#ed7953\"],[0.7777777777777778,\"#fb9f3a\"],[0.8888888888888888,\"#fdca26\"],[1.0,\"#f0f921\"]]}],\"heatmap\":[{\"type\":\"heatmap\",\"colorbar\":{\"outlinewidth\":0,\"ticks\":\"\"},\"colorscale\":[[0.0,\"#0d0887\"],[0.1111111111111111,\"#46039f\"],[0.2222222222222222,\"#7201a8\"],[0.3333333333333333,\"#9c179e\"],[0.4444444444444444,\"#bd3786\"],[0.5555555555555556,\"#d8576b\"],[0.6666666666666666,\"#ed7953\"],[0.7777777777777778,\"#fb9f3a\"],[0.8888888888888888,\"#fdca26\"],[1.0,\"#f0f921\"]]}],\"heatmapgl\":[{\"type\":\"heatmapgl\",\"colorbar\":{\"outlinewidth\":0,\"ticks\":\"\"},\"colorscale\":[[0.0,\"#0d0887\"],[0.1111111111111111,\"#46039f\"],[0.2222222222222222,\"#7201a8\"],[0.3333333333333333,\"#9c179e\"],[0.4444444444444444,\"#bd3786\"],[0.5555555555555556,\"#d8576b\"],[0.6666666666666666,\"#ed7953\"],[0.7777777777777778,\"#fb9f3a\"],[0.8888888888888888,\"#fdca26\"],[1.0,\"#f0f921\"]]}],\"contourcarpet\":[{\"type\":\"contourcarpet\",\"colorbar\":{\"outlinewidth\":0,\"ticks\":\"\"}}],\"contour\":[{\"type\":\"contour\",\"colorbar\":{\"outlinewidth\":0,\"ticks\":\"\"},\"colorscale\":[[0.0,\"#0d0887\"],[0.1111111111111111,\"#46039f\"],[0.2222222222222222,\"#7201a8\"],[0.3333333333333333,\"#9c179e\"],[0.4444444444444444,\"#bd3786\"],[0.5555555555555556,\"#d8576b\"],[0.6666666666666666,\"#ed7953\"],[0.7777777777777778,\"#fb9f3a\"],[0.8888888888888888,\"#fdca26\"],[1.0,\"#f0f921\"]]}],\"surface\":[{\"type\":\"surface\",\"colorbar\":{\"outlinewidth\":0,\"ticks\":\"\"},\"colorscale\":[[0.0,\"#0d0887\"],[0.1111111111111111,\"#46039f\"],[0.2222222222222222,\"#7201a8\"],[0.3333333333333333,\"#9c179e\"],[0.4444444444444444,\"#bd3786\"],[0.5555555555555556,\"#d8576b\"],[0.6666666666666666,\"#ed7953\"],[0.7777777777777778,\"#fb9f3a\"],[0.8888888888888888,\"#fdca26\"],[1.0,\"#f0f921\"]]}],\"mesh3d\":[{\"type\":\"mesh3d\",\"colorbar\":{\"outlinewidth\":0,\"ticks\":\"\"}}],\"scatter\":[{\"fillpattern\":{\"fillmode\":\"overlay\",\"size\":10,\"solidity\":0.2},\"type\":\"scatter\"}],\"parcoords\":[{\"type\":\"parcoords\",\"line\":{\"colorbar\":{\"outlinewidth\":0,\"ticks\":\"\"}}}],\"scatterpolargl\":[{\"type\":\"scatterpolargl\",\"marker\":{\"colorbar\":{\"outlinewidth\":0,\"ticks\":\"\"}}}],\"bar\":[{\"error_x\":{\"color\":\"#2a3f5f\"},\"error_y\":{\"color\":\"#2a3f5f\"},\"marker\":{\"line\":{\"color\":\"#E5ECF6\",\"width\":0.5},\"pattern\":{\"fillmode\":\"overlay\",\"size\":10,\"solidity\":0.2}},\"type\":\"bar\"}],\"scattergeo\":[{\"type\":\"scattergeo\",\"marker\":{\"colorbar\":{\"outlinewidth\":0,\"ticks\":\"\"}}}],\"scatterpolar\":[{\"type\":\"scatterpolar\",\"marker\":{\"colorbar\":{\"outlinewidth\":0,\"ticks\":\"\"}}}],\"histogram\":[{\"marker\":{\"pattern\":{\"fillmode\":\"overlay\",\"size\":10,\"solidity\":0.2}},\"type\":\"histogram\"}],\"scattergl\":[{\"type\":\"scattergl\",\"marker\":{\"colorbar\":{\"outlinewidth\":0,\"ticks\":\"\"}}}],\"scatter3d\":[{\"type\":\"scatter3d\",\"line\":{\"colorbar\":{\"outlinewidth\":0,\"ticks\":\"\"}},\"marker\":{\"colorbar\":{\"outlinewidth\":0,\"ticks\":\"\"}}}],\"scattermapbox\":[{\"type\":\"scattermapbox\",\"marker\":{\"colorbar\":{\"outlinewidth\":0,\"ticks\":\"\"}}}],\"scatterternary\":[{\"type\":\"scatterternary\",\"marker\":{\"colorbar\":{\"outlinewidth\":0,\"ticks\":\"\"}}}],\"scattercarpet\":[{\"type\":\"scattercarpet\",\"marker\":{\"colorbar\":{\"outlinewidth\":0,\"ticks\":\"\"}}}],\"carpet\":[{\"aaxis\":{\"endlinecolor\":\"#2a3f5f\",\"gridcolor\":\"white\",\"linecolor\":\"white\",\"minorgridcolor\":\"white\",\"startlinecolor\":\"#2a3f5f\"},\"baxis\":{\"endlinecolor\":\"#2a3f5f\",\"gridcolor\":\"white\",\"linecolor\":\"white\",\"minorgridcolor\":\"white\",\"startlinecolor\":\"#2a3f5f\"},\"type\":\"carpet\"}],\"table\":[{\"cells\":{\"fill\":{\"color\":\"#EBF0F8\"},\"line\":{\"color\":\"white\"}},\"header\":{\"fill\":{\"color\":\"#C8D4E3\"},\"line\":{\"color\":\"white\"}},\"type\":\"table\"}],\"barpolar\":[{\"marker\":{\"line\":{\"color\":\"#E5ECF6\",\"width\":0.5},\"pattern\":{\"fillmode\":\"overlay\",\"size\":10,\"solidity\":0.2}},\"type\":\"barpolar\"}],\"pie\":[{\"automargin\":true,\"type\":\"pie\"}]},\"layout\":{\"autotypenumbers\":\"strict\",\"colorway\":[\"#636efa\",\"#EF553B\",\"#00cc96\",\"#ab63fa\",\"#FFA15A\",\"#19d3f3\",\"#FF6692\",\"#B6E880\",\"#FF97FF\",\"#FECB52\"],\"font\":{\"color\":\"#2a3f5f\"},\"hovermode\":\"closest\",\"hoverlabel\":{\"align\":\"left\"},\"paper_bgcolor\":\"white\",\"plot_bgcolor\":\"#E5ECF6\",\"polar\":{\"bgcolor\":\"#E5ECF6\",\"angularaxis\":{\"gridcolor\":\"white\",\"linecolor\":\"white\",\"ticks\":\"\"},\"radialaxis\":{\"gridcolor\":\"white\",\"linecolor\":\"white\",\"ticks\":\"\"}},\"ternary\":{\"bgcolor\":\"#E5ECF6\",\"aaxis\":{\"gridcolor\":\"white\",\"linecolor\":\"white\",\"ticks\":\"\"},\"baxis\":{\"gridcolor\":\"white\",\"linecolor\":\"white\",\"ticks\":\"\"},\"caxis\":{\"gridcolor\":\"white\",\"linecolor\":\"white\",\"ticks\":\"\"}},\"coloraxis\":{\"colorbar\":{\"outlinewidth\":0,\"ticks\":\"\"}},\"colorscale\":{\"sequential\":[[0.0,\"#0d0887\"],[0.1111111111111111,\"#46039f\"],[0.2222222222222222,\"#7201a8\"],[0.3333333333333333,\"#9c179e\"],[0.4444444444444444,\"#bd3786\"],[0.5555555555555556,\"#d8576b\"],[0.6666666666666666,\"#ed7953\"],[0.7777777777777778,\"#fb9f3a\"],[0.8888888888888888,\"#fdca26\"],[1.0,\"#f0f921\"]],\"sequentialminus\":[[0.0,\"#0d0887\"],[0.1111111111111111,\"#46039f\"],[0.2222222222222222,\"#7201a8\"],[0.3333333333333333,\"#9c179e\"],[0.4444444444444444,\"#bd3786\"],[0.5555555555555556,\"#d8576b\"],[0.6666666666666666,\"#ed7953\"],[0.7777777777777778,\"#fb9f3a\"],[0.8888888888888888,\"#fdca26\"],[1.0,\"#f0f921\"]],\"diverging\":[[0,\"#8e0152\"],[0.1,\"#c51b7d\"],[0.2,\"#de77ae\"],[0.3,\"#f1b6da\"],[0.4,\"#fde0ef\"],[0.5,\"#f7f7f7\"],[0.6,\"#e6f5d0\"],[0.7,\"#b8e186\"],[0.8,\"#7fbc41\"],[0.9,\"#4d9221\"],[1,\"#276419\"]]},\"xaxis\":{\"gridcolor\":\"white\",\"linecolor\":\"white\",\"ticks\":\"\",\"title\":{\"standoff\":15},\"zerolinecolor\":\"white\",\"automargin\":true,\"zerolinewidth\":2},\"yaxis\":{\"gridcolor\":\"white\",\"linecolor\":\"white\",\"ticks\":\"\",\"title\":{\"standoff\":15},\"zerolinecolor\":\"white\",\"automargin\":true,\"zerolinewidth\":2},\"scene\":{\"xaxis\":{\"backgroundcolor\":\"#E5ECF6\",\"gridcolor\":\"white\",\"linecolor\":\"white\",\"showbackground\":true,\"ticks\":\"\",\"zerolinecolor\":\"white\",\"gridwidth\":2},\"yaxis\":{\"backgroundcolor\":\"#E5ECF6\",\"gridcolor\":\"white\",\"linecolor\":\"white\",\"showbackground\":true,\"ticks\":\"\",\"zerolinecolor\":\"white\",\"gridwidth\":2},\"zaxis\":{\"backgroundcolor\":\"#E5ECF6\",\"gridcolor\":\"white\",\"linecolor\":\"white\",\"showbackground\":true,\"ticks\":\"\",\"zerolinecolor\":\"white\",\"gridwidth\":2}},\"shapedefaults\":{\"line\":{\"color\":\"#2a3f5f\"}},\"annotationdefaults\":{\"arrowcolor\":\"#2a3f5f\",\"arrowhead\":0,\"arrowwidth\":1},\"geo\":{\"bgcolor\":\"white\",\"landcolor\":\"#E5ECF6\",\"subunitcolor\":\"white\",\"showland\":true,\"showlakes\":true,\"lakecolor\":\"white\"},\"title\":{\"x\":0.05},\"mapbox\":{\"style\":\"light\"}}}},                        {\"responsive\": true}                    ).then(function(){\n",
       "                            \n",
       "var gd = document.getElementById('14a30c6f-56b4-43ce-bced-6298a582939f');\n",
       "var x = new MutationObserver(function (mutations, observer) {{\n",
       "        var display = window.getComputedStyle(gd).display;\n",
       "        if (!display || display === 'none') {{\n",
       "            console.log([gd, 'removed!']);\n",
       "            Plotly.purge(gd);\n",
       "            observer.disconnect();\n",
       "        }}\n",
       "}});\n",
       "\n",
       "// Listen for the removal of the full notebook cells\n",
       "var notebookContainer = gd.closest('#notebook-container');\n",
       "if (notebookContainer) {{\n",
       "    x.observe(notebookContainer, {childList: true});\n",
       "}}\n",
       "\n",
       "// Listen for the clearing of the current output cell\n",
       "var outputEl = gd.closest('.output');\n",
       "if (outputEl) {{\n",
       "    x.observe(outputEl, {childList: true});\n",
       "}}\n",
       "\n",
       "                        })                };                });            </script>        </div>"
      ]
     },
     "metadata": {},
     "output_type": "display_data"
    }
   ],
   "source": [
    "layout = dict(\n",
    "        title = \"Correspondence between neural and transcriptomic subgroups (TCGA)\",\n",
    "        height = 700,\n",
    "        width=700,\n",
    "        font = dict(size = 10),)\n",
    "\n",
    "fig = dict(data=[data_trace], layout=layout)\n",
    "fig = go.Figure(fig)\n",
    "iplot(fig, validate=False)"
   ]
  },
  {
   "cell_type": "code",
   "execution_count": 29,
   "id": "865d9aab-cf65-4d9f-8d19-c3b1198fdecb",
   "metadata": {},
   "outputs": [],
   "source": [
    "fig.write_image(\"tcga_tx.png\")\n",
    "fig.write_image(\"tcga_tx.pdf\", engine=\"kaleido\")"
   ]
  },
  {
   "cell_type": "code",
   "execution_count": 30,
   "id": "98f69f28-6ff1-424a-99e8-3cd2a0b649c3",
   "metadata": {},
   "outputs": [
    {
     "data": {
      "text/html": [
       "<div>\n",
       "<style scoped>\n",
       "    .dataframe tbody tr th:only-of-type {\n",
       "        vertical-align: middle;\n",
       "    }\n",
       "\n",
       "    .dataframe tbody tr th {\n",
       "        vertical-align: top;\n",
       "    }\n",
       "\n",
       "    .dataframe thead th {\n",
       "        text-align: right;\n",
       "    }\n",
       "</style>\n",
       "<table border=\"1\" class=\"dataframe\">\n",
       "  <thead>\n",
       "    <tr style=\"text-align: right;\">\n",
       "      <th></th>\n",
       "      <th>barcode</th>\n",
       "      <th>patient</th>\n",
       "      <th>paper_Supervised.DNA.Methylation.Cluster</th>\n",
       "      <th>paper_Original.Subtype</th>\n",
       "      <th>paper_Transcriptome.Subtype</th>\n",
       "      <th>paper_IDH.specific.DNA.Methylation.Cluster</th>\n",
       "      <th>paper_IDH.status</th>\n",
       "      <th>paper_IDH.specific.RNA.Expression.Cluster</th>\n",
       "      <th>paper_IDH.codel.subtype</th>\n",
       "      <th>Project ID</th>\n",
       "      <th>...</th>\n",
       "      <th>Data Category</th>\n",
       "      <th>Data Type</th>\n",
       "      <th>Sample Type</th>\n",
       "      <th>year of diagnosis</th>\n",
       "      <th>age at index</th>\n",
       "      <th>days to death</th>\n",
       "      <th>gender</th>\n",
       "      <th>vital status (0=alive, 1=dead)</th>\n",
       "      <th>Neural signature score</th>\n",
       "      <th>Neural subgroup (0=low, 1=high)</th>\n",
       "    </tr>\n",
       "    <tr>\n",
       "      <th>Sample ID</th>\n",
       "      <th></th>\n",
       "      <th></th>\n",
       "      <th></th>\n",
       "      <th></th>\n",
       "      <th></th>\n",
       "      <th></th>\n",
       "      <th></th>\n",
       "      <th></th>\n",
       "      <th></th>\n",
       "      <th></th>\n",
       "      <th></th>\n",
       "      <th></th>\n",
       "      <th></th>\n",
       "      <th></th>\n",
       "      <th></th>\n",
       "      <th></th>\n",
       "      <th></th>\n",
       "      <th></th>\n",
       "      <th></th>\n",
       "      <th></th>\n",
       "      <th></th>\n",
       "    </tr>\n",
       "  </thead>\n",
       "  <tbody>\n",
       "    <tr>\n",
       "      <th>TCGA-06-0152-01A</th>\n",
       "      <td>TCGA-06-0152-01A-02D-A45W-05</td>\n",
       "      <td>TCGA-06-0152</td>\n",
       "      <td>NaN</td>\n",
       "      <td>Mesenchymal</td>\n",
       "      <td>ME</td>\n",
       "      <td>NaN</td>\n",
       "      <td>WT</td>\n",
       "      <td>NaN</td>\n",
       "      <td>IDHwt</td>\n",
       "      <td>TCGA-GBM</td>\n",
       "      <td>...</td>\n",
       "      <td>DNA Methylation</td>\n",
       "      <td>Methylation Beta Value</td>\n",
       "      <td>Primary Tumor</td>\n",
       "      <td>1995</td>\n",
       "      <td>68</td>\n",
       "      <td>375</td>\n",
       "      <td>male</td>\n",
       "      <td>1.0</td>\n",
       "      <td>0.372</td>\n",
       "      <td>0</td>\n",
       "    </tr>\n",
       "    <tr>\n",
       "      <th>TCGA-06-6693-01A</th>\n",
       "      <td>TCGA-06-6693-01A-11D-1844-05</td>\n",
       "      <td>TCGA-06-6693</td>\n",
       "      <td>Classic-like</td>\n",
       "      <td>NaN</td>\n",
       "      <td>NaN</td>\n",
       "      <td>IDHwt-K1</td>\n",
       "      <td>WT</td>\n",
       "      <td>NaN</td>\n",
       "      <td>IDHwt</td>\n",
       "      <td>TCGA-GBM</td>\n",
       "      <td>...</td>\n",
       "      <td>DNA Methylation</td>\n",
       "      <td>Methylation Beta Value</td>\n",
       "      <td>Primary Tumor</td>\n",
       "      <td>1993</td>\n",
       "      <td>64</td>\n",
       "      <td>3667</td>\n",
       "      <td>female</td>\n",
       "      <td>1.0</td>\n",
       "      <td>0.392</td>\n",
       "      <td>0</td>\n",
       "    </tr>\n",
       "    <tr>\n",
       "      <th>TCGA-19-A60I-01A</th>\n",
       "      <td>TCGA-19-A60I-01A-12D-A33U-05</td>\n",
       "      <td>TCGA-19-A60I</td>\n",
       "      <td>Classic-like</td>\n",
       "      <td>NaN</td>\n",
       "      <td>NaN</td>\n",
       "      <td>IDHwt-K1</td>\n",
       "      <td>WT</td>\n",
       "      <td>NaN</td>\n",
       "      <td>IDHwt</td>\n",
       "      <td>TCGA-GBM</td>\n",
       "      <td>...</td>\n",
       "      <td>DNA Methylation</td>\n",
       "      <td>Methylation Beta Value</td>\n",
       "      <td>Primary Tumor</td>\n",
       "      <td>2012</td>\n",
       "      <td>39</td>\n",
       "      <td>'--</td>\n",
       "      <td>male</td>\n",
       "      <td>0.0</td>\n",
       "      <td>0.405</td>\n",
       "      <td>0</td>\n",
       "    </tr>\n",
       "    <tr>\n",
       "      <th>TCGA-76-6193-01A</th>\n",
       "      <td>TCGA-76-6193-01A-11D-1697-05</td>\n",
       "      <td>TCGA-76-6193</td>\n",
       "      <td>Mesenchymal-like</td>\n",
       "      <td>Mesenchymal</td>\n",
       "      <td>ME</td>\n",
       "      <td>IDHwt-K2</td>\n",
       "      <td>WT</td>\n",
       "      <td>NaN</td>\n",
       "      <td>IDHwt</td>\n",
       "      <td>TCGA-GBM</td>\n",
       "      <td>...</td>\n",
       "      <td>DNA Methylation</td>\n",
       "      <td>Methylation Beta Value</td>\n",
       "      <td>Primary Tumor</td>\n",
       "      <td>2010</td>\n",
       "      <td>78</td>\n",
       "      <td>82</td>\n",
       "      <td>male</td>\n",
       "      <td>1.0</td>\n",
       "      <td>0.380</td>\n",
       "      <td>0</td>\n",
       "    </tr>\n",
       "    <tr>\n",
       "      <th>TCGA-06-6698-01A</th>\n",
       "      <td>TCGA-06-6698-01A-11D-1844-05</td>\n",
       "      <td>TCGA-06-6698</td>\n",
       "      <td>LGm6-GBM</td>\n",
       "      <td>NaN</td>\n",
       "      <td>NaN</td>\n",
       "      <td>IDHwt-K3</td>\n",
       "      <td>WT</td>\n",
       "      <td>NaN</td>\n",
       "      <td>IDHwt</td>\n",
       "      <td>TCGA-GBM</td>\n",
       "      <td>...</td>\n",
       "      <td>DNA Methylation</td>\n",
       "      <td>Methylation Beta Value</td>\n",
       "      <td>Primary Tumor</td>\n",
       "      <td>2011</td>\n",
       "      <td>53</td>\n",
       "      <td>'--</td>\n",
       "      <td>female</td>\n",
       "      <td>0.0</td>\n",
       "      <td>0.400</td>\n",
       "      <td>0</td>\n",
       "    </tr>\n",
       "    <tr>\n",
       "      <th>...</th>\n",
       "      <td>...</td>\n",
       "      <td>...</td>\n",
       "      <td>...</td>\n",
       "      <td>...</td>\n",
       "      <td>...</td>\n",
       "      <td>...</td>\n",
       "      <td>...</td>\n",
       "      <td>...</td>\n",
       "      <td>...</td>\n",
       "      <td>...</td>\n",
       "      <td>...</td>\n",
       "      <td>...</td>\n",
       "      <td>...</td>\n",
       "      <td>...</td>\n",
       "      <td>...</td>\n",
       "      <td>...</td>\n",
       "      <td>...</td>\n",
       "      <td>...</td>\n",
       "      <td>...</td>\n",
       "      <td>...</td>\n",
       "      <td>...</td>\n",
       "    </tr>\n",
       "    <tr>\n",
       "      <th>TCGA-76-6663-01A</th>\n",
       "      <td>TCGA-76-6663-01A-11D-1844-05</td>\n",
       "      <td>TCGA-76-6663</td>\n",
       "      <td>Classic-like</td>\n",
       "      <td>NaN</td>\n",
       "      <td>NaN</td>\n",
       "      <td>IDHwt-K1</td>\n",
       "      <td>WT</td>\n",
       "      <td>NaN</td>\n",
       "      <td>IDHwt</td>\n",
       "      <td>TCGA-GBM</td>\n",
       "      <td>...</td>\n",
       "      <td>DNA Methylation</td>\n",
       "      <td>Methylation Beta Value</td>\n",
       "      <td>Primary Tumor</td>\n",
       "      <td>2011</td>\n",
       "      <td>44</td>\n",
       "      <td>567</td>\n",
       "      <td>female</td>\n",
       "      <td>1.0</td>\n",
       "      <td>0.417</td>\n",
       "      <td>1</td>\n",
       "    </tr>\n",
       "    <tr>\n",
       "      <th>TCGA-26-5134-01A</th>\n",
       "      <td>TCGA-26-5134-01A-01D-1481-05</td>\n",
       "      <td>TCGA-26-5134</td>\n",
       "      <td>Mesenchymal-like</td>\n",
       "      <td>Proneural</td>\n",
       "      <td>NaN</td>\n",
       "      <td>IDHwt-K2</td>\n",
       "      <td>WT</td>\n",
       "      <td>IDHwt-R3</td>\n",
       "      <td>IDHwt</td>\n",
       "      <td>TCGA-GBM</td>\n",
       "      <td>...</td>\n",
       "      <td>DNA Methylation</td>\n",
       "      <td>Methylation Beta Value</td>\n",
       "      <td>Primary Tumor</td>\n",
       "      <td>2009</td>\n",
       "      <td>74</td>\n",
       "      <td>'--</td>\n",
       "      <td>male</td>\n",
       "      <td>0.0</td>\n",
       "      <td>0.442</td>\n",
       "      <td>1</td>\n",
       "    </tr>\n",
       "    <tr>\n",
       "      <th>TCGA-RR-A6KC-01A</th>\n",
       "      <td>TCGA-RR-A6KC-01A-31D-A33U-05</td>\n",
       "      <td>TCGA-RR-A6KC</td>\n",
       "      <td>Classic-like</td>\n",
       "      <td>NaN</td>\n",
       "      <td>NaN</td>\n",
       "      <td>IDHwt-K1</td>\n",
       "      <td>WT</td>\n",
       "      <td>NaN</td>\n",
       "      <td>IDHwt</td>\n",
       "      <td>TCGA-GBM</td>\n",
       "      <td>...</td>\n",
       "      <td>DNA Methylation</td>\n",
       "      <td>Methylation Beta Value</td>\n",
       "      <td>Primary Tumor</td>\n",
       "      <td>2010</td>\n",
       "      <td>55</td>\n",
       "      <td>625</td>\n",
       "      <td>male</td>\n",
       "      <td>1.0</td>\n",
       "      <td>0.336</td>\n",
       "      <td>0</td>\n",
       "    </tr>\n",
       "    <tr>\n",
       "      <th>TCGA-28-5209-01A</th>\n",
       "      <td>TCGA-28-5209-01A-01D-1481-05</td>\n",
       "      <td>TCGA-28-5209</td>\n",
       "      <td>Classic-like</td>\n",
       "      <td>Mesenchymal</td>\n",
       "      <td>CL</td>\n",
       "      <td>IDHwt-K1</td>\n",
       "      <td>WT</td>\n",
       "      <td>IDHwt-R1</td>\n",
       "      <td>IDHwt</td>\n",
       "      <td>TCGA-GBM</td>\n",
       "      <td>...</td>\n",
       "      <td>DNA Methylation</td>\n",
       "      <td>Methylation Beta Value</td>\n",
       "      <td>Primary Tumor</td>\n",
       "      <td>2010</td>\n",
       "      <td>66</td>\n",
       "      <td>'--</td>\n",
       "      <td>female</td>\n",
       "      <td>0.0</td>\n",
       "      <td>0.372</td>\n",
       "      <td>0</td>\n",
       "    </tr>\n",
       "    <tr>\n",
       "      <th>TCGA-76-4928-01B</th>\n",
       "      <td>TCGA-76-4928-01B-01D-1481-05</td>\n",
       "      <td>TCGA-76-4928</td>\n",
       "      <td>Mesenchymal-like</td>\n",
       "      <td>Classical</td>\n",
       "      <td>ME</td>\n",
       "      <td>IDHwt-K2</td>\n",
       "      <td>WT</td>\n",
       "      <td>IDHwt-R2</td>\n",
       "      <td>IDHwt</td>\n",
       "      <td>TCGA-GBM</td>\n",
       "      <td>...</td>\n",
       "      <td>DNA Methylation</td>\n",
       "      <td>Methylation Beta Value</td>\n",
       "      <td>Primary Tumor</td>\n",
       "      <td>2005</td>\n",
       "      <td>85</td>\n",
       "      <td>94</td>\n",
       "      <td>female</td>\n",
       "      <td>1.0</td>\n",
       "      <td>0.257</td>\n",
       "      <td>0</td>\n",
       "    </tr>\n",
       "  </tbody>\n",
       "</table>\n",
       "<p>121 rows × 24 columns</p>\n",
       "</div>"
      ],
      "text/plain": [
       "                                       barcode       patient  \\\n",
       "Sample ID                                                      \n",
       "TCGA-06-0152-01A  TCGA-06-0152-01A-02D-A45W-05  TCGA-06-0152   \n",
       "TCGA-06-6693-01A  TCGA-06-6693-01A-11D-1844-05  TCGA-06-6693   \n",
       "TCGA-19-A60I-01A  TCGA-19-A60I-01A-12D-A33U-05  TCGA-19-A60I   \n",
       "TCGA-76-6193-01A  TCGA-76-6193-01A-11D-1697-05  TCGA-76-6193   \n",
       "TCGA-06-6698-01A  TCGA-06-6698-01A-11D-1844-05  TCGA-06-6698   \n",
       "...                                        ...           ...   \n",
       "TCGA-76-6663-01A  TCGA-76-6663-01A-11D-1844-05  TCGA-76-6663   \n",
       "TCGA-26-5134-01A  TCGA-26-5134-01A-01D-1481-05  TCGA-26-5134   \n",
       "TCGA-RR-A6KC-01A  TCGA-RR-A6KC-01A-31D-A33U-05  TCGA-RR-A6KC   \n",
       "TCGA-28-5209-01A  TCGA-28-5209-01A-01D-1481-05  TCGA-28-5209   \n",
       "TCGA-76-4928-01B  TCGA-76-4928-01B-01D-1481-05  TCGA-76-4928   \n",
       "\n",
       "                 paper_Supervised.DNA.Methylation.Cluster  \\\n",
       "Sample ID                                                   \n",
       "TCGA-06-0152-01A                                      NaN   \n",
       "TCGA-06-6693-01A                             Classic-like   \n",
       "TCGA-19-A60I-01A                             Classic-like   \n",
       "TCGA-76-6193-01A                         Mesenchymal-like   \n",
       "TCGA-06-6698-01A                                 LGm6-GBM   \n",
       "...                                                   ...   \n",
       "TCGA-76-6663-01A                             Classic-like   \n",
       "TCGA-26-5134-01A                         Mesenchymal-like   \n",
       "TCGA-RR-A6KC-01A                             Classic-like   \n",
       "TCGA-28-5209-01A                             Classic-like   \n",
       "TCGA-76-4928-01B                         Mesenchymal-like   \n",
       "\n",
       "                 paper_Original.Subtype paper_Transcriptome.Subtype  \\\n",
       "Sample ID                                                             \n",
       "TCGA-06-0152-01A            Mesenchymal                          ME   \n",
       "TCGA-06-6693-01A                    NaN                         NaN   \n",
       "TCGA-19-A60I-01A                    NaN                         NaN   \n",
       "TCGA-76-6193-01A            Mesenchymal                          ME   \n",
       "TCGA-06-6698-01A                    NaN                         NaN   \n",
       "...                                 ...                         ...   \n",
       "TCGA-76-6663-01A                    NaN                         NaN   \n",
       "TCGA-26-5134-01A              Proneural                         NaN   \n",
       "TCGA-RR-A6KC-01A                    NaN                         NaN   \n",
       "TCGA-28-5209-01A            Mesenchymal                          CL   \n",
       "TCGA-76-4928-01B              Classical                          ME   \n",
       "\n",
       "                 paper_IDH.specific.DNA.Methylation.Cluster paper_IDH.status  \\\n",
       "Sample ID                                                                      \n",
       "TCGA-06-0152-01A                                        NaN               WT   \n",
       "TCGA-06-6693-01A                                   IDHwt-K1               WT   \n",
       "TCGA-19-A60I-01A                                   IDHwt-K1               WT   \n",
       "TCGA-76-6193-01A                                   IDHwt-K2               WT   \n",
       "TCGA-06-6698-01A                                   IDHwt-K3               WT   \n",
       "...                                                     ...              ...   \n",
       "TCGA-76-6663-01A                                   IDHwt-K1               WT   \n",
       "TCGA-26-5134-01A                                   IDHwt-K2               WT   \n",
       "TCGA-RR-A6KC-01A                                   IDHwt-K1               WT   \n",
       "TCGA-28-5209-01A                                   IDHwt-K1               WT   \n",
       "TCGA-76-4928-01B                                   IDHwt-K2               WT   \n",
       "\n",
       "                 paper_IDH.specific.RNA.Expression.Cluster  \\\n",
       "Sample ID                                                    \n",
       "TCGA-06-0152-01A                                       NaN   \n",
       "TCGA-06-6693-01A                                       NaN   \n",
       "TCGA-19-A60I-01A                                       NaN   \n",
       "TCGA-76-6193-01A                                       NaN   \n",
       "TCGA-06-6698-01A                                       NaN   \n",
       "...                                                    ...   \n",
       "TCGA-76-6663-01A                                       NaN   \n",
       "TCGA-26-5134-01A                                  IDHwt-R3   \n",
       "TCGA-RR-A6KC-01A                                       NaN   \n",
       "TCGA-28-5209-01A                                  IDHwt-R1   \n",
       "TCGA-76-4928-01B                                  IDHwt-R2   \n",
       "\n",
       "                 paper_IDH.codel.subtype Project ID  ...    Data Category  \\\n",
       "Sample ID                                            ...                    \n",
       "TCGA-06-0152-01A                   IDHwt   TCGA-GBM  ...  DNA Methylation   \n",
       "TCGA-06-6693-01A                   IDHwt   TCGA-GBM  ...  DNA Methylation   \n",
       "TCGA-19-A60I-01A                   IDHwt   TCGA-GBM  ...  DNA Methylation   \n",
       "TCGA-76-6193-01A                   IDHwt   TCGA-GBM  ...  DNA Methylation   \n",
       "TCGA-06-6698-01A                   IDHwt   TCGA-GBM  ...  DNA Methylation   \n",
       "...                                  ...        ...  ...              ...   \n",
       "TCGA-76-6663-01A                   IDHwt   TCGA-GBM  ...  DNA Methylation   \n",
       "TCGA-26-5134-01A                   IDHwt   TCGA-GBM  ...  DNA Methylation   \n",
       "TCGA-RR-A6KC-01A                   IDHwt   TCGA-GBM  ...  DNA Methylation   \n",
       "TCGA-28-5209-01A                   IDHwt   TCGA-GBM  ...  DNA Methylation   \n",
       "TCGA-76-4928-01B                   IDHwt   TCGA-GBM  ...  DNA Methylation   \n",
       "\n",
       "                               Data Type    Sample Type year of diagnosis  \\\n",
       "Sample ID                                                                   \n",
       "TCGA-06-0152-01A  Methylation Beta Value  Primary Tumor              1995   \n",
       "TCGA-06-6693-01A  Methylation Beta Value  Primary Tumor              1993   \n",
       "TCGA-19-A60I-01A  Methylation Beta Value  Primary Tumor              2012   \n",
       "TCGA-76-6193-01A  Methylation Beta Value  Primary Tumor              2010   \n",
       "TCGA-06-6698-01A  Methylation Beta Value  Primary Tumor              2011   \n",
       "...                                  ...            ...               ...   \n",
       "TCGA-76-6663-01A  Methylation Beta Value  Primary Tumor              2011   \n",
       "TCGA-26-5134-01A  Methylation Beta Value  Primary Tumor              2009   \n",
       "TCGA-RR-A6KC-01A  Methylation Beta Value  Primary Tumor              2010   \n",
       "TCGA-28-5209-01A  Methylation Beta Value  Primary Tumor              2010   \n",
       "TCGA-76-4928-01B  Methylation Beta Value  Primary Tumor              2005   \n",
       "\n",
       "                 age at index days to death  gender  \\\n",
       "Sample ID                                             \n",
       "TCGA-06-0152-01A           68           375    male   \n",
       "TCGA-06-6693-01A           64          3667  female   \n",
       "TCGA-19-A60I-01A           39           '--    male   \n",
       "TCGA-76-6193-01A           78            82    male   \n",
       "TCGA-06-6698-01A           53           '--  female   \n",
       "...                       ...           ...     ...   \n",
       "TCGA-76-6663-01A           44           567  female   \n",
       "TCGA-26-5134-01A           74           '--    male   \n",
       "TCGA-RR-A6KC-01A           55           625    male   \n",
       "TCGA-28-5209-01A           66           '--  female   \n",
       "TCGA-76-4928-01B           85            94  female   \n",
       "\n",
       "                  vital status (0=alive, 1=dead)  Neural signature score  \\\n",
       "Sample ID                                                                  \n",
       "TCGA-06-0152-01A                             1.0                   0.372   \n",
       "TCGA-06-6693-01A                             1.0                   0.392   \n",
       "TCGA-19-A60I-01A                             0.0                   0.405   \n",
       "TCGA-76-6193-01A                             1.0                   0.380   \n",
       "TCGA-06-6698-01A                             0.0                   0.400   \n",
       "...                                          ...                     ...   \n",
       "TCGA-76-6663-01A                             1.0                   0.417   \n",
       "TCGA-26-5134-01A                             0.0                   0.442   \n",
       "TCGA-RR-A6KC-01A                             1.0                   0.336   \n",
       "TCGA-28-5209-01A                             0.0                   0.372   \n",
       "TCGA-76-4928-01B                             1.0                   0.257   \n",
       "\n",
       "                 Neural subgroup (0=low, 1=high)  \n",
       "Sample ID                                         \n",
       "TCGA-06-0152-01A                               0  \n",
       "TCGA-06-6693-01A                               0  \n",
       "TCGA-19-A60I-01A                               0  \n",
       "TCGA-76-6193-01A                               0  \n",
       "TCGA-06-6698-01A                               0  \n",
       "...                                          ...  \n",
       "TCGA-76-6663-01A                               1  \n",
       "TCGA-26-5134-01A                               1  \n",
       "TCGA-RR-A6KC-01A                               0  \n",
       "TCGA-28-5209-01A                               0  \n",
       "TCGA-76-4928-01B                               0  \n",
       "\n",
       "[121 rows x 24 columns]"
      ]
     },
     "execution_count": 30,
     "metadata": {},
     "output_type": "execute_result"
    }
   ],
   "source": [
    "df_groups"
   ]
  },
  {
   "cell_type": "code",
   "execution_count": 31,
   "id": "2ff127a8-0ecd-410c-ac1c-f3582d2c145d",
   "metadata": {},
   "outputs": [],
   "source": [
    "from lifelines import KaplanMeierFitter\n",
    "import matplotlib.pyplot as plt\n",
    "sns.set(style=\"ticks\", font_scale=1.2)\n",
    "plt.rcParams[\"font.family\"] = [\"Inter\"]"
   ]
  },
  {
   "cell_type": "code",
   "execution_count": 34,
   "id": "aac9068f-02c0-4951-a926-e0eadd3514c9",
   "metadata": {},
   "outputs": [
    {
     "data": {
      "text/html": [
       "<div>\n",
       "<style scoped>\n",
       "    .dataframe tbody tr th:only-of-type {\n",
       "        vertical-align: middle;\n",
       "    }\n",
       "\n",
       "    .dataframe tbody tr th {\n",
       "        vertical-align: top;\n",
       "    }\n",
       "\n",
       "    .dataframe thead th {\n",
       "        text-align: right;\n",
       "    }\n",
       "</style>\n",
       "<table border=\"1\" class=\"dataframe\">\n",
       "  <thead>\n",
       "    <tr style=\"text-align: right;\">\n",
       "      <th></th>\n",
       "      <th>barcode</th>\n",
       "      <th>patient</th>\n",
       "      <th>paper_Supervised.DNA.Methylation.Cluster</th>\n",
       "      <th>paper_Original.Subtype</th>\n",
       "      <th>paper_Transcriptome.Subtype</th>\n",
       "      <th>paper_IDH.specific.DNA.Methylation.Cluster</th>\n",
       "      <th>paper_IDH.status</th>\n",
       "      <th>paper_IDH.specific.RNA.Expression.Cluster</th>\n",
       "      <th>paper_IDH.codel.subtype</th>\n",
       "      <th>Project ID</th>\n",
       "      <th>...</th>\n",
       "      <th>Data Type</th>\n",
       "      <th>Sample Type</th>\n",
       "      <th>year of diagnosis</th>\n",
       "      <th>age at index</th>\n",
       "      <th>days to death</th>\n",
       "      <th>gender</th>\n",
       "      <th>vital status (0=alive, 1=dead)</th>\n",
       "      <th>Neural signature score</th>\n",
       "      <th>Neural subgroup (0=low, 1=high)</th>\n",
       "      <th>months</th>\n",
       "    </tr>\n",
       "    <tr>\n",
       "      <th>Sample ID</th>\n",
       "      <th></th>\n",
       "      <th></th>\n",
       "      <th></th>\n",
       "      <th></th>\n",
       "      <th></th>\n",
       "      <th></th>\n",
       "      <th></th>\n",
       "      <th></th>\n",
       "      <th></th>\n",
       "      <th></th>\n",
       "      <th></th>\n",
       "      <th></th>\n",
       "      <th></th>\n",
       "      <th></th>\n",
       "      <th></th>\n",
       "      <th></th>\n",
       "      <th></th>\n",
       "      <th></th>\n",
       "      <th></th>\n",
       "      <th></th>\n",
       "      <th></th>\n",
       "    </tr>\n",
       "  </thead>\n",
       "  <tbody>\n",
       "    <tr>\n",
       "      <th>TCGA-06-0152-01A</th>\n",
       "      <td>TCGA-06-0152-01A-02D-A45W-05</td>\n",
       "      <td>TCGA-06-0152</td>\n",
       "      <td>NaN</td>\n",
       "      <td>Mesenchymal</td>\n",
       "      <td>ME</td>\n",
       "      <td>NaN</td>\n",
       "      <td>WT</td>\n",
       "      <td>NaN</td>\n",
       "      <td>IDHwt</td>\n",
       "      <td>TCGA-GBM</td>\n",
       "      <td>...</td>\n",
       "      <td>Methylation Beta Value</td>\n",
       "      <td>Primary Tumor</td>\n",
       "      <td>1995</td>\n",
       "      <td>68</td>\n",
       "      <td>375</td>\n",
       "      <td>male</td>\n",
       "      <td>1.0</td>\n",
       "      <td>0.372</td>\n",
       "      <td>0</td>\n",
       "      <td>12.328632</td>\n",
       "    </tr>\n",
       "    <tr>\n",
       "      <th>TCGA-76-6193-01A</th>\n",
       "      <td>TCGA-76-6193-01A-11D-1697-05</td>\n",
       "      <td>TCGA-76-6193</td>\n",
       "      <td>Mesenchymal-like</td>\n",
       "      <td>Mesenchymal</td>\n",
       "      <td>ME</td>\n",
       "      <td>IDHwt-K2</td>\n",
       "      <td>WT</td>\n",
       "      <td>NaN</td>\n",
       "      <td>IDHwt</td>\n",
       "      <td>TCGA-GBM</td>\n",
       "      <td>...</td>\n",
       "      <td>Methylation Beta Value</td>\n",
       "      <td>Primary Tumor</td>\n",
       "      <td>2010</td>\n",
       "      <td>78</td>\n",
       "      <td>82</td>\n",
       "      <td>male</td>\n",
       "      <td>1.0</td>\n",
       "      <td>0.380</td>\n",
       "      <td>0</td>\n",
       "      <td>2.695861</td>\n",
       "    </tr>\n",
       "    <tr>\n",
       "      <th>TCGA-26-5135-01A</th>\n",
       "      <td>TCGA-26-5135-01A-01D-1481-05</td>\n",
       "      <td>TCGA-26-5135</td>\n",
       "      <td>Mesenchymal-like</td>\n",
       "      <td>Proneural</td>\n",
       "      <td>ME</td>\n",
       "      <td>IDHwt-K2</td>\n",
       "      <td>WT</td>\n",
       "      <td>IDHwt-R3</td>\n",
       "      <td>IDHwt</td>\n",
       "      <td>TCGA-GBM</td>\n",
       "      <td>...</td>\n",
       "      <td>Methylation Beta Value</td>\n",
       "      <td>Primary Tumor</td>\n",
       "      <td>2009</td>\n",
       "      <td>72</td>\n",
       "      <td>270</td>\n",
       "      <td>female</td>\n",
       "      <td>1.0</td>\n",
       "      <td>0.457</td>\n",
       "      <td>1</td>\n",
       "      <td>8.876615</td>\n",
       "    </tr>\n",
       "    <tr>\n",
       "      <th>TCGA-19-5947-01A</th>\n",
       "      <td>TCGA-19-5947-01A-11D-1697-05</td>\n",
       "      <td>TCGA-19-5947</td>\n",
       "      <td>Mesenchymal-like</td>\n",
       "      <td>Mesenchymal</td>\n",
       "      <td>ME</td>\n",
       "      <td>IDHwt-K2</td>\n",
       "      <td>WT</td>\n",
       "      <td>NaN</td>\n",
       "      <td>IDHwt</td>\n",
       "      <td>TCGA-GBM</td>\n",
       "      <td>...</td>\n",
       "      <td>Methylation Beta Value</td>\n",
       "      <td>Primary Tumor</td>\n",
       "      <td>2010</td>\n",
       "      <td>47</td>\n",
       "      <td>202</td>\n",
       "      <td>female</td>\n",
       "      <td>1.0</td>\n",
       "      <td>0.245</td>\n",
       "      <td>0</td>\n",
       "      <td>6.641023</td>\n",
       "    </tr>\n",
       "    <tr>\n",
       "      <th>TCGA-19-1389-01A</th>\n",
       "      <td>TCGA-19-1389-01A-01D-0595-05</td>\n",
       "      <td>TCGA-19-1389</td>\n",
       "      <td>LGm6-GBM</td>\n",
       "      <td>Mesenchymal</td>\n",
       "      <td>ME</td>\n",
       "      <td>IDHwt-K3</td>\n",
       "      <td>WT</td>\n",
       "      <td>NaN</td>\n",
       "      <td>IDHwt</td>\n",
       "      <td>TCGA-GBM</td>\n",
       "      <td>...</td>\n",
       "      <td>Methylation Beta Value</td>\n",
       "      <td>Primary Tumor</td>\n",
       "      <td>2008</td>\n",
       "      <td>51</td>\n",
       "      <td>141</td>\n",
       "      <td>male</td>\n",
       "      <td>1.0</td>\n",
       "      <td>0.314</td>\n",
       "      <td>0</td>\n",
       "      <td>4.635566</td>\n",
       "    </tr>\n",
       "    <tr>\n",
       "      <th>TCGA-76-6282-01A</th>\n",
       "      <td>TCGA-76-6282-01A-11D-1697-05</td>\n",
       "      <td>TCGA-76-6282</td>\n",
       "      <td>Mesenchymal-like</td>\n",
       "      <td>Mesenchymal</td>\n",
       "      <td>ME</td>\n",
       "      <td>IDHwt-K2</td>\n",
       "      <td>WT</td>\n",
       "      <td>NaN</td>\n",
       "      <td>IDHwt</td>\n",
       "      <td>TCGA-GBM</td>\n",
       "      <td>...</td>\n",
       "      <td>Methylation Beta Value</td>\n",
       "      <td>Primary Tumor</td>\n",
       "      <td>2007</td>\n",
       "      <td>63</td>\n",
       "      <td>519</td>\n",
       "      <td>male</td>\n",
       "      <td>1.0</td>\n",
       "      <td>0.286</td>\n",
       "      <td>0</td>\n",
       "      <td>17.062827</td>\n",
       "    </tr>\n",
       "    <tr>\n",
       "      <th>TCGA-28-5214-01A</th>\n",
       "      <td>TCGA-28-5214-01A-01D-1481-05</td>\n",
       "      <td>TCGA-28-5214</td>\n",
       "      <td>Classic-like</td>\n",
       "      <td>Mesenchymal</td>\n",
       "      <td>ME</td>\n",
       "      <td>IDHwt-K1</td>\n",
       "      <td>WT</td>\n",
       "      <td>NaN</td>\n",
       "      <td>IDHwt</td>\n",
       "      <td>TCGA-GBM</td>\n",
       "      <td>...</td>\n",
       "      <td>Methylation Beta Value</td>\n",
       "      <td>Primary Tumor</td>\n",
       "      <td>2010</td>\n",
       "      <td>53</td>\n",
       "      <td>713</td>\n",
       "      <td>male</td>\n",
       "      <td>1.0</td>\n",
       "      <td>0.406</td>\n",
       "      <td>0</td>\n",
       "      <td>23.440839</td>\n",
       "    </tr>\n",
       "    <tr>\n",
       "      <th>TCGA-06-0650-01A</th>\n",
       "      <td>TCGA-06-0650-01A-02D-1697-05</td>\n",
       "      <td>TCGA-06-0650</td>\n",
       "      <td>LGm6-GBM</td>\n",
       "      <td>Mesenchymal</td>\n",
       "      <td>ME</td>\n",
       "      <td>IDHwt-K3</td>\n",
       "      <td>WT</td>\n",
       "      <td>NaN</td>\n",
       "      <td>IDHwt</td>\n",
       "      <td>TCGA-GBM</td>\n",
       "      <td>...</td>\n",
       "      <td>Methylation Beta Value</td>\n",
       "      <td>Primary Tumor</td>\n",
       "      <td>2007</td>\n",
       "      <td>39</td>\n",
       "      <td>717</td>\n",
       "      <td>female</td>\n",
       "      <td>1.0</td>\n",
       "      <td>0.345</td>\n",
       "      <td>0</td>\n",
       "      <td>23.572344</td>\n",
       "    </tr>\n",
       "    <tr>\n",
       "      <th>TCGA-26-5136-01B</th>\n",
       "      <td>TCGA-26-5136-01B-01D-1481-05</td>\n",
       "      <td>TCGA-26-5136</td>\n",
       "      <td>Mesenchymal-like</td>\n",
       "      <td>Mesenchymal</td>\n",
       "      <td>ME</td>\n",
       "      <td>IDHwt-K2</td>\n",
       "      <td>WT</td>\n",
       "      <td>IDHwt-R2</td>\n",
       "      <td>IDHwt</td>\n",
       "      <td>TCGA-GBM</td>\n",
       "      <td>...</td>\n",
       "      <td>Methylation Beta Value</td>\n",
       "      <td>Primary Tumor</td>\n",
       "      <td>2009</td>\n",
       "      <td>78</td>\n",
       "      <td>577</td>\n",
       "      <td>female</td>\n",
       "      <td>1.0</td>\n",
       "      <td>0.406</td>\n",
       "      <td>0</td>\n",
       "      <td>18.969655</td>\n",
       "    </tr>\n",
       "    <tr>\n",
       "      <th>TCGA-06-5418-01A</th>\n",
       "      <td>TCGA-06-5418-01A-01D-1481-05</td>\n",
       "      <td>TCGA-06-5418</td>\n",
       "      <td>Mesenchymal-like</td>\n",
       "      <td>Mesenchymal</td>\n",
       "      <td>ME</td>\n",
       "      <td>IDHwt-K2</td>\n",
       "      <td>WT</td>\n",
       "      <td>IDHwt-R2</td>\n",
       "      <td>IDHwt</td>\n",
       "      <td>TCGA-GBM</td>\n",
       "      <td>...</td>\n",
       "      <td>Methylation Beta Value</td>\n",
       "      <td>Primary Tumor</td>\n",
       "      <td>2010</td>\n",
       "      <td>75</td>\n",
       "      <td>83</td>\n",
       "      <td>female</td>\n",
       "      <td>1.0</td>\n",
       "      <td>0.424</td>\n",
       "      <td>1</td>\n",
       "      <td>2.728737</td>\n",
       "    </tr>\n",
       "    <tr>\n",
       "      <th>TCGA-06-0210-01A</th>\n",
       "      <td>TCGA-06-0210-01A-01D-A45W-05</td>\n",
       "      <td>TCGA-06-0210</td>\n",
       "      <td>NaN</td>\n",
       "      <td>Mesenchymal</td>\n",
       "      <td>ME</td>\n",
       "      <td>NaN</td>\n",
       "      <td>WT</td>\n",
       "      <td>IDHwt-R2</td>\n",
       "      <td>IDHwt</td>\n",
       "      <td>TCGA-GBM</td>\n",
       "      <td>...</td>\n",
       "      <td>Methylation Beta Value</td>\n",
       "      <td>Primary Tumor</td>\n",
       "      <td>1997</td>\n",
       "      <td>72</td>\n",
       "      <td>225</td>\n",
       "      <td>female</td>\n",
       "      <td>1.0</td>\n",
       "      <td>0.297</td>\n",
       "      <td>0</td>\n",
       "      <td>7.397179</td>\n",
       "    </tr>\n",
       "    <tr>\n",
       "      <th>TCGA-19-5955-01A</th>\n",
       "      <td>TCGA-19-5955-01A-11D-1697-05</td>\n",
       "      <td>TCGA-19-5955</td>\n",
       "      <td>Mesenchymal-like</td>\n",
       "      <td>Mesenchymal</td>\n",
       "      <td>ME</td>\n",
       "      <td>IDHwt-K2</td>\n",
       "      <td>WT</td>\n",
       "      <td>NaN</td>\n",
       "      <td>IDHwt</td>\n",
       "      <td>TCGA-GBM</td>\n",
       "      <td>...</td>\n",
       "      <td>Methylation Beta Value</td>\n",
       "      <td>Primary Tumor</td>\n",
       "      <td>2010</td>\n",
       "      <td>83</td>\n",
       "      <td>54</td>\n",
       "      <td>male</td>\n",
       "      <td>1.0</td>\n",
       "      <td>0.244</td>\n",
       "      <td>0</td>\n",
       "      <td>1.775323</td>\n",
       "    </tr>\n",
       "    <tr>\n",
       "      <th>TCGA-12-5295-01A</th>\n",
       "      <td>TCGA-12-5295-01A-01D-1481-05</td>\n",
       "      <td>TCGA-12-5295</td>\n",
       "      <td>Classic-like</td>\n",
       "      <td>Neural</td>\n",
       "      <td>ME</td>\n",
       "      <td>IDHwt-K1</td>\n",
       "      <td>WT</td>\n",
       "      <td>IDHwt-R1</td>\n",
       "      <td>IDHwt</td>\n",
       "      <td>TCGA-GBM</td>\n",
       "      <td>...</td>\n",
       "      <td>Methylation Beta Value</td>\n",
       "      <td>Primary Tumor</td>\n",
       "      <td>2008</td>\n",
       "      <td>60</td>\n",
       "      <td>454</td>\n",
       "      <td>female</td>\n",
       "      <td>1.0</td>\n",
       "      <td>0.297</td>\n",
       "      <td>0</td>\n",
       "      <td>14.925864</td>\n",
       "    </tr>\n",
       "    <tr>\n",
       "      <th>TCGA-14-0736-01A</th>\n",
       "      <td>TCGA-14-0736-01A-01D-0521-05</td>\n",
       "      <td>TCGA-14-0736</td>\n",
       "      <td>NaN</td>\n",
       "      <td>Mesenchymal</td>\n",
       "      <td>ME</td>\n",
       "      <td>NaN</td>\n",
       "      <td>NaN</td>\n",
       "      <td>NaN</td>\n",
       "      <td>NaN</td>\n",
       "      <td>TCGA-GBM</td>\n",
       "      <td>...</td>\n",
       "      <td>Methylation Beta Value</td>\n",
       "      <td>Primary Tumor</td>\n",
       "      <td>1999</td>\n",
       "      <td>49</td>\n",
       "      <td>460</td>\n",
       "      <td>male</td>\n",
       "      <td>1.0</td>\n",
       "      <td>0.286</td>\n",
       "      <td>0</td>\n",
       "      <td>15.123122</td>\n",
       "    </tr>\n",
       "    <tr>\n",
       "      <th>TCGA-06-0190-01A</th>\n",
       "      <td>TCGA-06-0190-01A-01D-A45W-05</td>\n",
       "      <td>TCGA-06-0190</td>\n",
       "      <td>NaN</td>\n",
       "      <td>Mesenchymal</td>\n",
       "      <td>ME</td>\n",
       "      <td>NaN</td>\n",
       "      <td>WT</td>\n",
       "      <td>IDHwt-R2</td>\n",
       "      <td>IDHwt</td>\n",
       "      <td>TCGA-GBM</td>\n",
       "      <td>...</td>\n",
       "      <td>Methylation Beta Value</td>\n",
       "      <td>Primary Tumor</td>\n",
       "      <td>2006</td>\n",
       "      <td>62</td>\n",
       "      <td>317</td>\n",
       "      <td>male</td>\n",
       "      <td>1.0</td>\n",
       "      <td>0.301</td>\n",
       "      <td>0</td>\n",
       "      <td>10.421804</td>\n",
       "    </tr>\n",
       "    <tr>\n",
       "      <th>TCGA-76-4928-01B</th>\n",
       "      <td>TCGA-76-4928-01B-01D-1481-05</td>\n",
       "      <td>TCGA-76-4928</td>\n",
       "      <td>Mesenchymal-like</td>\n",
       "      <td>Classical</td>\n",
       "      <td>ME</td>\n",
       "      <td>IDHwt-K2</td>\n",
       "      <td>WT</td>\n",
       "      <td>IDHwt-R2</td>\n",
       "      <td>IDHwt</td>\n",
       "      <td>TCGA-GBM</td>\n",
       "      <td>...</td>\n",
       "      <td>Methylation Beta Value</td>\n",
       "      <td>Primary Tumor</td>\n",
       "      <td>2005</td>\n",
       "      <td>85</td>\n",
       "      <td>94</td>\n",
       "      <td>female</td>\n",
       "      <td>1.0</td>\n",
       "      <td>0.257</td>\n",
       "      <td>0</td>\n",
       "      <td>3.090377</td>\n",
       "    </tr>\n",
       "  </tbody>\n",
       "</table>\n",
       "<p>16 rows × 25 columns</p>\n",
       "</div>"
      ],
      "text/plain": [
       "                                       barcode       patient  \\\n",
       "Sample ID                                                      \n",
       "TCGA-06-0152-01A  TCGA-06-0152-01A-02D-A45W-05  TCGA-06-0152   \n",
       "TCGA-76-6193-01A  TCGA-76-6193-01A-11D-1697-05  TCGA-76-6193   \n",
       "TCGA-26-5135-01A  TCGA-26-5135-01A-01D-1481-05  TCGA-26-5135   \n",
       "TCGA-19-5947-01A  TCGA-19-5947-01A-11D-1697-05  TCGA-19-5947   \n",
       "TCGA-19-1389-01A  TCGA-19-1389-01A-01D-0595-05  TCGA-19-1389   \n",
       "TCGA-76-6282-01A  TCGA-76-6282-01A-11D-1697-05  TCGA-76-6282   \n",
       "TCGA-28-5214-01A  TCGA-28-5214-01A-01D-1481-05  TCGA-28-5214   \n",
       "TCGA-06-0650-01A  TCGA-06-0650-01A-02D-1697-05  TCGA-06-0650   \n",
       "TCGA-26-5136-01B  TCGA-26-5136-01B-01D-1481-05  TCGA-26-5136   \n",
       "TCGA-06-5418-01A  TCGA-06-5418-01A-01D-1481-05  TCGA-06-5418   \n",
       "TCGA-06-0210-01A  TCGA-06-0210-01A-01D-A45W-05  TCGA-06-0210   \n",
       "TCGA-19-5955-01A  TCGA-19-5955-01A-11D-1697-05  TCGA-19-5955   \n",
       "TCGA-12-5295-01A  TCGA-12-5295-01A-01D-1481-05  TCGA-12-5295   \n",
       "TCGA-14-0736-01A  TCGA-14-0736-01A-01D-0521-05  TCGA-14-0736   \n",
       "TCGA-06-0190-01A  TCGA-06-0190-01A-01D-A45W-05  TCGA-06-0190   \n",
       "TCGA-76-4928-01B  TCGA-76-4928-01B-01D-1481-05  TCGA-76-4928   \n",
       "\n",
       "                 paper_Supervised.DNA.Methylation.Cluster  \\\n",
       "Sample ID                                                   \n",
       "TCGA-06-0152-01A                                      NaN   \n",
       "TCGA-76-6193-01A                         Mesenchymal-like   \n",
       "TCGA-26-5135-01A                         Mesenchymal-like   \n",
       "TCGA-19-5947-01A                         Mesenchymal-like   \n",
       "TCGA-19-1389-01A                                 LGm6-GBM   \n",
       "TCGA-76-6282-01A                         Mesenchymal-like   \n",
       "TCGA-28-5214-01A                             Classic-like   \n",
       "TCGA-06-0650-01A                                 LGm6-GBM   \n",
       "TCGA-26-5136-01B                         Mesenchymal-like   \n",
       "TCGA-06-5418-01A                         Mesenchymal-like   \n",
       "TCGA-06-0210-01A                                      NaN   \n",
       "TCGA-19-5955-01A                         Mesenchymal-like   \n",
       "TCGA-12-5295-01A                             Classic-like   \n",
       "TCGA-14-0736-01A                                      NaN   \n",
       "TCGA-06-0190-01A                                      NaN   \n",
       "TCGA-76-4928-01B                         Mesenchymal-like   \n",
       "\n",
       "                 paper_Original.Subtype paper_Transcriptome.Subtype  \\\n",
       "Sample ID                                                             \n",
       "TCGA-06-0152-01A            Mesenchymal                          ME   \n",
       "TCGA-76-6193-01A            Mesenchymal                          ME   \n",
       "TCGA-26-5135-01A              Proneural                          ME   \n",
       "TCGA-19-5947-01A            Mesenchymal                          ME   \n",
       "TCGA-19-1389-01A            Mesenchymal                          ME   \n",
       "TCGA-76-6282-01A            Mesenchymal                          ME   \n",
       "TCGA-28-5214-01A            Mesenchymal                          ME   \n",
       "TCGA-06-0650-01A            Mesenchymal                          ME   \n",
       "TCGA-26-5136-01B            Mesenchymal                          ME   \n",
       "TCGA-06-5418-01A            Mesenchymal                          ME   \n",
       "TCGA-06-0210-01A            Mesenchymal                          ME   \n",
       "TCGA-19-5955-01A            Mesenchymal                          ME   \n",
       "TCGA-12-5295-01A                 Neural                          ME   \n",
       "TCGA-14-0736-01A            Mesenchymal                          ME   \n",
       "TCGA-06-0190-01A            Mesenchymal                          ME   \n",
       "TCGA-76-4928-01B              Classical                          ME   \n",
       "\n",
       "                 paper_IDH.specific.DNA.Methylation.Cluster paper_IDH.status  \\\n",
       "Sample ID                                                                      \n",
       "TCGA-06-0152-01A                                        NaN               WT   \n",
       "TCGA-76-6193-01A                                   IDHwt-K2               WT   \n",
       "TCGA-26-5135-01A                                   IDHwt-K2               WT   \n",
       "TCGA-19-5947-01A                                   IDHwt-K2               WT   \n",
       "TCGA-19-1389-01A                                   IDHwt-K3               WT   \n",
       "TCGA-76-6282-01A                                   IDHwt-K2               WT   \n",
       "TCGA-28-5214-01A                                   IDHwt-K1               WT   \n",
       "TCGA-06-0650-01A                                   IDHwt-K3               WT   \n",
       "TCGA-26-5136-01B                                   IDHwt-K2               WT   \n",
       "TCGA-06-5418-01A                                   IDHwt-K2               WT   \n",
       "TCGA-06-0210-01A                                        NaN               WT   \n",
       "TCGA-19-5955-01A                                   IDHwt-K2               WT   \n",
       "TCGA-12-5295-01A                                   IDHwt-K1               WT   \n",
       "TCGA-14-0736-01A                                        NaN              NaN   \n",
       "TCGA-06-0190-01A                                        NaN               WT   \n",
       "TCGA-76-4928-01B                                   IDHwt-K2               WT   \n",
       "\n",
       "                 paper_IDH.specific.RNA.Expression.Cluster  \\\n",
       "Sample ID                                                    \n",
       "TCGA-06-0152-01A                                       NaN   \n",
       "TCGA-76-6193-01A                                       NaN   \n",
       "TCGA-26-5135-01A                                  IDHwt-R3   \n",
       "TCGA-19-5947-01A                                       NaN   \n",
       "TCGA-19-1389-01A                                       NaN   \n",
       "TCGA-76-6282-01A                                       NaN   \n",
       "TCGA-28-5214-01A                                       NaN   \n",
       "TCGA-06-0650-01A                                       NaN   \n",
       "TCGA-26-5136-01B                                  IDHwt-R2   \n",
       "TCGA-06-5418-01A                                  IDHwt-R2   \n",
       "TCGA-06-0210-01A                                  IDHwt-R2   \n",
       "TCGA-19-5955-01A                                       NaN   \n",
       "TCGA-12-5295-01A                                  IDHwt-R1   \n",
       "TCGA-14-0736-01A                                       NaN   \n",
       "TCGA-06-0190-01A                                  IDHwt-R2   \n",
       "TCGA-76-4928-01B                                  IDHwt-R2   \n",
       "\n",
       "                 paper_IDH.codel.subtype Project ID  ...  \\\n",
       "Sample ID                                            ...   \n",
       "TCGA-06-0152-01A                   IDHwt   TCGA-GBM  ...   \n",
       "TCGA-76-6193-01A                   IDHwt   TCGA-GBM  ...   \n",
       "TCGA-26-5135-01A                   IDHwt   TCGA-GBM  ...   \n",
       "TCGA-19-5947-01A                   IDHwt   TCGA-GBM  ...   \n",
       "TCGA-19-1389-01A                   IDHwt   TCGA-GBM  ...   \n",
       "TCGA-76-6282-01A                   IDHwt   TCGA-GBM  ...   \n",
       "TCGA-28-5214-01A                   IDHwt   TCGA-GBM  ...   \n",
       "TCGA-06-0650-01A                   IDHwt   TCGA-GBM  ...   \n",
       "TCGA-26-5136-01B                   IDHwt   TCGA-GBM  ...   \n",
       "TCGA-06-5418-01A                   IDHwt   TCGA-GBM  ...   \n",
       "TCGA-06-0210-01A                   IDHwt   TCGA-GBM  ...   \n",
       "TCGA-19-5955-01A                   IDHwt   TCGA-GBM  ...   \n",
       "TCGA-12-5295-01A                   IDHwt   TCGA-GBM  ...   \n",
       "TCGA-14-0736-01A                     NaN   TCGA-GBM  ...   \n",
       "TCGA-06-0190-01A                   IDHwt   TCGA-GBM  ...   \n",
       "TCGA-76-4928-01B                   IDHwt   TCGA-GBM  ...   \n",
       "\n",
       "                               Data Type    Sample Type year of diagnosis  \\\n",
       "Sample ID                                                                   \n",
       "TCGA-06-0152-01A  Methylation Beta Value  Primary Tumor              1995   \n",
       "TCGA-76-6193-01A  Methylation Beta Value  Primary Tumor              2010   \n",
       "TCGA-26-5135-01A  Methylation Beta Value  Primary Tumor              2009   \n",
       "TCGA-19-5947-01A  Methylation Beta Value  Primary Tumor              2010   \n",
       "TCGA-19-1389-01A  Methylation Beta Value  Primary Tumor              2008   \n",
       "TCGA-76-6282-01A  Methylation Beta Value  Primary Tumor              2007   \n",
       "TCGA-28-5214-01A  Methylation Beta Value  Primary Tumor              2010   \n",
       "TCGA-06-0650-01A  Methylation Beta Value  Primary Tumor              2007   \n",
       "TCGA-26-5136-01B  Methylation Beta Value  Primary Tumor              2009   \n",
       "TCGA-06-5418-01A  Methylation Beta Value  Primary Tumor              2010   \n",
       "TCGA-06-0210-01A  Methylation Beta Value  Primary Tumor              1997   \n",
       "TCGA-19-5955-01A  Methylation Beta Value  Primary Tumor              2010   \n",
       "TCGA-12-5295-01A  Methylation Beta Value  Primary Tumor              2008   \n",
       "TCGA-14-0736-01A  Methylation Beta Value  Primary Tumor              1999   \n",
       "TCGA-06-0190-01A  Methylation Beta Value  Primary Tumor              2006   \n",
       "TCGA-76-4928-01B  Methylation Beta Value  Primary Tumor              2005   \n",
       "\n",
       "                 age at index days to death  gender  \\\n",
       "Sample ID                                             \n",
       "TCGA-06-0152-01A           68           375    male   \n",
       "TCGA-76-6193-01A           78            82    male   \n",
       "TCGA-26-5135-01A           72           270  female   \n",
       "TCGA-19-5947-01A           47           202  female   \n",
       "TCGA-19-1389-01A           51           141    male   \n",
       "TCGA-76-6282-01A           63           519    male   \n",
       "TCGA-28-5214-01A           53           713    male   \n",
       "TCGA-06-0650-01A           39           717  female   \n",
       "TCGA-26-5136-01B           78           577  female   \n",
       "TCGA-06-5418-01A           75            83  female   \n",
       "TCGA-06-0210-01A           72           225  female   \n",
       "TCGA-19-5955-01A           83            54    male   \n",
       "TCGA-12-5295-01A           60           454  female   \n",
       "TCGA-14-0736-01A           49           460    male   \n",
       "TCGA-06-0190-01A           62           317    male   \n",
       "TCGA-76-4928-01B           85            94  female   \n",
       "\n",
       "                 vital status (0=alive, 1=dead)  Neural signature score  \\\n",
       "Sample ID                                                                 \n",
       "TCGA-06-0152-01A                            1.0                   0.372   \n",
       "TCGA-76-6193-01A                            1.0                   0.380   \n",
       "TCGA-26-5135-01A                            1.0                   0.457   \n",
       "TCGA-19-5947-01A                            1.0                   0.245   \n",
       "TCGA-19-1389-01A                            1.0                   0.314   \n",
       "TCGA-76-6282-01A                            1.0                   0.286   \n",
       "TCGA-28-5214-01A                            1.0                   0.406   \n",
       "TCGA-06-0650-01A                            1.0                   0.345   \n",
       "TCGA-26-5136-01B                            1.0                   0.406   \n",
       "TCGA-06-5418-01A                            1.0                   0.424   \n",
       "TCGA-06-0210-01A                            1.0                   0.297   \n",
       "TCGA-19-5955-01A                            1.0                   0.244   \n",
       "TCGA-12-5295-01A                            1.0                   0.297   \n",
       "TCGA-14-0736-01A                            1.0                   0.286   \n",
       "TCGA-06-0190-01A                            1.0                   0.301   \n",
       "TCGA-76-4928-01B                            1.0                   0.257   \n",
       "\n",
       "                  Neural subgroup (0=low, 1=high)     months  \n",
       "Sample ID                                                     \n",
       "TCGA-06-0152-01A                                0  12.328632  \n",
       "TCGA-76-6193-01A                                0   2.695861  \n",
       "TCGA-26-5135-01A                                1   8.876615  \n",
       "TCGA-19-5947-01A                                0   6.641023  \n",
       "TCGA-19-1389-01A                                0   4.635566  \n",
       "TCGA-76-6282-01A                                0  17.062827  \n",
       "TCGA-28-5214-01A                                0  23.440839  \n",
       "TCGA-06-0650-01A                                0  23.572344  \n",
       "TCGA-26-5136-01B                                0  18.969655  \n",
       "TCGA-06-5418-01A                                1   2.728737  \n",
       "TCGA-06-0210-01A                                0   7.397179  \n",
       "TCGA-19-5955-01A                                0   1.775323  \n",
       "TCGA-12-5295-01A                                0  14.925864  \n",
       "TCGA-14-0736-01A                                0  15.123122  \n",
       "TCGA-06-0190-01A                                0  10.421804  \n",
       "TCGA-76-4928-01B                                0   3.090377  \n",
       "\n",
       "[16 rows x 25 columns]"
      ]
     },
     "execution_count": 34,
     "metadata": {},
     "output_type": "execute_result"
    }
   ],
   "source": [
    "tmp"
   ]
  },
  {
   "cell_type": "code",
   "execution_count": 33,
   "id": "3780e53c-d1d3-44ef-b450-0c0d8aa12e9f",
   "metadata": {},
   "outputs": [
    {
     "data": {
      "image/png": "[encoded data removed]",
      "text/plain": [
       "<Figure size 432x288 with 1 Axes>"
      ]
     },
     "metadata": {},
     "output_type": "display_data"
    },
    {
     "data": {
      "image/png": "[encoded data removed]",
      "text/plain": [
       "<Figure size 432x288 with 1 Axes>"
      ]
     },
     "metadata": {},
     "output_type": "display_data"
    }
   ],
   "source": [
    "for gr in sorted(['CL', 'ME']):\n",
    "    \n",
    "    tmp = df_groups.loc[df[df[\"paper_Transcriptome.Subtype\"]==gr].index]\n",
    "    tmp = tmp[tmp[\"vital status (0=alive, 1=dead)\"]==1]\n",
    "    tmp[\"days to death\"] = tmp[\"days to death\"].astype(int)\n",
    "    tmp[\"months\"] = tmp[\"days to death\"]/30.417\n",
    "    groups = tmp[\"Neural subgroup (0=low, 1=high)\"]\n",
    "\n",
    "    i1 = (groups == 0)\n",
    "    i2 = (groups == 1)\n",
    "\n",
    "    durations = pd.DataFrame(tmp[\"months\"], index=tmp.index)\n",
    "    event_observed = tmp[\"vital status (0=alive, 1=dead)\"]\n",
    "\n",
    "    ## fit the model for 1st cohort\n",
    "    kmf1 = KaplanMeierFitter()\n",
    "\n",
    "    n = i1.sum()\n",
    "    kmf1.fit(durations.loc[i1.tolist()], event_observed.loc[i1.tolist()], label=f'Low (n={n})')\n",
    "    a1 = kmf1.plot(ci_show=True, color=\"#f68612\")\n",
    "    n = durations.loc[i1.tolist()].mean()[0]\n",
    "    plt.text(40, 0.4, f\"median survival: {round(n,2)} months\", color=\"#f68612\")\n",
    "\n",
    "    ## fit the model for 2nd cohort\n",
    "    n = i2.sum()\n",
    "    kmf1.fit(durations.loc[i2.tolist()], event_observed.loc[i2.tolist()], label=f'High (n={n})')\n",
    "    kmf1.plot(ax=a1, ci_show=True, color=\"#91191e\")\n",
    "    n = durations.loc[i2.tolist()].mean()[0]\n",
    "\n",
    "    plt.text(40, 0.1, f\"median survival: {round(n,2)} months\", color=\"#91191e\")\n",
    "\n",
    "\n",
    "    plt.xlim(0,80)\n",
    "    plt.title(gr)\n",
    "    plt.savefig(f\"{gr}_KM.pdf\", bbox_inches=\"tight\")\n",
    "    plt.show()"
   ]
  },
  {
   "cell_type": "code",
   "execution_count": 47,
   "id": "a09daf71-c8a5-4e33-a835-aa8204c26ab5",
   "metadata": {},
   "outputs": [],
   "source": []
  },
  {
   "cell_type": "code",
   "execution_count": 49,
   "id": "e69cfc6c-cef4-4681-b7d5-cc50a177f6df",
   "metadata": {},
   "outputs": [],
   "source": []
  },
  {
   "cell_type": "code",
   "execution_count": 50,
   "id": "7a5977c3-0977-4ae4-b15d-6841969f3ed3",
   "metadata": {},
   "outputs": [],
   "source": []
  },
  {
   "cell_type": "code",
   "execution_count": 52,
   "id": "4ca061e8-c9e7-4a0b-9bdc-7d78b1f9f201",
   "metadata": {},
   "outputs": [],
   "source": []
  },
  {
   "cell_type": "code",
   "execution_count": 55,
   "id": "73cd064c-dfee-4f0b-bd72-ff9c27d86ce4",
   "metadata": {},
   "outputs": [],
   "source": []
  },
  {
   "cell_type": "code",
   "execution_count": 82,
   "id": "4d95aeb3-dafa-4ebf-9d91-be8122ddc41a",
   "metadata": {},
   "outputs": [
    {
     "data": {
      "text/plain": [
       "Text(0.5, 1.0, 'CL')"
      ]
     },
     "execution_count": 82,
     "metadata": {},
     "output_type": "execute_result"
    },
    {
     "data": {
      "image/png": "[encoded data removed]",
      "text/plain": [
       "<Figure size 432x288 with 1 Axes>"
      ]
     },
     "metadata": {},
     "output_type": "display_data"
    }
   ],
   "source": []
  },
  {
   "cell_type": "code",
   "execution_count": 83,
   "id": "e3954e8d-1631-4692-bfd9-4cb931233bf7",
   "metadata": {},
   "outputs": [],
   "source": [
    "tmp = df_groups.loc[df[df[\"paper_Transcriptome.Subtype\"]==\"ME\"].index]\n",
    "tmp = tmp[tmp[\"vital status (0=alive, 1=dead)\"]==1]"
   ]
  },
  {
   "cell_type": "code",
   "execution_count": 84,
   "id": "bd93ab20-b709-4edb-ad76-330574524434",
   "metadata": {},
   "outputs": [],
   "source": [
    "tmp[\"days to death\"] = tmp[\"days to death\"].astype(int)\n",
    "tmp[\"months\"] = tmp[\"days to death\"]/30.417"
   ]
  },
  {
   "cell_type": "code",
   "execution_count": 85,
   "id": "8f6a022f-3aaf-469e-92aa-89594cd9a5d5",
   "metadata": {},
   "outputs": [
    {
     "data": {
      "text/plain": [
       "0    14\n",
       "1     2\n",
       "Name: Neural subgroup (0=low, 1=high), dtype: int64"
      ]
     },
     "execution_count": 85,
     "metadata": {},
     "output_type": "execute_result"
    }
   ],
   "source": [
    "tmp[\"Neural subgroup (0=low, 1=high)\"].value_counts()"
   ]
  },
  {
   "cell_type": "code",
   "execution_count": 86,
   "id": "40bab2e5-eef8-4578-838f-bd9999958b89",
   "metadata": {},
   "outputs": [
    {
     "name": "stderr",
     "output_type": "stream",
     "text": [
      "/tmp/ipykernel_59088/3355537109.py:1: FutureWarning:\n",
      "\n",
      "The default value of numeric_only in DataFrameGroupBy.mean is deprecated. In a future version, numeric_only will default to False. Either specify numeric_only or select only columns which should be valid for the function.\n",
      "\n"
     ]
    },
    {
     "data": {
      "text/html": [
       "<div>\n",
       "<style scoped>\n",
       "    .dataframe tbody tr th:only-of-type {\n",
       "        vertical-align: middle;\n",
       "    }\n",
       "\n",
       "    .dataframe tbody tr th {\n",
       "        vertical-align: top;\n",
       "    }\n",
       "\n",
       "    .dataframe thead th {\n",
       "        text-align: right;\n",
       "    }\n",
       "</style>\n",
       "<table border=\"1\" class=\"dataframe\">\n",
       "  <thead>\n",
       "    <tr style=\"text-align: right;\">\n",
       "      <th></th>\n",
       "      <th>year of diagnosis</th>\n",
       "      <th>age at index</th>\n",
       "      <th>days to death</th>\n",
       "      <th>vital status (0=alive, 1=dead)</th>\n",
       "      <th>Neural signature score</th>\n",
       "      <th>months</th>\n",
       "    </tr>\n",
       "    <tr>\n",
       "      <th>Neural subgroup (0=low, 1=high)</th>\n",
       "      <th></th>\n",
       "      <th></th>\n",
       "      <th></th>\n",
       "      <th></th>\n",
       "      <th></th>\n",
       "      <th></th>\n",
       "    </tr>\n",
       "  </thead>\n",
       "  <tbody>\n",
       "    <tr>\n",
       "      <th>0</th>\n",
       "      <td>2005.785714</td>\n",
       "      <td>63.428571</td>\n",
       "      <td>352.142857</td>\n",
       "      <td>1.0</td>\n",
       "      <td>0.316857</td>\n",
       "      <td>11.577173</td>\n",
       "    </tr>\n",
       "    <tr>\n",
       "      <th>1</th>\n",
       "      <td>2009.500000</td>\n",
       "      <td>73.500000</td>\n",
       "      <td>176.500000</td>\n",
       "      <td>1.0</td>\n",
       "      <td>0.440500</td>\n",
       "      <td>5.802676</td>\n",
       "    </tr>\n",
       "  </tbody>\n",
       "</table>\n",
       "</div>"
      ],
      "text/plain": [
       "                                 year of diagnosis  age at index  \\\n",
       "Neural subgroup (0=low, 1=high)                                    \n",
       "0                                      2005.785714     63.428571   \n",
       "1                                      2009.500000     73.500000   \n",
       "\n",
       "                                 days to death  \\\n",
       "Neural subgroup (0=low, 1=high)                  \n",
       "0                                   352.142857   \n",
       "1                                   176.500000   \n",
       "\n",
       "                                 vital status (0=alive, 1=dead)  \\\n",
       "Neural subgroup (0=low, 1=high)                                   \n",
       "0                                                           1.0   \n",
       "1                                                           1.0   \n",
       "\n",
       "                                 Neural signature score     months  \n",
       "Neural subgroup (0=low, 1=high)                                     \n",
       "0                                              0.316857  11.577173  \n",
       "1                                              0.440500   5.802676  "
      ]
     },
     "execution_count": 86,
     "metadata": {},
     "output_type": "execute_result"
    }
   ],
   "source": [
    "tmp.groupby(\"Neural subgroup (0=low, 1=high)\").agg(\"mean\")"
   ]
  },
  {
   "cell_type": "code",
   "execution_count": 87,
   "id": "0393c585-2679-4aea-a3af-e7f50d1aff27",
   "metadata": {},
   "outputs": [],
   "source": [
    "from lifelines import KaplanMeierFitter"
   ]
  },
  {
   "cell_type": "code",
   "execution_count": 88,
   "id": "68440394-71ff-4461-8747-d9bbed1dd521",
   "metadata": {},
   "outputs": [],
   "source": [
    "groups = tmp[\"Neural subgroup (0=low, 1=high)\"]\n",
    "\n",
    "i1 = (groups == 0)\n",
    "i2 = (groups == 1)"
   ]
  },
  {
   "cell_type": "code",
   "execution_count": 89,
   "id": "9cdda00c-52c7-48ef-989e-f077f1ad44c1",
   "metadata": {},
   "outputs": [],
   "source": [
    "durations = pd.DataFrame(tmp[\"months\"], index=tmp.index)\n",
    "event_observed = tmp[\"vital status (0=alive, 1=dead)\"]"
   ]
  },
  {
   "cell_type": "code",
   "execution_count": 90,
   "id": "066a481e-5993-4215-9368-b1742b2d40fa",
   "metadata": {},
   "outputs": [],
   "source": [
    "import matplotlib.pyplot as plt\n",
    "sns.set(style=\"ticks\", font_scale=1.2)\n",
    "plt.rcParams[\"font.family\"] = [\"Inter\"]"
   ]
  },
  {
   "cell_type": "code",
   "execution_count": 92,
   "id": "3dffd894-84f0-4baa-a49a-d4a3e1bb9281",
   "metadata": {},
   "outputs": [
    {
     "data": {
      "text/plain": [
       "Text(0.5, 1.0, 'ME')"
      ]
     },
     "execution_count": 92,
     "metadata": {},
     "output_type": "execute_result"
    },
    {
     "data": {
      "image/png": "[encoded data removed]",
      "text/plain": [
       "<Figure size 432x288 with 1 Axes>"
      ]
     },
     "metadata": {},
     "output_type": "display_data"
    }
   ],
   "source": [
    "## fit the model for 1st cohort\n",
    "kmf1 = KaplanMeierFitter()\n",
    "\n",
    "n = i1.sum()\n",
    "kmf1.fit(durations.loc[i1.tolist()], event_observed.loc[i1.tolist()], label=f'Low (n={n})')\n",
    "a1 = kmf1.plot(ci_show=True, color=\"#f68612\")\n",
    "n = durations.loc[i1.tolist()].mean()[0]\n",
    "plt.text(40, 0.4, f\"median survival: {round(n,2)} months\", color=\"#f68612\")\n",
    "\n",
    "## fit the model for 2nd cohort\n",
    "n = i2.sum()\n",
    "kmf1.fit(durations.loc[i2.tolist()], event_observed.loc[i2.tolist()], label=f'High (n={n})')\n",
    "kmf1.plot(ax=a1, ci_show=True, color=\"#91191e\")\n",
    "n = durations.loc[i2.tolist()].mean()[0]\n",
    "\n",
    "plt.text(40, 0.1, f\"median survival: {round(n,2)} months\", color=\"#91191e\")\n",
    "\n",
    "\n",
    "plt.xlim(0,80)\n",
    "plt.title(\"ME\")"
   ]
  },
  {
   "cell_type": "markdown",
   "id": "a77cc0fb-605d-49fd-866e-ede7930c035f",
   "metadata": {},
   "source": [
    "-----"
   ]
  },
  {
   "cell_type": "code",
   "execution_count": 30,
   "id": "ea64ff54-bc4f-4f74-b8d3-eb534ed86ba4",
   "metadata": {},
   "outputs": [],
   "source": [
    "crosstab = pd.crosstab(df[\"Neural subgroup (0=low, 1=high)\"], df[\"paper_Supervised.DNA.Methylation.Cluster\"])"
   ]
  },
  {
   "cell_type": "code",
   "execution_count": 31,
   "id": "e288131e-6fb4-4436-a85f-35a93f3750d2",
   "metadata": {},
   "outputs": [
    {
     "data": {
      "text/html": [
       "<div>\n",
       "<style scoped>\n",
       "    .dataframe tbody tr th:only-of-type {\n",
       "        vertical-align: middle;\n",
       "    }\n",
       "\n",
       "    .dataframe tbody tr th {\n",
       "        vertical-align: top;\n",
       "    }\n",
       "\n",
       "    .dataframe thead th {\n",
       "        text-align: right;\n",
       "    }\n",
       "</style>\n",
       "<table border=\"1\" class=\"dataframe\">\n",
       "  <thead>\n",
       "    <tr style=\"text-align: right;\">\n",
       "      <th>paper_Supervised.DNA.Methylation.Cluster</th>\n",
       "      <th>Classic-like</th>\n",
       "      <th>LGm6-GBM</th>\n",
       "      <th>Mesenchymal-like</th>\n",
       "    </tr>\n",
       "    <tr>\n",
       "      <th>Neural subgroup (0=low, 1=high)</th>\n",
       "      <th></th>\n",
       "      <th></th>\n",
       "      <th></th>\n",
       "    </tr>\n",
       "  </thead>\n",
       "  <tbody>\n",
       "    <tr>\n",
       "      <th>0</th>\n",
       "      <td>35</td>\n",
       "      <td>3</td>\n",
       "      <td>26</td>\n",
       "    </tr>\n",
       "    <tr>\n",
       "      <th>1</th>\n",
       "      <td>17</td>\n",
       "      <td>3</td>\n",
       "      <td>27</td>\n",
       "    </tr>\n",
       "  </tbody>\n",
       "</table>\n",
       "</div>"
      ],
      "text/plain": [
       "paper_Supervised.DNA.Methylation.Cluster  Classic-like  LGm6-GBM  \\\n",
       "Neural subgroup (0=low, 1=high)                                    \n",
       "0                                                   35         3   \n",
       "1                                                   17         3   \n",
       "\n",
       "paper_Supervised.DNA.Methylation.Cluster  Mesenchymal-like  \n",
       "Neural subgroup (0=low, 1=high)                             \n",
       "0                                                       26  \n",
       "1                                                       27  "
      ]
     },
     "execution_count": 31,
     "metadata": {},
     "output_type": "execute_result"
    }
   ],
   "source": [
    "crosstab"
   ]
  },
  {
   "cell_type": "code",
   "execution_count": 32,
   "id": "c264f18c-724c-4615-a53f-f2d2a67c8ec0",
   "metadata": {},
   "outputs": [],
   "source": [
    "import seaborn as sns\n",
    "colors = sns.color_palette(\"colorblind\", 2+3).as_hex()\n",
    "df_nodes = pd.DataFrame(index=list(range(2+3)),\n",
    "                     columns = [\"ID\", \"Label\", \"Color\"])\n",
    "df_nodes[\"ID\"] = df_nodes.index.tolist()\n",
    "df_nodes[\"Color\"] = colors\n",
    "df_nodes[\"Label\"] = crosstab.index.tolist()+crosstab.columns.tolist()"
   ]
  },
  {
   "cell_type": "code",
   "execution_count": 33,
   "id": "bb011981-428b-42b3-9527-85046ccce152",
   "metadata": {},
   "outputs": [],
   "source": [
    "df_nodes[\"Label\"].replace({0: \"Low\", 1: \"High\"}, inplace=True)"
   ]
  },
  {
   "cell_type": "code",
   "execution_count": 34,
   "id": "55d4a5ab-703a-45f6-895c-9a2d58c3a69b",
   "metadata": {},
   "outputs": [],
   "source": [
    "df_links = pd.DataFrame(index=list(range(2*3)),\n",
    "                        columns=[\"Source\", \"Target\", \"Value\", \"Link Color\"])\n",
    "df_links[\"Link Color\"] = [\"#f68612\"]*3 + [\"#91191e\"]*3\n",
    "df_links[\"Target\"] = crosstab.columns.tolist() + crosstab.columns.tolist()\n",
    "df_links[\"Source\"] = [\"Low\"]*3 + [\"High\"]*3"
   ]
  },
  {
   "cell_type": "code",
   "execution_count": 35,
   "id": "17ede082-1a87-4c43-8d63-8527c7c20cbb",
   "metadata": {},
   "outputs": [],
   "source": [
    "df_nodes.Color = [\"#f68612\", \"#91191e\"] + df_nodes.Color.tolist()[2:]"
   ]
  },
  {
   "cell_type": "code",
   "execution_count": 36,
   "id": "c424c5c6-4652-4378-8912-c98274490786",
   "metadata": {},
   "outputs": [],
   "source": [
    "for idx in crosstab.index:\n",
    "    for col in crosstab.columns:\n",
    "        val = crosstab.loc[idx, col]\n",
    "        # print(val)\n",
    "        if idx==0:\n",
    "            gr=\"Low\"\n",
    "        else:\n",
    "            gr=\"High\"\n",
    "        df_links.loc[(df_links.Source==gr)&(df_links.Target==col), \"Value\"] = val"
   ]
  },
  {
   "cell_type": "code",
   "execution_count": 37,
   "id": "f1c2c724-159f-46f6-aef9-3de94828bbc5",
   "metadata": {},
   "outputs": [],
   "source": [
    "mapping = dict(zip(df_nodes.Label.tolist(),\n",
    "         df_nodes.ID.tolist()))\n",
    "df_links.replace(mapping, inplace=True)"
   ]
  },
  {
   "cell_type": "code",
   "execution_count": 38,
   "id": "922ccaa5-4e09-4283-ad2e-e4e8f8409195",
   "metadata": {},
   "outputs": [],
   "source": [
    "for row in crosstab.index:\n",
    "    if row==0:\n",
    "        l = \"Low\"\n",
    "    else:\n",
    "        l = \"High\"\n",
    "    e = crosstab.loc[row].sum()\n",
    "    df_nodes[\"Label\"].replace({f\"{l}\": f\"{l} (n={e})\"}, inplace=True)\n",
    "for col in crosstab.columns:\n",
    "\n",
    "    e = crosstab[col].sum()\n",
    "    df_nodes[\"Label\"].replace({f\"{col}\": f\"{col} (n={e})\"}, inplace=True)"
   ]
  },
  {
   "cell_type": "code",
   "execution_count": 39,
   "id": "dbf3b7f2-3dea-48a4-96c3-5cde03e7b105",
   "metadata": {},
   "outputs": [
    {
     "data": {
      "text/html": [
       "<div>\n",
       "<style scoped>\n",
       "    .dataframe tbody tr th:only-of-type {\n",
       "        vertical-align: middle;\n",
       "    }\n",
       "\n",
       "    .dataframe tbody tr th {\n",
       "        vertical-align: top;\n",
       "    }\n",
       "\n",
       "    .dataframe thead th {\n",
       "        text-align: right;\n",
       "    }\n",
       "</style>\n",
       "<table border=\"1\" class=\"dataframe\">\n",
       "  <thead>\n",
       "    <tr style=\"text-align: right;\">\n",
       "      <th></th>\n",
       "      <th>Source</th>\n",
       "      <th>Target</th>\n",
       "      <th>Value</th>\n",
       "      <th>Link Color</th>\n",
       "    </tr>\n",
       "  </thead>\n",
       "  <tbody>\n",
       "    <tr>\n",
       "      <th>0</th>\n",
       "      <td>0</td>\n",
       "      <td>2</td>\n",
       "      <td>35</td>\n",
       "      <td>#f68612</td>\n",
       "    </tr>\n",
       "    <tr>\n",
       "      <th>1</th>\n",
       "      <td>0</td>\n",
       "      <td>3</td>\n",
       "      <td>3</td>\n",
       "      <td>#f68612</td>\n",
       "    </tr>\n",
       "    <tr>\n",
       "      <th>2</th>\n",
       "      <td>0</td>\n",
       "      <td>4</td>\n",
       "      <td>26</td>\n",
       "      <td>#f68612</td>\n",
       "    </tr>\n",
       "    <tr>\n",
       "      <th>3</th>\n",
       "      <td>1</td>\n",
       "      <td>2</td>\n",
       "      <td>17</td>\n",
       "      <td>#91191e</td>\n",
       "    </tr>\n",
       "    <tr>\n",
       "      <th>4</th>\n",
       "      <td>1</td>\n",
       "      <td>3</td>\n",
       "      <td>3</td>\n",
       "      <td>#91191e</td>\n",
       "    </tr>\n",
       "    <tr>\n",
       "      <th>5</th>\n",
       "      <td>1</td>\n",
       "      <td>4</td>\n",
       "      <td>27</td>\n",
       "      <td>#91191e</td>\n",
       "    </tr>\n",
       "  </tbody>\n",
       "</table>\n",
       "</div>"
      ],
      "text/plain": [
       "   Source  Target  Value Link Color\n",
       "0       0       2     35    #f68612\n",
       "1       0       3      3    #f68612\n",
       "2       0       4     26    #f68612\n",
       "3       1       2     17    #91191e\n",
       "4       1       3      3    #91191e\n",
       "5       1       4     27    #91191e"
      ]
     },
     "execution_count": 39,
     "metadata": {},
     "output_type": "execute_result"
    }
   ],
   "source": [
    "df_links"
   ]
  },
  {
   "cell_type": "code",
   "execution_count": 40,
   "id": "60e532b5-ed72-4d56-ac20-b6a4af5fb49e",
   "metadata": {},
   "outputs": [
    {
     "data": {
      "text/html": [
       "        <script type=\"text/javascript\">\n",
       "        window.PlotlyConfig = {MathJaxConfig: 'local'};\n",
       "        if (window.MathJax && window.MathJax.Hub && window.MathJax.Hub.Config) {window.MathJax.Hub.Config({SVG: {font: \"STIX-Web\"}});}\n",
       "        if (typeof require !== 'undefined') {\n",
       "        require.undef(\"plotly\");\n",
       "        requirejs.config({\n",
       "            paths: {\n",
       "                'plotly': ['https://cdn.plot.ly/plotly-2.14.0.min']\n",
       "            }\n",
       "        });\n",
       "        require(['plotly'], function(Plotly) {\n",
       "            window._Plotly = Plotly;\n",
       "        });\n",
       "        }\n",
       "        </script>\n",
       "        "
      ]
     },
     "metadata": {},
     "output_type": "display_data"
    }
   ],
   "source": [
    "# imports\n",
    "import pandas as pd\n",
    "import numpy as np\n",
    "import plotly.graph_objs as go\n",
    "from plotly.offline import download_plotlyjs, init_notebook_mode, plot, iplot\n",
    "init_notebook_mode(connected=True)"
   ]
  },
  {
   "cell_type": "code",
   "execution_count": 41,
   "id": "3302f2f3-2f39-4357-9cbf-272d41df04b3",
   "metadata": {},
   "outputs": [
    {
     "data": {
      "text/html": [
       "<div>\n",
       "<style scoped>\n",
       "    .dataframe tbody tr th:only-of-type {\n",
       "        vertical-align: middle;\n",
       "    }\n",
       "\n",
       "    .dataframe tbody tr th {\n",
       "        vertical-align: top;\n",
       "    }\n",
       "\n",
       "    .dataframe thead th {\n",
       "        text-align: right;\n",
       "    }\n",
       "</style>\n",
       "<table border=\"1\" class=\"dataframe\">\n",
       "  <thead>\n",
       "    <tr style=\"text-align: right;\">\n",
       "      <th></th>\n",
       "      <th>Source</th>\n",
       "      <th>Target</th>\n",
       "      <th>Value</th>\n",
       "      <th>Link Color</th>\n",
       "    </tr>\n",
       "  </thead>\n",
       "  <tbody>\n",
       "    <tr>\n",
       "      <th>0</th>\n",
       "      <td>0</td>\n",
       "      <td>2</td>\n",
       "      <td>35</td>\n",
       "      <td>#f68612</td>\n",
       "    </tr>\n",
       "    <tr>\n",
       "      <th>1</th>\n",
       "      <td>0</td>\n",
       "      <td>3</td>\n",
       "      <td>3</td>\n",
       "      <td>#f68612</td>\n",
       "    </tr>\n",
       "    <tr>\n",
       "      <th>2</th>\n",
       "      <td>0</td>\n",
       "      <td>4</td>\n",
       "      <td>26</td>\n",
       "      <td>#f68612</td>\n",
       "    </tr>\n",
       "    <tr>\n",
       "      <th>3</th>\n",
       "      <td>1</td>\n",
       "      <td>2</td>\n",
       "      <td>17</td>\n",
       "      <td>#91191e</td>\n",
       "    </tr>\n",
       "    <tr>\n",
       "      <th>4</th>\n",
       "      <td>1</td>\n",
       "      <td>3</td>\n",
       "      <td>3</td>\n",
       "      <td>#91191e</td>\n",
       "    </tr>\n",
       "    <tr>\n",
       "      <th>5</th>\n",
       "      <td>1</td>\n",
       "      <td>4</td>\n",
       "      <td>27</td>\n",
       "      <td>#91191e</td>\n",
       "    </tr>\n",
       "  </tbody>\n",
       "</table>\n",
       "</div>"
      ],
      "text/plain": [
       "   Source  Target  Value Link Color\n",
       "0       0       2     35    #f68612\n",
       "1       0       3      3    #f68612\n",
       "2       0       4     26    #f68612\n",
       "3       1       2     17    #91191e\n",
       "4       1       3      3    #91191e\n",
       "5       1       4     27    #91191e"
      ]
     },
     "execution_count": 41,
     "metadata": {},
     "output_type": "execute_result"
    }
   ],
   "source": [
    "df_links"
   ]
  },
  {
   "cell_type": "code",
   "execution_count": 42,
   "id": "32f933d7-320b-4c86-831a-1456174bea31",
   "metadata": {},
   "outputs": [],
   "source": [
    "df_links[\"Source\"] = df_links[\"Source\"].astype(\"category\").cat.reorder_categories([0,1])\n",
    "df_links[\"Target\"] = df_links[\"Target\"].astype(\"category\").cat.reorder_categories([2,3,4])"
   ]
  },
  {
   "cell_type": "code",
   "execution_count": 43,
   "id": "7819f9f4-c459-4bb7-8b7c-6f01d601bffa",
   "metadata": {},
   "outputs": [
    {
     "data": {
      "text/html": [
       "<div>\n",
       "<style scoped>\n",
       "    .dataframe tbody tr th:only-of-type {\n",
       "        vertical-align: middle;\n",
       "    }\n",
       "\n",
       "    .dataframe tbody tr th {\n",
       "        vertical-align: top;\n",
       "    }\n",
       "\n",
       "    .dataframe thead th {\n",
       "        text-align: right;\n",
       "    }\n",
       "</style>\n",
       "<table border=\"1\" class=\"dataframe\">\n",
       "  <thead>\n",
       "    <tr style=\"text-align: right;\">\n",
       "      <th></th>\n",
       "      <th>Source</th>\n",
       "      <th>Target</th>\n",
       "      <th>Value</th>\n",
       "      <th>Link Color</th>\n",
       "    </tr>\n",
       "  </thead>\n",
       "  <tbody>\n",
       "    <tr>\n",
       "      <th>0</th>\n",
       "      <td>0</td>\n",
       "      <td>2</td>\n",
       "      <td>35</td>\n",
       "      <td>#f68612</td>\n",
       "    </tr>\n",
       "    <tr>\n",
       "      <th>1</th>\n",
       "      <td>0</td>\n",
       "      <td>3</td>\n",
       "      <td>3</td>\n",
       "      <td>#f68612</td>\n",
       "    </tr>\n",
       "    <tr>\n",
       "      <th>2</th>\n",
       "      <td>0</td>\n",
       "      <td>4</td>\n",
       "      <td>26</td>\n",
       "      <td>#f68612</td>\n",
       "    </tr>\n",
       "    <tr>\n",
       "      <th>3</th>\n",
       "      <td>1</td>\n",
       "      <td>2</td>\n",
       "      <td>17</td>\n",
       "      <td>#91191e</td>\n",
       "    </tr>\n",
       "    <tr>\n",
       "      <th>4</th>\n",
       "      <td>1</td>\n",
       "      <td>3</td>\n",
       "      <td>3</td>\n",
       "      <td>#91191e</td>\n",
       "    </tr>\n",
       "    <tr>\n",
       "      <th>5</th>\n",
       "      <td>1</td>\n",
       "      <td>4</td>\n",
       "      <td>27</td>\n",
       "      <td>#91191e</td>\n",
       "    </tr>\n",
       "  </tbody>\n",
       "</table>\n",
       "</div>"
      ],
      "text/plain": [
       "  Source Target  Value Link Color\n",
       "0      0      2     35    #f68612\n",
       "1      0      3      3    #f68612\n",
       "2      0      4     26    #f68612\n",
       "3      1      2     17    #91191e\n",
       "4      1      3      3    #91191e\n",
       "5      1      4     27    #91191e"
      ]
     },
     "execution_count": 43,
     "metadata": {},
     "output_type": "execute_result"
    }
   ],
   "source": [
    "df_links"
   ]
  },
  {
   "cell_type": "code",
   "execution_count": 44,
   "id": "db1a80e7-35ba-4970-b3de-33a909eb921e",
   "metadata": {},
   "outputs": [
    {
     "data": {
      "text/html": [
       "<div>\n",
       "<style scoped>\n",
       "    .dataframe tbody tr th:only-of-type {\n",
       "        vertical-align: middle;\n",
       "    }\n",
       "\n",
       "    .dataframe tbody tr th {\n",
       "        vertical-align: top;\n",
       "    }\n",
       "\n",
       "    .dataframe thead th {\n",
       "        text-align: right;\n",
       "    }\n",
       "</style>\n",
       "<table border=\"1\" class=\"dataframe\">\n",
       "  <thead>\n",
       "    <tr style=\"text-align: right;\">\n",
       "      <th></th>\n",
       "      <th>ID</th>\n",
       "      <th>Label</th>\n",
       "      <th>Color</th>\n",
       "    </tr>\n",
       "  </thead>\n",
       "  <tbody>\n",
       "    <tr>\n",
       "      <th>0</th>\n",
       "      <td>0</td>\n",
       "      <td>Low (n=64)</td>\n",
       "      <td>#f68612</td>\n",
       "    </tr>\n",
       "    <tr>\n",
       "      <th>1</th>\n",
       "      <td>1</td>\n",
       "      <td>High (n=47)</td>\n",
       "      <td>#91191e</td>\n",
       "    </tr>\n",
       "    <tr>\n",
       "      <th>2</th>\n",
       "      <td>2</td>\n",
       "      <td>Classic-like (n=52)</td>\n",
       "      <td>#029e73</td>\n",
       "    </tr>\n",
       "    <tr>\n",
       "      <th>3</th>\n",
       "      <td>3</td>\n",
       "      <td>LGm6-GBM (n=6)</td>\n",
       "      <td>#d55e00</td>\n",
       "    </tr>\n",
       "    <tr>\n",
       "      <th>4</th>\n",
       "      <td>4</td>\n",
       "      <td>Mesenchymal-like (n=53)</td>\n",
       "      <td>#cc78bc</td>\n",
       "    </tr>\n",
       "  </tbody>\n",
       "</table>\n",
       "</div>"
      ],
      "text/plain": [
       "   ID                    Label    Color\n",
       "0   0               Low (n=64)  #f68612\n",
       "1   1              High (n=47)  #91191e\n",
       "2   2      Classic-like (n=52)  #029e73\n",
       "3   3           LGm6-GBM (n=6)  #d55e00\n",
       "4   4  Mesenchymal-like (n=53)  #cc78bc"
      ]
     },
     "execution_count": 44,
     "metadata": {},
     "output_type": "execute_result"
    }
   ],
   "source": [
    "df_nodes"
   ]
  },
  {
   "cell_type": "code",
   "execution_count": 45,
   "id": "3462a3f5-b05d-40f4-a503-9b45d00a53b0",
   "metadata": {},
   "outputs": [],
   "source": [
    "# Sankey plot setup\n",
    "data_trace = dict(\n",
    "    type='sankey',\n",
    "    domain = dict(\n",
    "      x =  (0.,1.),\n",
    "      y =  (0.,1.)\n",
    "    ),\n",
    "    orientation = \"h\",\n",
    "    valueformat = \".0f\",\n",
    "    node = dict(\n",
    "      pad = 10,\n",
    "    # thickness = 30,\n",
    "      line = dict(\n",
    "        color = \"black\",\n",
    "        width = 0\n",
    "      ),\n",
    "      label =  df_nodes['Label'].dropna(axis=0, how='any'),\n",
    "      color = df_nodes['Color']\n",
    "    ),\n",
    "    link = dict(\n",
    "      source = df_links['Source'].dropna(axis=0, how='any'),\n",
    "      target = df_links['Target'].dropna(axis=0, how='any'),\n",
    "      value = df_links['Value'].dropna(axis=0, how='any'),\n",
    "      color = df_links['Link Color'].dropna(axis=0, how='any'),\n",
    "  )\n",
    ")"
   ]
  },
  {
   "cell_type": "code",
   "execution_count": 46,
   "id": "0533c134-e9e9-448d-b579-8263efd3d539",
   "metadata": {},
   "outputs": [
    {
     "data": {
      "application/vnd.plotly.v1+json": {
       "config": {
        "linkText": "Export to plot.ly",
        "plotlyServerURL": "https://plot.ly",
        "showLink": false
       },
       "data": [
        {
         "domain": {
          "x": [
           0,
           1
          ],
          "y": [
           0,
           1
          ]
         },
         "link": {
          "color": [
           "#f68612",
           "#f68612",
           "#f68612",
           "#91191e",
           "#91191e",
           "#91191e"
          ],
          "source": [
           0,
           0,
           0,
           1,
           1,
           1
          ],
          "target": [
           2,
           3,
           4,
           2,
           3,
           4
          ],
          "value": [
           35,
           3,
           26,
           17,
           3,
           27
          ]
         },
         "node": {
          "color": [
           "#f68612",
           "#91191e",
           "#029e73",
           "#d55e00",
           "#cc78bc"
          ],
          "label": [
           "Low (n=64)",
           "High (n=47)",
           "Classic-like (n=52)",
           "LGm6-GBM (n=6)",
           "Mesenchymal-like (n=53)"
          ],
          "line": {
           "color": "black",
           "width": 0
          },
          "pad": 10
         },
         "orientation": "h",
         "type": "sankey",
         "valueformat": ".0f"
        }
       ],
       "layout": {
        "font": {
         "size": 10
        },
        "height": 700,
        "template": {
         "data": {
          "bar": [
           {
            "error_x": {
             "color": "#2a3f5f"
            },
            "error_y": {
             "color": "#2a3f5f"
            },
            "marker": {
             "line": {
              "color": "#E5ECF6",
              "width": 0.5
             },
             "pattern": {
              "fillmode": "overlay",
              "size": 10,
              "solidity": 0.2
             }
            },
            "type": "bar"
           }
          ],
          "barpolar": [
           {
            "marker": {
             "line": {
              "color": "#E5ECF6",
              "width": 0.5
             },
             "pattern": {
              "fillmode": "overlay",
              "size": 10,
              "solidity": 0.2
             }
            },
            "type": "barpolar"
           }
          ],
          "carpet": [
           {
            "aaxis": {
             "endlinecolor": "#2a3f5f",
             "gridcolor": "white",
             "linecolor": "white",
             "minorgridcolor": "white",
             "startlinecolor": "#2a3f5f"
            },
            "baxis": {
             "endlinecolor": "#2a3f5f",
             "gridcolor": "white",
             "linecolor": "white",
             "minorgridcolor": "white",
             "startlinecolor": "#2a3f5f"
            },
            "type": "carpet"
           }
          ],
          "choropleth": [
           {
            "colorbar": {
             "outlinewidth": 0,
             "ticks": ""
            },
            "type": "choropleth"
           }
          ],
          "contour": [
           {
            "colorbar": {
             "outlinewidth": 0,
             "ticks": ""
            },
            "colorscale": [
             [
              0,
              "#0d0887"
             ],
             [
              0.1111111111111111,
              "#46039f"
             ],
             [
              0.2222222222222222,
              "#7201a8"
             ],
             [
              0.3333333333333333,
              "#9c179e"
             ],
             [
              0.4444444444444444,
              "#bd3786"
             ],
             [
              0.5555555555555556,
              "#d8576b"
             ],
             [
              0.6666666666666666,
              "#ed7953"
             ],
             [
              0.7777777777777778,
              "#fb9f3a"
             ],
             [
              0.8888888888888888,
              "#fdca26"
             ],
             [
              1,
              "#f0f921"
             ]
            ],
            "type": "contour"
           }
          ],
          "contourcarpet": [
           {
            "colorbar": {
             "outlinewidth": 0,
             "ticks": ""
            },
            "type": "contourcarpet"
           }
          ],
          "heatmap": [
           {
            "colorbar": {
             "outlinewidth": 0,
             "ticks": ""
            },
            "colorscale": [
             [
              0,
              "#0d0887"
             ],
             [
              0.1111111111111111,
              "#46039f"
             ],
             [
              0.2222222222222222,
              "#7201a8"
             ],
             [
              0.3333333333333333,
              "#9c179e"
             ],
             [
              0.4444444444444444,
              "#bd3786"
             ],
             [
              0.5555555555555556,
              "#d8576b"
             ],
             [
              0.6666666666666666,
              "#ed7953"
             ],
             [
              0.7777777777777778,
              "#fb9f3a"
             ],
             [
              0.8888888888888888,
              "#fdca26"
             ],
             [
              1,
              "#f0f921"
             ]
            ],
            "type": "heatmap"
           }
          ],
          "heatmapgl": [
           {
            "colorbar": {
             "outlinewidth": 0,
             "ticks": ""
            },
            "colorscale": [
             [
              0,
              "#0d0887"
             ],
             [
              0.1111111111111111,
              "#46039f"
             ],
             [
              0.2222222222222222,
              "#7201a8"
             ],
             [
              0.3333333333333333,
              "#9c179e"
             ],
             [
              0.4444444444444444,
              "#bd3786"
             ],
             [
              0.5555555555555556,
              "#d8576b"
             ],
             [
              0.6666666666666666,
              "#ed7953"
             ],
             [
              0.7777777777777778,
              "#fb9f3a"
             ],
             [
              0.8888888888888888,
              "#fdca26"
             ],
             [
              1,
              "#f0f921"
             ]
            ],
            "type": "heatmapgl"
           }
          ],
          "histogram": [
           {
            "marker": {
             "pattern": {
              "fillmode": "overlay",
              "size": 10,
              "solidity": 0.2
             }
            },
            "type": "histogram"
           }
          ],
          "histogram2d": [
           {
            "colorbar": {
             "outlinewidth": 0,
             "ticks": ""
            },
            "colorscale": [
             [
              0,
              "#0d0887"
             ],
             [
              0.1111111111111111,
              "#46039f"
             ],
             [
              0.2222222222222222,
              "#7201a8"
             ],
             [
              0.3333333333333333,
              "#9c179e"
             ],
             [
              0.4444444444444444,
              "#bd3786"
             ],
             [
              0.5555555555555556,
              "#d8576b"
             ],
             [
              0.6666666666666666,
              "#ed7953"
             ],
             [
              0.7777777777777778,
              "#fb9f3a"
             ],
             [
              0.8888888888888888,
              "#fdca26"
             ],
             [
              1,
              "#f0f921"
             ]
            ],
            "type": "histogram2d"
           }
          ],
          "histogram2dcontour": [
           {
            "colorbar": {
             "outlinewidth": 0,
             "ticks": ""
            },
            "colorscale": [
             [
              0,
              "#0d0887"
             ],
             [
              0.1111111111111111,
              "#46039f"
             ],
             [
              0.2222222222222222,
              "#7201a8"
             ],
             [
              0.3333333333333333,
              "#9c179e"
             ],
             [
              0.4444444444444444,
              "#bd3786"
             ],
             [
              0.5555555555555556,
              "#d8576b"
             ],
             [
              0.6666666666666666,
              "#ed7953"
             ],
             [
              0.7777777777777778,
              "#fb9f3a"
             ],
             [
              0.8888888888888888,
              "#fdca26"
             ],
             [
              1,
              "#f0f921"
             ]
            ],
            "type": "histogram2dcontour"
           }
          ],
          "mesh3d": [
           {
            "colorbar": {
             "outlinewidth": 0,
             "ticks": ""
            },
            "type": "mesh3d"
           }
          ],
          "parcoords": [
           {
            "line": {
             "colorbar": {
              "outlinewidth": 0,
              "ticks": ""
             }
            },
            "type": "parcoords"
           }
          ],
          "pie": [
           {
            "automargin": true,
            "type": "pie"
           }
          ],
          "scatter": [
           {
            "fillpattern": {
             "fillmode": "overlay",
             "size": 10,
             "solidity": 0.2
            },
            "type": "scatter"
           }
          ],
          "scatter3d": [
           {
            "line": {
             "colorbar": {
              "outlinewidth": 0,
              "ticks": ""
             }
            },
            "marker": {
             "colorbar": {
              "outlinewidth": 0,
              "ticks": ""
             }
            },
            "type": "scatter3d"
           }
          ],
          "scattercarpet": [
           {
            "marker": {
             "colorbar": {
              "outlinewidth": 0,
              "ticks": ""
             }
            },
            "type": "scattercarpet"
           }
          ],
          "scattergeo": [
           {
            "marker": {
             "colorbar": {
              "outlinewidth": 0,
              "ticks": ""
             }
            },
            "type": "scattergeo"
           }
          ],
          "scattergl": [
           {
            "marker": {
             "colorbar": {
              "outlinewidth": 0,
              "ticks": ""
             }
            },
            "type": "scattergl"
           }
          ],
          "scattermapbox": [
           {
            "marker": {
             "colorbar": {
              "outlinewidth": 0,
              "ticks": ""
             }
            },
            "type": "scattermapbox"
           }
          ],
          "scatterpolar": [
           {
            "marker": {
             "colorbar": {
              "outlinewidth": 0,
              "ticks": ""
             }
            },
            "type": "scatterpolar"
           }
          ],
          "scatterpolargl": [
           {
            "marker": {
             "colorbar": {
              "outlinewidth": 0,
              "ticks": ""
             }
            },
            "type": "scatterpolargl"
           }
          ],
          "scatterternary": [
           {
            "marker": {
             "colorbar": {
              "outlinewidth": 0,
              "ticks": ""
             }
            },
            "type": "scatterternary"
           }
          ],
          "surface": [
           {
            "colorbar": {
             "outlinewidth": 0,
             "ticks": ""
            },
            "colorscale": [
             [
              0,
              "#0d0887"
             ],
             [
              0.1111111111111111,
              "#46039f"
             ],
             [
              0.2222222222222222,
              "#7201a8"
             ],
             [
              0.3333333333333333,
              "#9c179e"
             ],
             [
              0.4444444444444444,
              "#bd3786"
             ],
             [
              0.5555555555555556,
              "#d8576b"
             ],
             [
              0.6666666666666666,
              "#ed7953"
             ],
             [
              0.7777777777777778,
              "#fb9f3a"
             ],
             [
              0.8888888888888888,
              "#fdca26"
             ],
             [
              1,
              "#f0f921"
             ]
            ],
            "type": "surface"
           }
          ],
          "table": [
           {
            "cells": {
             "fill": {
              "color": "#EBF0F8"
             },
             "line": {
              "color": "white"
             }
            },
            "header": {
             "fill": {
              "color": "#C8D4E3"
             },
             "line": {
              "color": "white"
             }
            },
            "type": "table"
           }
          ]
         },
         "layout": {
          "annotationdefaults": {
           "arrowcolor": "#2a3f5f",
           "arrowhead": 0,
           "arrowwidth": 1
          },
          "autotypenumbers": "strict",
          "coloraxis": {
           "colorbar": {
            "outlinewidth": 0,
            "ticks": ""
           }
          },
          "colorscale": {
           "diverging": [
            [
             0,
             "#8e0152"
            ],
            [
             0.1,
             "#c51b7d"
            ],
            [
             0.2,
             "#de77ae"
            ],
            [
             0.3,
             "#f1b6da"
            ],
            [
             0.4,
             "#fde0ef"
            ],
            [
             0.5,
             "#f7f7f7"
            ],
            [
             0.6,
             "#e6f5d0"
            ],
            [
             0.7,
             "#b8e186"
            ],
            [
             0.8,
             "#7fbc41"
            ],
            [
             0.9,
             "#4d9221"
            ],
            [
             1,
             "#276419"
            ]
           ],
           "sequential": [
            [
             0,
             "#0d0887"
            ],
            [
             0.1111111111111111,
             "#46039f"
            ],
            [
             0.2222222222222222,
             "#7201a8"
            ],
            [
             0.3333333333333333,
             "#9c179e"
            ],
            [
             0.4444444444444444,
             "#bd3786"
            ],
            [
             0.5555555555555556,
             "#d8576b"
            ],
            [
             0.6666666666666666,
             "#ed7953"
            ],
            [
             0.7777777777777778,
             "#fb9f3a"
            ],
            [
             0.8888888888888888,
             "#fdca26"
            ],
            [
             1,
             "#f0f921"
            ]
           ],
           "sequentialminus": [
            [
             0,
             "#0d0887"
            ],
            [
             0.1111111111111111,
             "#46039f"
            ],
            [
             0.2222222222222222,
             "#7201a8"
            ],
            [
             0.3333333333333333,
             "#9c179e"
            ],
            [
             0.4444444444444444,
             "#bd3786"
            ],
            [
             0.5555555555555556,
             "#d8576b"
            ],
            [
             0.6666666666666666,
             "#ed7953"
            ],
            [
             0.7777777777777778,
             "#fb9f3a"
            ],
            [
             0.8888888888888888,
             "#fdca26"
            ],
            [
             1,
             "#f0f921"
            ]
           ]
          },
          "colorway": [
           "#636efa",
           "#EF553B",
           "#00cc96",
           "#ab63fa",
           "#FFA15A",
           "#19d3f3",
           "#FF6692",
           "#B6E880",
           "#FF97FF",
           "#FECB52"
          ],
          "font": {
           "color": "#2a3f5f"
          },
          "geo": {
           "bgcolor": "white",
           "lakecolor": "white",
           "landcolor": "#E5ECF6",
           "showlakes": true,
           "showland": true,
           "subunitcolor": "white"
          },
          "hoverlabel": {
           "align": "left"
          },
          "hovermode": "closest",
          "mapbox": {
           "style": "light"
          },
          "paper_bgcolor": "white",
          "plot_bgcolor": "#E5ECF6",
          "polar": {
           "angularaxis": {
            "gridcolor": "white",
            "linecolor": "white",
            "ticks": ""
           },
           "bgcolor": "#E5ECF6",
           "radialaxis": {
            "gridcolor": "white",
            "linecolor": "white",
            "ticks": ""
           }
          },
          "scene": {
           "xaxis": {
            "backgroundcolor": "#E5ECF6",
            "gridcolor": "white",
            "gridwidth": 2,
            "linecolor": "white",
            "showbackground": true,
            "ticks": "",
            "zerolinecolor": "white"
           },
           "yaxis": {
            "backgroundcolor": "#E5ECF6",
            "gridcolor": "white",
            "gridwidth": 2,
            "linecolor": "white",
            "showbackground": true,
            "ticks": "",
            "zerolinecolor": "white"
           },
           "zaxis": {
            "backgroundcolor": "#E5ECF6",
            "gridcolor": "white",
            "gridwidth": 2,
            "linecolor": "white",
            "showbackground": true,
            "ticks": "",
            "zerolinecolor": "white"
           }
          },
          "shapedefaults": {
           "line": {
            "color": "#2a3f5f"
           }
          },
          "ternary": {
           "aaxis": {
            "gridcolor": "white",
            "linecolor": "white",
            "ticks": ""
           },
           "baxis": {
            "gridcolor": "white",
            "linecolor": "white",
            "ticks": ""
           },
           "bgcolor": "#E5ECF6",
           "caxis": {
            "gridcolor": "white",
            "linecolor": "white",
            "ticks": ""
           }
          },
          "title": {
           "x": 0.05
          },
          "xaxis": {
           "automargin": true,
           "gridcolor": "white",
           "linecolor": "white",
           "ticks": "",
           "title": {
            "standoff": 15
           },
           "zerolinecolor": "white",
           "zerolinewidth": 2
          },
          "yaxis": {
           "automargin": true,
           "gridcolor": "white",
           "linecolor": "white",
           "ticks": "",
           "title": {
            "standoff": 15
           },
           "zerolinecolor": "white",
           "zerolinewidth": 2
          }
         }
        },
        "title": {
         "text": "Correspondence between neural and \nsupervised methylation subgroups (TCGA)"
        },
        "width": 700
       }
      },
      "image/png": "[encoded data removed]",
      "text/html": [
       "<div>                            <div id=\"643efed8-78b0-4c68-bfd2-5263b193236e\" class=\"plotly-graph-div\" style=\"height:700px; width:700px;\"></div>            <script type=\"text/javascript\">                require([\"plotly\"], function(Plotly) {                    window.PLOTLYENV=window.PLOTLYENV || {};                                    if (document.getElementById(\"643efed8-78b0-4c68-bfd2-5263b193236e\")) {                    Plotly.newPlot(                        \"643efed8-78b0-4c68-bfd2-5263b193236e\",                        [{\"domain\":{\"x\":[0.0,1.0],\"y\":[0.0,1.0]},\"link\":{\"color\":[\"#f68612\",\"#f68612\",\"#f68612\",\"#91191e\",\"#91191e\",\"#91191e\"],\"source\":[0,0,0,1,1,1],\"target\":[2,3,4,2,3,4],\"value\":[35,3,26,17,3,27]},\"node\":{\"color\":[\"#f68612\",\"#91191e\",\"#029e73\",\"#d55e00\",\"#cc78bc\"],\"label\":[\"Low (n=64)\",\"High (n=47)\",\"Classic-like (n=52)\",\"LGm6-GBM (n=6)\",\"Mesenchymal-like (n=53)\"],\"line\":{\"color\":\"black\",\"width\":0},\"pad\":10},\"orientation\":\"h\",\"valueformat\":\".0f\",\"type\":\"sankey\"}],                        {\"font\":{\"size\":10},\"height\":700,\"title\":{\"text\":\"Correspondence between neural and \\nsupervised methylation subgroups (TCGA)\"},\"width\":700,\"template\":{\"data\":{\"histogram2dcontour\":[{\"type\":\"histogram2dcontour\",\"colorbar\":{\"outlinewidth\":0,\"ticks\":\"\"},\"colorscale\":[[0.0,\"#0d0887\"],[0.1111111111111111,\"#46039f\"],[0.2222222222222222,\"#7201a8\"],[0.3333333333333333,\"#9c179e\"],[0.4444444444444444,\"#bd3786\"],[0.5555555555555556,\"#d8576b\"],[0.6666666666666666,\"#ed7953\"],[0.7777777777777778,\"#fb9f3a\"],[0.8888888888888888,\"#fdca26\"],[1.0,\"#f0f921\"]]}],\"choropleth\":[{\"type\":\"choropleth\",\"colorbar\":{\"outlinewidth\":0,\"ticks\":\"\"}}],\"histogram2d\":[{\"type\":\"histogram2d\",\"colorbar\":{\"outlinewidth\":0,\"ticks\":\"\"},\"colorscale\":[[0.0,\"#0d0887\"],[0.1111111111111111,\"#46039f\"],[0.2222222222222222,\"#7201a8\"],[0.3333333333333333,\"#9c179e\"],[0.4444444444444444,\"#bd3786\"],[0.5555555555555556,\"#d8576b\"],[0.6666666666666666,\"#ed7953\"],[0.7777777777777778,\"#fb9f3a\"],[0.8888888888888888,\"#fdca26\"],[1.0,\"#f0f921\"]]}],\"heatmap\":[{\"type\":\"heatmap\",\"colorbar\":{\"outlinewidth\":0,\"ticks\":\"\"},\"colorscale\":[[0.0,\"#0d0887\"],[0.1111111111111111,\"#46039f\"],[0.2222222222222222,\"#7201a8\"],[0.3333333333333333,\"#9c179e\"],[0.4444444444444444,\"#bd3786\"],[0.5555555555555556,\"#d8576b\"],[0.6666666666666666,\"#ed7953\"],[0.7777777777777778,\"#fb9f3a\"],[0.8888888888888888,\"#fdca26\"],[1.0,\"#f0f921\"]]}],\"heatmapgl\":[{\"type\":\"heatmapgl\",\"colorbar\":{\"outlinewidth\":0,\"ticks\":\"\"},\"colorscale\":[[0.0,\"#0d0887\"],[0.1111111111111111,\"#46039f\"],[0.2222222222222222,\"#7201a8\"],[0.3333333333333333,\"#9c179e\"],[0.4444444444444444,\"#bd3786\"],[0.5555555555555556,\"#d8576b\"],[0.6666666666666666,\"#ed7953\"],[0.7777777777777778,\"#fb9f3a\"],[0.8888888888888888,\"#fdca26\"],[1.0,\"#f0f921\"]]}],\"contourcarpet\":[{\"type\":\"contourcarpet\",\"colorbar\":{\"outlinewidth\":0,\"ticks\":\"\"}}],\"contour\":[{\"type\":\"contour\",\"colorbar\":{\"outlinewidth\":0,\"ticks\":\"\"},\"colorscale\":[[0.0,\"#0d0887\"],[0.1111111111111111,\"#46039f\"],[0.2222222222222222,\"#7201a8\"],[0.3333333333333333,\"#9c179e\"],[0.4444444444444444,\"#bd3786\"],[0.5555555555555556,\"#d8576b\"],[0.6666666666666666,\"#ed7953\"],[0.7777777777777778,\"#fb9f3a\"],[0.8888888888888888,\"#fdca26\"],[1.0,\"#f0f921\"]]}],\"surface\":[{\"type\":\"surface\",\"colorbar\":{\"outlinewidth\":0,\"ticks\":\"\"},\"colorscale\":[[0.0,\"#0d0887\"],[0.1111111111111111,\"#46039f\"],[0.2222222222222222,\"#7201a8\"],[0.3333333333333333,\"#9c179e\"],[0.4444444444444444,\"#bd3786\"],[0.5555555555555556,\"#d8576b\"],[0.6666666666666666,\"#ed7953\"],[0.7777777777777778,\"#fb9f3a\"],[0.8888888888888888,\"#fdca26\"],[1.0,\"#f0f921\"]]}],\"mesh3d\":[{\"type\":\"mesh3d\",\"colorbar\":{\"outlinewidth\":0,\"ticks\":\"\"}}],\"scatter\":[{\"fillpattern\":{\"fillmode\":\"overlay\",\"size\":10,\"solidity\":0.2},\"type\":\"scatter\"}],\"parcoords\":[{\"type\":\"parcoords\",\"line\":{\"colorbar\":{\"outlinewidth\":0,\"ticks\":\"\"}}}],\"scatterpolargl\":[{\"type\":\"scatterpolargl\",\"marker\":{\"colorbar\":{\"outlinewidth\":0,\"ticks\":\"\"}}}],\"bar\":[{\"error_x\":{\"color\":\"#2a3f5f\"},\"error_y\":{\"color\":\"#2a3f5f\"},\"marker\":{\"line\":{\"color\":\"#E5ECF6\",\"width\":0.5},\"pattern\":{\"fillmode\":\"overlay\",\"size\":10,\"solidity\":0.2}},\"type\":\"bar\"}],\"scattergeo\":[{\"type\":\"scattergeo\",\"marker\":{\"colorbar\":{\"outlinewidth\":0,\"ticks\":\"\"}}}],\"scatterpolar\":[{\"type\":\"scatterpolar\",\"marker\":{\"colorbar\":{\"outlinewidth\":0,\"ticks\":\"\"}}}],\"histogram\":[{\"marker\":{\"pattern\":{\"fillmode\":\"overlay\",\"size\":10,\"solidity\":0.2}},\"type\":\"histogram\"}],\"scattergl\":[{\"type\":\"scattergl\",\"marker\":{\"colorbar\":{\"outlinewidth\":0,\"ticks\":\"\"}}}],\"scatter3d\":[{\"type\":\"scatter3d\",\"line\":{\"colorbar\":{\"outlinewidth\":0,\"ticks\":\"\"}},\"marker\":{\"colorbar\":{\"outlinewidth\":0,\"ticks\":\"\"}}}],\"scattermapbox\":[{\"type\":\"scattermapbox\",\"marker\":{\"colorbar\":{\"outlinewidth\":0,\"ticks\":\"\"}}}],\"scatterternary\":[{\"type\":\"scatterternary\",\"marker\":{\"colorbar\":{\"outlinewidth\":0,\"ticks\":\"\"}}}],\"scattercarpet\":[{\"type\":\"scattercarpet\",\"marker\":{\"colorbar\":{\"outlinewidth\":0,\"ticks\":\"\"}}}],\"carpet\":[{\"aaxis\":{\"endlinecolor\":\"#2a3f5f\",\"gridcolor\":\"white\",\"linecolor\":\"white\",\"minorgridcolor\":\"white\",\"startlinecolor\":\"#2a3f5f\"},\"baxis\":{\"endlinecolor\":\"#2a3f5f\",\"gridcolor\":\"white\",\"linecolor\":\"white\",\"minorgridcolor\":\"white\",\"startlinecolor\":\"#2a3f5f\"},\"type\":\"carpet\"}],\"table\":[{\"cells\":{\"fill\":{\"color\":\"#EBF0F8\"},\"line\":{\"color\":\"white\"}},\"header\":{\"fill\":{\"color\":\"#C8D4E3\"},\"line\":{\"color\":\"white\"}},\"type\":\"table\"}],\"barpolar\":[{\"marker\":{\"line\":{\"color\":\"#E5ECF6\",\"width\":0.5},\"pattern\":{\"fillmode\":\"overlay\",\"size\":10,\"solidity\":0.2}},\"type\":\"barpolar\"}],\"pie\":[{\"automargin\":true,\"type\":\"pie\"}]},\"layout\":{\"autotypenumbers\":\"strict\",\"colorway\":[\"#636efa\",\"#EF553B\",\"#00cc96\",\"#ab63fa\",\"#FFA15A\",\"#19d3f3\",\"#FF6692\",\"#B6E880\",\"#FF97FF\",\"#FECB52\"],\"font\":{\"color\":\"#2a3f5f\"},\"hovermode\":\"closest\",\"hoverlabel\":{\"align\":\"left\"},\"paper_bgcolor\":\"white\",\"plot_bgcolor\":\"#E5ECF6\",\"polar\":{\"bgcolor\":\"#E5ECF6\",\"angularaxis\":{\"gridcolor\":\"white\",\"linecolor\":\"white\",\"ticks\":\"\"},\"radialaxis\":{\"gridcolor\":\"white\",\"linecolor\":\"white\",\"ticks\":\"\"}},\"ternary\":{\"bgcolor\":\"#E5ECF6\",\"aaxis\":{\"gridcolor\":\"white\",\"linecolor\":\"white\",\"ticks\":\"\"},\"baxis\":{\"gridcolor\":\"white\",\"linecolor\":\"white\",\"ticks\":\"\"},\"caxis\":{\"gridcolor\":\"white\",\"linecolor\":\"white\",\"ticks\":\"\"}},\"coloraxis\":{\"colorbar\":{\"outlinewidth\":0,\"ticks\":\"\"}},\"colorscale\":{\"sequential\":[[0.0,\"#0d0887\"],[0.1111111111111111,\"#46039f\"],[0.2222222222222222,\"#7201a8\"],[0.3333333333333333,\"#9c179e\"],[0.4444444444444444,\"#bd3786\"],[0.5555555555555556,\"#d8576b\"],[0.6666666666666666,\"#ed7953\"],[0.7777777777777778,\"#fb9f3a\"],[0.8888888888888888,\"#fdca26\"],[1.0,\"#f0f921\"]],\"sequentialminus\":[[0.0,\"#0d0887\"],[0.1111111111111111,\"#46039f\"],[0.2222222222222222,\"#7201a8\"],[0.3333333333333333,\"#9c179e\"],[0.4444444444444444,\"#bd3786\"],[0.5555555555555556,\"#d8576b\"],[0.6666666666666666,\"#ed7953\"],[0.7777777777777778,\"#fb9f3a\"],[0.8888888888888888,\"#fdca26\"],[1.0,\"#f0f921\"]],\"diverging\":[[0,\"#8e0152\"],[0.1,\"#c51b7d\"],[0.2,\"#de77ae\"],[0.3,\"#f1b6da\"],[0.4,\"#fde0ef\"],[0.5,\"#f7f7f7\"],[0.6,\"#e6f5d0\"],[0.7,\"#b8e186\"],[0.8,\"#7fbc41\"],[0.9,\"#4d9221\"],[1,\"#276419\"]]},\"xaxis\":{\"gridcolor\":\"white\",\"linecolor\":\"white\",\"ticks\":\"\",\"title\":{\"standoff\":15},\"zerolinecolor\":\"white\",\"automargin\":true,\"zerolinewidth\":2},\"yaxis\":{\"gridcolor\":\"white\",\"linecolor\":\"white\",\"ticks\":\"\",\"title\":{\"standoff\":15},\"zerolinecolor\":\"white\",\"automargin\":true,\"zerolinewidth\":2},\"scene\":{\"xaxis\":{\"backgroundcolor\":\"#E5ECF6\",\"gridcolor\":\"white\",\"linecolor\":\"white\",\"showbackground\":true,\"ticks\":\"\",\"zerolinecolor\":\"white\",\"gridwidth\":2},\"yaxis\":{\"backgroundcolor\":\"#E5ECF6\",\"gridcolor\":\"white\",\"linecolor\":\"white\",\"showbackground\":true,\"ticks\":\"\",\"zerolinecolor\":\"white\",\"gridwidth\":2},\"zaxis\":{\"backgroundcolor\":\"#E5ECF6\",\"gridcolor\":\"white\",\"linecolor\":\"white\",\"showbackground\":true,\"ticks\":\"\",\"zerolinecolor\":\"white\",\"gridwidth\":2}},\"shapedefaults\":{\"line\":{\"color\":\"#2a3f5f\"}},\"annotationdefaults\":{\"arrowcolor\":\"#2a3f5f\",\"arrowhead\":0,\"arrowwidth\":1},\"geo\":{\"bgcolor\":\"white\",\"landcolor\":\"#E5ECF6\",\"subunitcolor\":\"white\",\"showland\":true,\"showlakes\":true,\"lakecolor\":\"white\"},\"title\":{\"x\":0.05},\"mapbox\":{\"style\":\"light\"}}}},                        {\"responsive\": true}                    ).then(function(){\n",
       "                            \n",
       "var gd = document.getElementById('643efed8-78b0-4c68-bfd2-5263b193236e');\n",
       "var x = new MutationObserver(function (mutations, observer) {{\n",
       "        var display = window.getComputedStyle(gd).display;\n",
       "        if (!display || display === 'none') {{\n",
       "            console.log([gd, 'removed!']);\n",
       "            Plotly.purge(gd);\n",
       "            observer.disconnect();\n",
       "        }}\n",
       "}});\n",
       "\n",
       "// Listen for the removal of the full notebook cells\n",
       "var notebookContainer = gd.closest('#notebook-container');\n",
       "if (notebookContainer) {{\n",
       "    x.observe(notebookContainer, {childList: true});\n",
       "}}\n",
       "\n",
       "// Listen for the clearing of the current output cell\n",
       "var outputEl = gd.closest('.output');\n",
       "if (outputEl) {{\n",
       "    x.observe(outputEl, {childList: true});\n",
       "}}\n",
       "\n",
       "                        })                };                });            </script>        </div>"
      ]
     },
     "metadata": {},
     "output_type": "display_data"
    }
   ],
   "source": [
    "layout = dict(\n",
    "        title = \"Correspondence between neural and \\nsupervised methylation subgroups (TCGA)\",\n",
    "    height = 700,\n",
    "    width=700,\n",
    "    font = dict(\n",
    "      size = 10),)\n",
    "\n",
    "fig = dict(data=[data_trace], layout=layout, arrangement='snap',)\n",
    "fig = go.Figure(fig, )\n",
    "iplot(fig, validate=False)"
   ]
  },
  {
   "cell_type": "code",
   "execution_count": 47,
   "id": "f7ee6db9-aeff-464c-8587-8f5c5465582f",
   "metadata": {},
   "outputs": [],
   "source": [
    "fig.write_image(\"tcga_methSup.png\")\n",
    "fig.write_image(\"tcga_methSup.pdf\")"
   ]
  },
  {
   "cell_type": "markdown",
   "id": "4014c7ea-740c-4adc-a9db-126fa9d42deb",
   "metadata": {},
   "source": [
    "-----"
   ]
  },
  {
   "cell_type": "code",
   "execution_count": 48,
   "id": "7cce5c30-2874-4b9c-bd0d-739354d2ece3",
   "metadata": {},
   "outputs": [
    {
     "data": {
      "text/html": [
       "<div>\n",
       "<style scoped>\n",
       "    .dataframe tbody tr th:only-of-type {\n",
       "        vertical-align: middle;\n",
       "    }\n",
       "\n",
       "    .dataframe tbody tr th {\n",
       "        vertical-align: top;\n",
       "    }\n",
       "\n",
       "    .dataframe thead th {\n",
       "        text-align: right;\n",
       "    }\n",
       "</style>\n",
       "<table border=\"1\" class=\"dataframe\">\n",
       "  <thead>\n",
       "    <tr style=\"text-align: right;\">\n",
       "      <th></th>\n",
       "      <th>barcode</th>\n",
       "      <th>patient</th>\n",
       "      <th>paper_Supervised.DNA.Methylation.Cluster</th>\n",
       "      <th>paper_Original.Subtype</th>\n",
       "      <th>paper_Transcriptome.Subtype</th>\n",
       "      <th>paper_IDH.specific.DNA.Methylation.Cluster</th>\n",
       "      <th>paper_IDH.status</th>\n",
       "      <th>paper_IDH.specific.RNA.Expression.Cluster</th>\n",
       "      <th>paper_IDH.codel.subtype</th>\n",
       "      <th>Project ID</th>\n",
       "      <th>...</th>\n",
       "      <th>EGFR</th>\n",
       "      <th>RB1</th>\n",
       "      <th>TP53</th>\n",
       "      <th>NF1</th>\n",
       "      <th>PIK3R1</th>\n",
       "      <th>ATRX</th>\n",
       "      <th>PIK3CA</th>\n",
       "      <th>TERT</th>\n",
       "      <th>CIC</th>\n",
       "      <th>FUBP1</th>\n",
       "    </tr>\n",
       "    <tr>\n",
       "      <th>Sample ID</th>\n",
       "      <th></th>\n",
       "      <th></th>\n",
       "      <th></th>\n",
       "      <th></th>\n",
       "      <th></th>\n",
       "      <th></th>\n",
       "      <th></th>\n",
       "      <th></th>\n",
       "      <th></th>\n",
       "      <th></th>\n",
       "      <th></th>\n",
       "      <th></th>\n",
       "      <th></th>\n",
       "      <th></th>\n",
       "      <th></th>\n",
       "      <th></th>\n",
       "      <th></th>\n",
       "      <th></th>\n",
       "      <th></th>\n",
       "      <th></th>\n",
       "      <th></th>\n",
       "    </tr>\n",
       "  </thead>\n",
       "  <tbody>\n",
       "    <tr>\n",
       "      <th>TCGA-28-5213-01A</th>\n",
       "      <td>TCGA-28-5213-01A-01D-1481-05</td>\n",
       "      <td>TCGA-28-5213</td>\n",
       "      <td>Mesenchymal-like</td>\n",
       "      <td>Mesenchymal</td>\n",
       "      <td>ME</td>\n",
       "      <td>IDHwt-K2</td>\n",
       "      <td>WT</td>\n",
       "      <td>IDHwt-R2</td>\n",
       "      <td>IDHwt</td>\n",
       "      <td>TCGA-GBM</td>\n",
       "      <td>...</td>\n",
       "      <td>Missense_Mutation</td>\n",
       "      <td>No_mutation</td>\n",
       "      <td>No_mutation</td>\n",
       "      <td>No_mutation</td>\n",
       "      <td>No_mutation</td>\n",
       "      <td>No_mutation</td>\n",
       "      <td>No_mutation</td>\n",
       "      <td>No_mutation</td>\n",
       "      <td>No_mutation</td>\n",
       "      <td>No_mutation</td>\n",
       "    </tr>\n",
       "    <tr>\n",
       "      <th>TCGA-19-5959-01A</th>\n",
       "      <td>TCGA-19-5959-01A-11D-1697-05</td>\n",
       "      <td>TCGA-19-5959</td>\n",
       "      <td>Classic-like</td>\n",
       "      <td>Classical</td>\n",
       "      <td>CL</td>\n",
       "      <td>IDHwt-K1</td>\n",
       "      <td>WT</td>\n",
       "      <td>NaN</td>\n",
       "      <td>IDHwt</td>\n",
       "      <td>TCGA-GBM</td>\n",
       "      <td>...</td>\n",
       "      <td>No_mutation</td>\n",
       "      <td>No_mutation</td>\n",
       "      <td>No_mutation</td>\n",
       "      <td>No_mutation</td>\n",
       "      <td>No_mutation</td>\n",
       "      <td>No_mutation</td>\n",
       "      <td>No_mutation</td>\n",
       "      <td>No_mutation</td>\n",
       "      <td>No_mutation</td>\n",
       "      <td>No_mutation</td>\n",
       "    </tr>\n",
       "    <tr>\n",
       "      <th>TCGA-28-5209-01A</th>\n",
       "      <td>TCGA-28-5209-01A-01D-1481-05</td>\n",
       "      <td>TCGA-28-5209</td>\n",
       "      <td>Classic-like</td>\n",
       "      <td>Mesenchymal</td>\n",
       "      <td>CL</td>\n",
       "      <td>IDHwt-K1</td>\n",
       "      <td>WT</td>\n",
       "      <td>IDHwt-R1</td>\n",
       "      <td>IDHwt</td>\n",
       "      <td>TCGA-GBM</td>\n",
       "      <td>...</td>\n",
       "      <td>Missense_Mutation</td>\n",
       "      <td>No_mutation</td>\n",
       "      <td>No_mutation</td>\n",
       "      <td>No_mutation</td>\n",
       "      <td>No_mutation</td>\n",
       "      <td>No_mutation</td>\n",
       "      <td>No_mutation</td>\n",
       "      <td>No_mutation</td>\n",
       "      <td>No_mutation</td>\n",
       "      <td>No_mutation</td>\n",
       "    </tr>\n",
       "    <tr>\n",
       "      <th>TCGA-19-4065-01A</th>\n",
       "      <td>TCGA-19-4065-01A-01D-2004-05</td>\n",
       "      <td>TCGA-19-4065</td>\n",
       "      <td>NaN</td>\n",
       "      <td>NaN</td>\n",
       "      <td>ME</td>\n",
       "      <td>NaN</td>\n",
       "      <td>NaN</td>\n",
       "      <td>NaN</td>\n",
       "      <td>NaN</td>\n",
       "      <td>TCGA-GBM</td>\n",
       "      <td>...</td>\n",
       "      <td>No_mutation</td>\n",
       "      <td>No_mutation</td>\n",
       "      <td>Missense_Mutation</td>\n",
       "      <td>No_mutation</td>\n",
       "      <td>No_mutation</td>\n",
       "      <td>No_mutation</td>\n",
       "      <td>No_mutation</td>\n",
       "      <td>No_mutation</td>\n",
       "      <td>No_mutation</td>\n",
       "      <td>No_mutation</td>\n",
       "    </tr>\n",
       "    <tr>\n",
       "      <th>TCGA-4W-AA9T-01A</th>\n",
       "      <td>TCGA-4W-AA9T-01A-11D-A392-05</td>\n",
       "      <td>TCGA-4W-AA9T</td>\n",
       "      <td>Classic-like</td>\n",
       "      <td>NaN</td>\n",
       "      <td>NaN</td>\n",
       "      <td>IDHwt-K1</td>\n",
       "      <td>WT</td>\n",
       "      <td>NaN</td>\n",
       "      <td>IDHwt</td>\n",
       "      <td>TCGA-GBM</td>\n",
       "      <td>...</td>\n",
       "      <td>Missense_Mutation</td>\n",
       "      <td>No_mutation</td>\n",
       "      <td>No_mutation</td>\n",
       "      <td>No_mutation</td>\n",
       "      <td>No_mutation</td>\n",
       "      <td>Missense_Mutation</td>\n",
       "      <td>No_mutation</td>\n",
       "      <td>No_mutation</td>\n",
       "      <td>No_mutation</td>\n",
       "      <td>No_mutation</td>\n",
       "    </tr>\n",
       "    <tr>\n",
       "      <th>...</th>\n",
       "      <td>...</td>\n",
       "      <td>...</td>\n",
       "      <td>...</td>\n",
       "      <td>...</td>\n",
       "      <td>...</td>\n",
       "      <td>...</td>\n",
       "      <td>...</td>\n",
       "      <td>...</td>\n",
       "      <td>...</td>\n",
       "      <td>...</td>\n",
       "      <td>...</td>\n",
       "      <td>...</td>\n",
       "      <td>...</td>\n",
       "      <td>...</td>\n",
       "      <td>...</td>\n",
       "      <td>...</td>\n",
       "      <td>...</td>\n",
       "      <td>...</td>\n",
       "      <td>...</td>\n",
       "      <td>...</td>\n",
       "      <td>...</td>\n",
       "    </tr>\n",
       "    <tr>\n",
       "      <th>TCGA-19-5958-01A</th>\n",
       "      <td>TCGA-19-5958-01A-11D-1697-05</td>\n",
       "      <td>TCGA-19-5958</td>\n",
       "      <td>Mesenchymal-like</td>\n",
       "      <td>Classical</td>\n",
       "      <td>NE</td>\n",
       "      <td>IDHwt-K2</td>\n",
       "      <td>WT</td>\n",
       "      <td>NaN</td>\n",
       "      <td>IDHwt</td>\n",
       "      <td>TCGA-GBM</td>\n",
       "      <td>...</td>\n",
       "      <td>No_mutation</td>\n",
       "      <td>No_mutation</td>\n",
       "      <td>No_mutation</td>\n",
       "      <td>No_mutation</td>\n",
       "      <td>Missense_Mutation</td>\n",
       "      <td>No_mutation</td>\n",
       "      <td>No_mutation</td>\n",
       "      <td>No_mutation</td>\n",
       "      <td>No_mutation</td>\n",
       "      <td>No_mutation</td>\n",
       "    </tr>\n",
       "    <tr>\n",
       "      <th>TCGA-19-5954-01A</th>\n",
       "      <td>TCGA-19-5954-01A-11D-1697-05</td>\n",
       "      <td>TCGA-19-5954</td>\n",
       "      <td>Mesenchymal-like</td>\n",
       "      <td>Classical</td>\n",
       "      <td>CL</td>\n",
       "      <td>IDHwt-K2</td>\n",
       "      <td>WT</td>\n",
       "      <td>NaN</td>\n",
       "      <td>IDHwt</td>\n",
       "      <td>TCGA-GBM</td>\n",
       "      <td>...</td>\n",
       "      <td>No_mutation</td>\n",
       "      <td>No_mutation</td>\n",
       "      <td>No_mutation</td>\n",
       "      <td>No_mutation</td>\n",
       "      <td>No_mutation</td>\n",
       "      <td>No_mutation</td>\n",
       "      <td>Multiple</td>\n",
       "      <td>No_mutation</td>\n",
       "      <td>No_mutation</td>\n",
       "      <td>No_mutation</td>\n",
       "    </tr>\n",
       "    <tr>\n",
       "      <th>TCGA-06-6694-01A</th>\n",
       "      <td>TCGA-06-6694-01A-12D-1844-05</td>\n",
       "      <td>TCGA-06-6694</td>\n",
       "      <td>Mesenchymal-like</td>\n",
       "      <td>NaN</td>\n",
       "      <td>NaN</td>\n",
       "      <td>IDHwt-K2</td>\n",
       "      <td>WT</td>\n",
       "      <td>NaN</td>\n",
       "      <td>IDHwt</td>\n",
       "      <td>TCGA-GBM</td>\n",
       "      <td>...</td>\n",
       "      <td>No_mutation</td>\n",
       "      <td>No_mutation</td>\n",
       "      <td>Missense_Mutation</td>\n",
       "      <td>No_mutation</td>\n",
       "      <td>No_mutation</td>\n",
       "      <td>No_mutation</td>\n",
       "      <td>No_mutation</td>\n",
       "      <td>No_mutation</td>\n",
       "      <td>No_mutation</td>\n",
       "      <td>No_mutation</td>\n",
       "    </tr>\n",
       "    <tr>\n",
       "      <th>TCGA-12-5299-01A</th>\n",
       "      <td>TCGA-12-5299-01A-02D-1481-05</td>\n",
       "      <td>TCGA-12-5299</td>\n",
       "      <td>Mesenchymal-like</td>\n",
       "      <td>Classical</td>\n",
       "      <td>CL</td>\n",
       "      <td>IDHwt-K2</td>\n",
       "      <td>WT</td>\n",
       "      <td>IDHwt-R2</td>\n",
       "      <td>IDHwt</td>\n",
       "      <td>TCGA-GBM</td>\n",
       "      <td>...</td>\n",
       "      <td>Unavailable</td>\n",
       "      <td>Unavailable</td>\n",
       "      <td>Unavailable</td>\n",
       "      <td>Unavailable</td>\n",
       "      <td>Unavailable</td>\n",
       "      <td>Unavailable</td>\n",
       "      <td>Unavailable</td>\n",
       "      <td>Unavailable</td>\n",
       "      <td>Unavailable</td>\n",
       "      <td>Unavailable</td>\n",
       "    </tr>\n",
       "    <tr>\n",
       "      <th>TCGA-06-5859-01A</th>\n",
       "      <td>TCGA-06-5859-01A-01D-1697-05</td>\n",
       "      <td>TCGA-06-5859</td>\n",
       "      <td>Classic-like</td>\n",
       "      <td>Neural</td>\n",
       "      <td>ME</td>\n",
       "      <td>IDHwt-K1</td>\n",
       "      <td>WT</td>\n",
       "      <td>IDHwt-R3</td>\n",
       "      <td>IDHwt</td>\n",
       "      <td>TCGA-GBM</td>\n",
       "      <td>...</td>\n",
       "      <td>Unavailable</td>\n",
       "      <td>Unavailable</td>\n",
       "      <td>Unavailable</td>\n",
       "      <td>Unavailable</td>\n",
       "      <td>Unavailable</td>\n",
       "      <td>Unavailable</td>\n",
       "      <td>Unavailable</td>\n",
       "      <td>Unavailable</td>\n",
       "      <td>Unavailable</td>\n",
       "      <td>Unavailable</td>\n",
       "    </tr>\n",
       "  </tbody>\n",
       "</table>\n",
       "<p>121 rows × 35 columns</p>\n",
       "</div>"
      ],
      "text/plain": [
       "                                       barcode       patient  \\\n",
       "Sample ID                                                      \n",
       "TCGA-28-5213-01A  TCGA-28-5213-01A-01D-1481-05  TCGA-28-5213   \n",
       "TCGA-19-5959-01A  TCGA-19-5959-01A-11D-1697-05  TCGA-19-5959   \n",
       "TCGA-28-5209-01A  TCGA-28-5209-01A-01D-1481-05  TCGA-28-5209   \n",
       "TCGA-19-4065-01A  TCGA-19-4065-01A-01D-2004-05  TCGA-19-4065   \n",
       "TCGA-4W-AA9T-01A  TCGA-4W-AA9T-01A-11D-A392-05  TCGA-4W-AA9T   \n",
       "...                                        ...           ...   \n",
       "TCGA-19-5958-01A  TCGA-19-5958-01A-11D-1697-05  TCGA-19-5958   \n",
       "TCGA-19-5954-01A  TCGA-19-5954-01A-11D-1697-05  TCGA-19-5954   \n",
       "TCGA-06-6694-01A  TCGA-06-6694-01A-12D-1844-05  TCGA-06-6694   \n",
       "TCGA-12-5299-01A  TCGA-12-5299-01A-02D-1481-05  TCGA-12-5299   \n",
       "TCGA-06-5859-01A  TCGA-06-5859-01A-01D-1697-05  TCGA-06-5859   \n",
       "\n",
       "                 paper_Supervised.DNA.Methylation.Cluster  \\\n",
       "Sample ID                                                   \n",
       "TCGA-28-5213-01A                         Mesenchymal-like   \n",
       "TCGA-19-5959-01A                             Classic-like   \n",
       "TCGA-28-5209-01A                             Classic-like   \n",
       "TCGA-19-4065-01A                                      NaN   \n",
       "TCGA-4W-AA9T-01A                             Classic-like   \n",
       "...                                                   ...   \n",
       "TCGA-19-5958-01A                         Mesenchymal-like   \n",
       "TCGA-19-5954-01A                         Mesenchymal-like   \n",
       "TCGA-06-6694-01A                         Mesenchymal-like   \n",
       "TCGA-12-5299-01A                         Mesenchymal-like   \n",
       "TCGA-06-5859-01A                             Classic-like   \n",
       "\n",
       "                 paper_Original.Subtype paper_Transcriptome.Subtype  \\\n",
       "Sample ID                                                             \n",
       "TCGA-28-5213-01A            Mesenchymal                          ME   \n",
       "TCGA-19-5959-01A              Classical                          CL   \n",
       "TCGA-28-5209-01A            Mesenchymal                          CL   \n",
       "TCGA-19-4065-01A                    NaN                          ME   \n",
       "TCGA-4W-AA9T-01A                    NaN                         NaN   \n",
       "...                                 ...                         ...   \n",
       "TCGA-19-5958-01A              Classical                          NE   \n",
       "TCGA-19-5954-01A              Classical                          CL   \n",
       "TCGA-06-6694-01A                    NaN                         NaN   \n",
       "TCGA-12-5299-01A              Classical                          CL   \n",
       "TCGA-06-5859-01A                 Neural                          ME   \n",
       "\n",
       "                 paper_IDH.specific.DNA.Methylation.Cluster paper_IDH.status  \\\n",
       "Sample ID                                                                      \n",
       "TCGA-28-5213-01A                                   IDHwt-K2               WT   \n",
       "TCGA-19-5959-01A                                   IDHwt-K1               WT   \n",
       "TCGA-28-5209-01A                                   IDHwt-K1               WT   \n",
       "TCGA-19-4065-01A                                        NaN              NaN   \n",
       "TCGA-4W-AA9T-01A                                   IDHwt-K1               WT   \n",
       "...                                                     ...              ...   \n",
       "TCGA-19-5958-01A                                   IDHwt-K2               WT   \n",
       "TCGA-19-5954-01A                                   IDHwt-K2               WT   \n",
       "TCGA-06-6694-01A                                   IDHwt-K2               WT   \n",
       "TCGA-12-5299-01A                                   IDHwt-K2               WT   \n",
       "TCGA-06-5859-01A                                   IDHwt-K1               WT   \n",
       "\n",
       "                 paper_IDH.specific.RNA.Expression.Cluster  \\\n",
       "Sample ID                                                    \n",
       "TCGA-28-5213-01A                                  IDHwt-R2   \n",
       "TCGA-19-5959-01A                                       NaN   \n",
       "TCGA-28-5209-01A                                  IDHwt-R1   \n",
       "TCGA-19-4065-01A                                       NaN   \n",
       "TCGA-4W-AA9T-01A                                       NaN   \n",
       "...                                                    ...   \n",
       "TCGA-19-5958-01A                                       NaN   \n",
       "TCGA-19-5954-01A                                       NaN   \n",
       "TCGA-06-6694-01A                                       NaN   \n",
       "TCGA-12-5299-01A                                  IDHwt-R2   \n",
       "TCGA-06-5859-01A                                  IDHwt-R3   \n",
       "\n",
       "                 paper_IDH.codel.subtype Project ID  ...               EGFR  \\\n",
       "Sample ID                                            ...                      \n",
       "TCGA-28-5213-01A                   IDHwt   TCGA-GBM  ...  Missense_Mutation   \n",
       "TCGA-19-5959-01A                   IDHwt   TCGA-GBM  ...        No_mutation   \n",
       "TCGA-28-5209-01A                   IDHwt   TCGA-GBM  ...  Missense_Mutation   \n",
       "TCGA-19-4065-01A                     NaN   TCGA-GBM  ...        No_mutation   \n",
       "TCGA-4W-AA9T-01A                   IDHwt   TCGA-GBM  ...  Missense_Mutation   \n",
       "...                                  ...        ...  ...                ...   \n",
       "TCGA-19-5958-01A                   IDHwt   TCGA-GBM  ...        No_mutation   \n",
       "TCGA-19-5954-01A                   IDHwt   TCGA-GBM  ...        No_mutation   \n",
       "TCGA-06-6694-01A                   IDHwt   TCGA-GBM  ...        No_mutation   \n",
       "TCGA-12-5299-01A                   IDHwt   TCGA-GBM  ...        Unavailable   \n",
       "TCGA-06-5859-01A                   IDHwt   TCGA-GBM  ...        Unavailable   \n",
       "\n",
       "                          RB1               TP53          NF1  \\\n",
       "Sample ID                                                       \n",
       "TCGA-28-5213-01A  No_mutation        No_mutation  No_mutation   \n",
       "TCGA-19-5959-01A  No_mutation        No_mutation  No_mutation   \n",
       "TCGA-28-5209-01A  No_mutation        No_mutation  No_mutation   \n",
       "TCGA-19-4065-01A  No_mutation  Missense_Mutation  No_mutation   \n",
       "TCGA-4W-AA9T-01A  No_mutation        No_mutation  No_mutation   \n",
       "...                       ...                ...          ...   \n",
       "TCGA-19-5958-01A  No_mutation        No_mutation  No_mutation   \n",
       "TCGA-19-5954-01A  No_mutation        No_mutation  No_mutation   \n",
       "TCGA-06-6694-01A  No_mutation  Missense_Mutation  No_mutation   \n",
       "TCGA-12-5299-01A  Unavailable        Unavailable  Unavailable   \n",
       "TCGA-06-5859-01A  Unavailable        Unavailable  Unavailable   \n",
       "\n",
       "                             PIK3R1               ATRX       PIK3CA  \\\n",
       "Sample ID                                                             \n",
       "TCGA-28-5213-01A        No_mutation        No_mutation  No_mutation   \n",
       "TCGA-19-5959-01A        No_mutation        No_mutation  No_mutation   \n",
       "TCGA-28-5209-01A        No_mutation        No_mutation  No_mutation   \n",
       "TCGA-19-4065-01A        No_mutation        No_mutation  No_mutation   \n",
       "TCGA-4W-AA9T-01A        No_mutation  Missense_Mutation  No_mutation   \n",
       "...                             ...                ...          ...   \n",
       "TCGA-19-5958-01A  Missense_Mutation        No_mutation  No_mutation   \n",
       "TCGA-19-5954-01A        No_mutation        No_mutation     Multiple   \n",
       "TCGA-06-6694-01A        No_mutation        No_mutation  No_mutation   \n",
       "TCGA-12-5299-01A        Unavailable        Unavailable  Unavailable   \n",
       "TCGA-06-5859-01A        Unavailable        Unavailable  Unavailable   \n",
       "\n",
       "                         TERT          CIC        FUBP1  \n",
       "Sample ID                                                \n",
       "TCGA-28-5213-01A  No_mutation  No_mutation  No_mutation  \n",
       "TCGA-19-5959-01A  No_mutation  No_mutation  No_mutation  \n",
       "TCGA-28-5209-01A  No_mutation  No_mutation  No_mutation  \n",
       "TCGA-19-4065-01A  No_mutation  No_mutation  No_mutation  \n",
       "TCGA-4W-AA9T-01A  No_mutation  No_mutation  No_mutation  \n",
       "...                       ...          ...          ...  \n",
       "TCGA-19-5958-01A  No_mutation  No_mutation  No_mutation  \n",
       "TCGA-19-5954-01A  No_mutation  No_mutation  No_mutation  \n",
       "TCGA-06-6694-01A  No_mutation  No_mutation  No_mutation  \n",
       "TCGA-12-5299-01A  Unavailable  Unavailable  Unavailable  \n",
       "TCGA-06-5859-01A  Unavailable  Unavailable  Unavailable  \n",
       "\n",
       "[121 rows x 35 columns]"
      ]
     },
     "execution_count": 48,
     "metadata": {},
     "output_type": "execute_result"
    }
   ],
   "source": [
    "df"
   ]
  },
  {
   "cell_type": "code",
   "execution_count": 49,
   "id": "34c41b52-d903-4a99-8ae5-a4af64730bd9",
   "metadata": {},
   "outputs": [
    {
     "data": {
      "text/html": [
       "<div>\n",
       "<style scoped>\n",
       "    .dataframe tbody tr th:only-of-type {\n",
       "        vertical-align: middle;\n",
       "    }\n",
       "\n",
       "    .dataframe tbody tr th {\n",
       "        vertical-align: top;\n",
       "    }\n",
       "\n",
       "    .dataframe thead th {\n",
       "        text-align: right;\n",
       "    }\n",
       "</style>\n",
       "<table border=\"1\" class=\"dataframe\">\n",
       "  <thead>\n",
       "    <tr style=\"text-align: right;\">\n",
       "      <th>paper_Supervised.DNA.Methylation.Cluster</th>\n",
       "      <th>Classic-like</th>\n",
       "      <th>LGm6-GBM</th>\n",
       "      <th>Mesenchymal-like</th>\n",
       "    </tr>\n",
       "    <tr>\n",
       "      <th>paper_Original.Subtype</th>\n",
       "      <th></th>\n",
       "      <th></th>\n",
       "      <th></th>\n",
       "    </tr>\n",
       "  </thead>\n",
       "  <tbody>\n",
       "    <tr>\n",
       "      <th>Classical</th>\n",
       "      <td>12</td>\n",
       "      <td>0</td>\n",
       "      <td>12</td>\n",
       "    </tr>\n",
       "    <tr>\n",
       "      <th>Mesenchymal</th>\n",
       "      <td>3</td>\n",
       "      <td>3</td>\n",
       "      <td>11</td>\n",
       "    </tr>\n",
       "    <tr>\n",
       "      <th>Neural</th>\n",
       "      <td>6</td>\n",
       "      <td>0</td>\n",
       "      <td>2</td>\n",
       "    </tr>\n",
       "    <tr>\n",
       "      <th>Proneural</th>\n",
       "      <td>6</td>\n",
       "      <td>0</td>\n",
       "      <td>7</td>\n",
       "    </tr>\n",
       "  </tbody>\n",
       "</table>\n",
       "</div>"
      ],
      "text/plain": [
       "paper_Supervised.DNA.Methylation.Cluster  Classic-like  LGm6-GBM  \\\n",
       "paper_Original.Subtype                                             \n",
       "Classical                                           12         0   \n",
       "Mesenchymal                                          3         3   \n",
       "Neural                                               6         0   \n",
       "Proneural                                            6         0   \n",
       "\n",
       "paper_Supervised.DNA.Methylation.Cluster  Mesenchymal-like  \n",
       "paper_Original.Subtype                                      \n",
       "Classical                                               12  \n",
       "Mesenchymal                                             11  \n",
       "Neural                                                   2  \n",
       "Proneural                                                7  "
      ]
     },
     "execution_count": 49,
     "metadata": {},
     "output_type": "execute_result"
    }
   ],
   "source": [
    "crosstab = pd.crosstab(df[\"paper_Original.Subtype\"], df[\"paper_Supervised.DNA.Methylation.Cluster\"])\n",
    "crosstab"
   ]
  },
  {
   "cell_type": "code",
   "execution_count": null,
   "id": "a6a229bc-4c0d-4ba8-a0a7-bbadb9f6abee",
   "metadata": {},
   "outputs": [],
   "source": []
  },
  {
   "cell_type": "code",
   "execution_count": 50,
   "id": "878b6ed8-f76c-4ab5-acd1-793306f13e19",
   "metadata": {},
   "outputs": [
    {
     "data": {
      "text/html": [
       "<div>\n",
       "<style scoped>\n",
       "    .dataframe tbody tr th:only-of-type {\n",
       "        vertical-align: middle;\n",
       "    }\n",
       "\n",
       "    .dataframe tbody tr th {\n",
       "        vertical-align: top;\n",
       "    }\n",
       "\n",
       "    .dataframe thead th {\n",
       "        text-align: right;\n",
       "    }\n",
       "</style>\n",
       "<table border=\"1\" class=\"dataframe\">\n",
       "  <thead>\n",
       "    <tr style=\"text-align: right;\">\n",
       "      <th>paper_Transcriptome.Subtype</th>\n",
       "      <th>CL</th>\n",
       "      <th>ME</th>\n",
       "      <th>NE</th>\n",
       "      <th>PN</th>\n",
       "    </tr>\n",
       "    <tr>\n",
       "      <th>Neural subgroup (0=low, 1=high)</th>\n",
       "      <th></th>\n",
       "      <th></th>\n",
       "      <th></th>\n",
       "      <th></th>\n",
       "    </tr>\n",
       "  </thead>\n",
       "  <tbody>\n",
       "    <tr>\n",
       "      <th>0</th>\n",
       "      <td>19</td>\n",
       "      <td>18</td>\n",
       "      <td>2</td>\n",
       "      <td>1</td>\n",
       "    </tr>\n",
       "    <tr>\n",
       "      <th>1</th>\n",
       "      <td>12</td>\n",
       "      <td>5</td>\n",
       "      <td>1</td>\n",
       "      <td>9</td>\n",
       "    </tr>\n",
       "  </tbody>\n",
       "</table>\n",
       "</div>"
      ],
      "text/plain": [
       "paper_Transcriptome.Subtype      CL  ME  NE  PN\n",
       "Neural subgroup (0=low, 1=high)                \n",
       "0                                19  18   2   1\n",
       "1                                12   5   1   9"
      ]
     },
     "execution_count": 50,
     "metadata": {},
     "output_type": "execute_result"
    }
   ],
   "source": [
    "crosstab = pd.crosstab(df[\"Neural subgroup (0=low, 1=high)\"], df[\"paper_Transcriptome.Subtype\"])\n",
    "crosstab"
   ]
  },
  {
   "cell_type": "code",
   "execution_count": 45,
   "id": "2ac03aeb-a87a-4fa3-be34-1fe1d165b838",
   "metadata": {},
   "outputs": [
    {
     "data": {
      "text/html": [
       "<div>\n",
       "<style scoped>\n",
       "    .dataframe tbody tr th:only-of-type {\n",
       "        vertical-align: middle;\n",
       "    }\n",
       "\n",
       "    .dataframe tbody tr th {\n",
       "        vertical-align: top;\n",
       "    }\n",
       "\n",
       "    .dataframe thead th {\n",
       "        text-align: right;\n",
       "    }\n",
       "</style>\n",
       "<table border=\"1\" class=\"dataframe\">\n",
       "  <thead>\n",
       "    <tr style=\"text-align: right;\">\n",
       "      <th>paper_Transcriptome.Subtype</th>\n",
       "      <th>CL</th>\n",
       "      <th>ME</th>\n",
       "      <th>NE</th>\n",
       "      <th>PN</th>\n",
       "    </tr>\n",
       "    <tr>\n",
       "      <th>paper_Original.Subtype</th>\n",
       "      <th></th>\n",
       "      <th></th>\n",
       "      <th></th>\n",
       "      <th></th>\n",
       "    </tr>\n",
       "  </thead>\n",
       "  <tbody>\n",
       "    <tr>\n",
       "      <th>Classical</th>\n",
       "      <td>21</td>\n",
       "      <td>2</td>\n",
       "      <td>1</td>\n",
       "      <td>0</td>\n",
       "    </tr>\n",
       "    <tr>\n",
       "      <th>Mesenchymal</th>\n",
       "      <td>4</td>\n",
       "      <td>16</td>\n",
       "      <td>0</td>\n",
       "      <td>1</td>\n",
       "    </tr>\n",
       "    <tr>\n",
       "      <th>Neural</th>\n",
       "      <td>2</td>\n",
       "      <td>3</td>\n",
       "      <td>2</td>\n",
       "      <td>1</td>\n",
       "    </tr>\n",
       "    <tr>\n",
       "      <th>Proneural</th>\n",
       "      <td>4</td>\n",
       "      <td>1</td>\n",
       "      <td>0</td>\n",
       "      <td>8</td>\n",
       "    </tr>\n",
       "  </tbody>\n",
       "</table>\n",
       "</div>"
      ],
      "text/plain": [
       "paper_Transcriptome.Subtype  CL  ME  NE  PN\n",
       "paper_Original.Subtype                     \n",
       "Classical                    21   2   1   0\n",
       "Mesenchymal                   4  16   0   1\n",
       "Neural                        2   3   2   1\n",
       "Proneural                     4   1   0   8"
      ]
     },
     "execution_count": 45,
     "metadata": {},
     "output_type": "execute_result"
    }
   ],
   "source": [
    "crosstab = pd.crosstab(df[\"paper_Original.Subtype\"], df[\"paper_Transcriptome.Subtype\"])\n",
    "crosstab"
   ]
  },
  {
   "cell_type": "code",
   "execution_count": 51,
   "id": "92775d6a-2060-4d83-bfb1-435d6edcf825",
   "metadata": {},
   "outputs": [
    {
     "data": {
      "text/html": [
       "<div>\n",
       "<style scoped>\n",
       "    .dataframe tbody tr th:only-of-type {\n",
       "        vertical-align: middle;\n",
       "    }\n",
       "\n",
       "    .dataframe tbody tr th {\n",
       "        vertical-align: top;\n",
       "    }\n",
       "\n",
       "    .dataframe thead th {\n",
       "        text-align: right;\n",
       "    }\n",
       "</style>\n",
       "<table border=\"1\" class=\"dataframe\">\n",
       "  <thead>\n",
       "    <tr style=\"text-align: right;\">\n",
       "      <th>paper_Transcriptome.Subtype</th>\n",
       "      <th>CL</th>\n",
       "      <th>ME</th>\n",
       "      <th>NE</th>\n",
       "      <th>PN</th>\n",
       "    </tr>\n",
       "    <tr>\n",
       "      <th>Neural subgroup (0=low, 1=high)</th>\n",
       "      <th></th>\n",
       "      <th></th>\n",
       "      <th></th>\n",
       "      <th></th>\n",
       "    </tr>\n",
       "  </thead>\n",
       "  <tbody>\n",
       "    <tr>\n",
       "      <th>0</th>\n",
       "      <td>19</td>\n",
       "      <td>18</td>\n",
       "      <td>2</td>\n",
       "      <td>1</td>\n",
       "    </tr>\n",
       "    <tr>\n",
       "      <th>1</th>\n",
       "      <td>12</td>\n",
       "      <td>5</td>\n",
       "      <td>1</td>\n",
       "      <td>9</td>\n",
       "    </tr>\n",
       "  </tbody>\n",
       "</table>\n",
       "</div>"
      ],
      "text/plain": [
       "paper_Transcriptome.Subtype      CL  ME  NE  PN\n",
       "Neural subgroup (0=low, 1=high)                \n",
       "0                                19  18   2   1\n",
       "1                                12   5   1   9"
      ]
     },
     "execution_count": 51,
     "metadata": {},
     "output_type": "execute_result"
    }
   ],
   "source": [
    "crosstab = pd.crosstab(df[\"Neural subgroup (0=low, 1=high)\"], df[\"paper_Transcriptome.Subtype\"])\n",
    "crosstab"
   ]
  },
  {
   "cell_type": "code",
   "execution_count": 52,
   "id": "a8923dac-da08-4e46-b412-7075f5faca4a",
   "metadata": {},
   "outputs": [
    {
     "data": {
      "text/html": [
       "<div>\n",
       "<style scoped>\n",
       "    .dataframe tbody tr th:only-of-type {\n",
       "        vertical-align: middle;\n",
       "    }\n",
       "\n",
       "    .dataframe tbody tr th {\n",
       "        vertical-align: top;\n",
       "    }\n",
       "\n",
       "    .dataframe thead th {\n",
       "        text-align: right;\n",
       "    }\n",
       "</style>\n",
       "<table border=\"1\" class=\"dataframe\">\n",
       "  <thead>\n",
       "    <tr style=\"text-align: right;\">\n",
       "      <th>paper_Original.Subtype</th>\n",
       "      <th>Classical</th>\n",
       "      <th>Mesenchymal</th>\n",
       "      <th>Neural</th>\n",
       "      <th>Proneural</th>\n",
       "    </tr>\n",
       "    <tr>\n",
       "      <th>Neural subgroup (0=low, 1=high)</th>\n",
       "      <th></th>\n",
       "      <th></th>\n",
       "      <th></th>\n",
       "      <th></th>\n",
       "    </tr>\n",
       "  </thead>\n",
       "  <tbody>\n",
       "    <tr>\n",
       "      <th>0</th>\n",
       "      <td>16</td>\n",
       "      <td>16</td>\n",
       "      <td>7</td>\n",
       "      <td>3</td>\n",
       "    </tr>\n",
       "    <tr>\n",
       "      <th>1</th>\n",
       "      <td>10</td>\n",
       "      <td>5</td>\n",
       "      <td>2</td>\n",
       "      <td>11</td>\n",
       "    </tr>\n",
       "  </tbody>\n",
       "</table>\n",
       "</div>"
      ],
      "text/plain": [
       "paper_Original.Subtype           Classical  Mesenchymal  Neural  Proneural\n",
       "Neural subgroup (0=low, 1=high)                                           \n",
       "0                                       16           16       7          3\n",
       "1                                       10            5       2         11"
      ]
     },
     "execution_count": 52,
     "metadata": {},
     "output_type": "execute_result"
    }
   ],
   "source": [
    "crosstab = pd.crosstab(df[\"Neural subgroup (0=low, 1=high)\"], df[\"paper_Original.Subtype\"])\n",
    "crosstab"
   ]
  }
 ],
 "metadata": {
  "kernelspec": {
   "display_name": "Python 3 (ipykernel)",
   "language": "python",
   "name": "python3"
  },
  "language_info": {
   "codemirror_mode": {
    "name": "ipython",
    "version": 3
   },
   "file_extension": ".py",
   "mimetype": "text/x-python",
   "name": "python",
   "nbconvert_exporter": "python",
   "pygments_lexer": "ipython3",
   "version": "3.9.7"
  }
 },
 "nbformat": 4,
 "nbformat_minor": 5
}
