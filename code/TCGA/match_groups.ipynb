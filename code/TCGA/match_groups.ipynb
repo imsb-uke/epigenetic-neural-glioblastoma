{
 "cells": [
  {
   "cell_type": "code",
   "execution_count": 14,
   "id": "e632661a-c3f9-44fd-afac-be4bedc04d27",
   "metadata": {},
   "outputs": [],
   "source": [
    "import os\n",
    "import pandas as pd"
   ]
  },
  {
   "cell_type": "code",
   "execution_count": 15,
   "id": "818007a2-3294-4d8c-b4e5-f90da0b7ed03",
   "metadata": {},
   "outputs": [],
   "source": [
    "df_tcga = pd.read_excel(\"GBM_Methylom_TCGA_clinical-data.xlsx\",\n",
    "                         index_col=0)\n",
    "df_tcga.columns = df_tcga.iloc[0].tolist()\n",
    "df_tcga = df_tcga.iloc[1:]\n",
    "df_tcga = df_tcga.set_index(\"Sample ID\")"
   ]
  },
  {
   "cell_type": "code",
   "execution_count": 16,
   "id": "d285e7ad-c5c1-45eb-a45c-b5a2f1114ba3",
   "metadata": {},
   "outputs": [],
   "source": [
    "df_groups1 = pd.read_csv(\"/data/projects/robin/DNAm_revision/GBM_TCGA_mutations/mapping_hm27.csv\", index_col=0)\n",
    "df_groups2 = pd.read_csv(\"/data/projects/robin/DNAm_revision/GBM_TCGA_mutations/mapping_hm450.csv\", index_col=0)\n",
    "df_groups3 = pd.read_csv(\"/data/projects/robin/DNAm_revision/GBM_TCGA_mutations/LGGmapping_hm450.csv\", index_col=0)\n",
    "df_groups = pd.concat([df_groups1, df_groups2, df_groups3], axis=0)"
   ]
  },
  {
   "cell_type": "code",
   "execution_count": 17,
   "id": "1e0fe21e-5a71-40d9-acd4-ed972580e3d5",
   "metadata": {},
   "outputs": [
    {
     "data": {
      "text/plain": [
       "(984, 8)"
      ]
     },
     "execution_count": 17,
     "metadata": {},
     "output_type": "execute_result"
    }
   ],
   "source": [
    "df_groups.shape"
   ]
  },
  {
   "cell_type": "code",
   "execution_count": 4,
   "id": "cd9aa2ab-de2b-44f8-ab72-799de25535d0",
   "metadata": {},
   "outputs": [
    {
     "data": {
      "text/plain": [
       "array(['Proneural', 'Mesenchymal', 'Classical', 'G-CIMP', nan, 'Neural',\n",
       "       'IDHmut-non-codel', 'IDHmut-codel', 'IDHwt'], dtype=object)"
      ]
     },
     "execution_count": 4,
     "metadata": {},
     "output_type": "execute_result"
    }
   ],
   "source": [
    "df_groups[\"paper_Original.Subtype\"].unique()"
   ]
  },
  {
   "cell_type": "code",
   "execution_count": 5,
   "id": "d4092154-fe8c-4d04-adac-bab0dbf6407d",
   "metadata": {},
   "outputs": [],
   "source": [
    "df_groups[\"ID\"] = [\"-\".join(e.split(\"-\")[0:4]) for e in df_groups.index.tolist()]\n",
    "df_groups = df_groups.reset_index()\n",
    "df_groups = df_groups.set_index(\"ID\")"
   ]
  },
  {
   "cell_type": "code",
   "execution_count": 6,
   "id": "0f53b00d-d96d-4627-9cc3-fccf67913dda",
   "metadata": {},
   "outputs": [],
   "source": [
    "# df_groups"
   ]
  },
  {
   "cell_type": "code",
   "execution_count": 7,
   "id": "48e6a870-0a2f-46dc-a9a8-5e0e600faddd",
   "metadata": {},
   "outputs": [],
   "source": [
    "# df_groups"
   ]
  },
  {
   "cell_type": "code",
   "execution_count": 8,
   "id": "82d8c1df-655f-4937-bc19-0d9437113b0c",
   "metadata": {},
   "outputs": [],
   "source": [
    "df_groups.rename(columns={\"index\": \"barcode\"}, inplace=True)"
   ]
  },
  {
   "cell_type": "code",
   "execution_count": 9,
   "id": "54ca0223-816c-43e4-b500-ec53bd07bb30",
   "metadata": {},
   "outputs": [],
   "source": [
    "# common = list(set()&set())"
   ]
  },
  {
   "cell_type": "code",
   "execution_count": 10,
   "id": "6db722f9-8a9d-4eba-a2c3-6ef6af061024",
   "metadata": {},
   "outputs": [],
   "source": [
    "df_groups = df_groups.loc[df_tcga.index]"
   ]
  },
  {
   "cell_type": "code",
   "execution_count": 11,
   "id": "dc027d31-e7d5-40d6-833e-e8d78755cd3c",
   "metadata": {},
   "outputs": [],
   "source": [
    "idx_dup = df_groups.loc[df_groups.index.value_counts()>1].index.tolist()"
   ]
  },
  {
   "cell_type": "code",
   "execution_count": 12,
   "id": "6a2a4dd5-bd5a-4a08-9544-54ca21c86179",
   "metadata": {},
   "outputs": [
    {
     "data": {
      "text/plain": [
       "array(['TCGA-06-0125-01A', 'TCGA-14-0736-01A', 'TCGA-14-1402-01A',\n",
       "       'TCGA-19-0957-01C', 'TCGA-19-1389-01A'], dtype='<U16')"
      ]
     },
     "execution_count": 12,
     "metadata": {},
     "output_type": "execute_result"
    }
   ],
   "source": [
    "import numpy as np\n",
    "np.unique(idx_dup)"
   ]
  },
  {
   "cell_type": "code",
   "execution_count": 14,
   "id": "043b2f5b-483d-4a89-85e3-2a3ea69e900b",
   "metadata": {},
   "outputs": [],
   "source": [
    "df_groups = df_groups.loc[~df_groups.index.duplicated(keep=\"first\")]"
   ]
  },
  {
   "cell_type": "code",
   "execution_count": 15,
   "id": "2666d84f-5649-460f-a34e-f6203718e06b",
   "metadata": {},
   "outputs": [
    {
     "name": "stdout",
     "output_type": "stream",
     "text": [
      "121\n"
     ]
    }
   ],
   "source": [
    "common = list(set(df_groups.index.tolist())&set(df_tcga.index.tolist()))\n",
    "print(len(common))"
   ]
  },
  {
   "cell_type": "code",
   "execution_count": 16,
   "id": "523055ef-8f7f-465f-a152-93a7840396b6",
   "metadata": {},
   "outputs": [],
   "source": [
    "df_groups, df_tcga = df_groups.loc[common], df_tcga.loc[common]"
   ]
  },
  {
   "cell_type": "code",
   "execution_count": 17,
   "id": "e9ac508e-0b32-42da-8281-fd14a1e11e5b",
   "metadata": {},
   "outputs": [
    {
     "data": {
      "text/plain": [
       "True"
      ]
     },
     "execution_count": 17,
     "metadata": {},
     "output_type": "execute_result"
    }
   ],
   "source": [
    "((df_groups.index==df_tcga.index).all())"
   ]
  },
  {
   "cell_type": "code",
   "execution_count": 18,
   "id": "8b09bbd1-4a05-40a8-9cc2-447b538c1372",
   "metadata": {},
   "outputs": [],
   "source": [
    "df_merged = pd.concat([df_groups, df_tcga], axis=1)"
   ]
  },
  {
   "cell_type": "code",
   "execution_count": 19,
   "id": "bc1cdcdb-fe5a-4b5b-8eb3-533747bcf137",
   "metadata": {},
   "outputs": [],
   "source": [
    "df_merged.to_csv(\"Allgroups_noDupIDs.csv\")"
   ]
  },
  {
   "cell_type": "code",
   "execution_count": null,
   "id": "7be1e69b-a278-4348-a546-9a86aae681bc",
   "metadata": {},
   "outputs": [],
   "source": []
  }
 ],
 "metadata": {
  "kernelspec": {
   "display_name": "Python 3 (ipykernel)",
   "language": "python",
   "name": "python3"
  },
  "language_info": {
   "codemirror_mode": {
    "name": "ipython",
    "version": 3
   },
   "file_extension": ".py",
   "mimetype": "text/x-python",
   "name": "python",
   "nbconvert_exporter": "python",
   "pygments_lexer": "ipython3",
   "version": "3.9.7"
  }
 },
 "nbformat": 4,
 "nbformat_minor": 5
}
