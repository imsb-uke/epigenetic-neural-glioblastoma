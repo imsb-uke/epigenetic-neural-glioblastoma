{
 "cells": [
  {
   "cell_type": "code",
   "execution_count": 1,
   "id": "1489d869-7966-47e3-982f-643965cde093",
   "metadata": {},
   "outputs": [],
   "source": [
    "import os\n",
    "import pandas as pd"
   ]
  },
  {
   "cell_type": "code",
   "execution_count": 2,
   "id": "9f3ec9f6-7338-4575-bbcb-94d767aa6ab2",
   "metadata": {},
   "outputs": [],
   "source": [
    "df_tcga_old = pd.read_excel(\"/data/projects/robin/cell_free/LGG_TCGA_Idats_26092022/DE_LGG_TCGA/TCGA_LGG_IDHmut_Neurons_DMG analysis.xlsx\",\n",
    "                         index_col=0)"
   ]
  },
  {
   "cell_type": "code",
   "execution_count": 3,
   "id": "b4a743ad-6b1b-40f9-97d4-c03590a3ae98",
   "metadata": {},
   "outputs": [],
   "source": [
    "df_tcga = pd.read_excel(\"GBM_Methylom_TCGA_clinical-data.xlsx\",\n",
    "                         index_col=0)"
   ]
  },
  {
   "cell_type": "code",
   "execution_count": 8,
   "id": "94fa5df9-045a-4868-a287-333b1f204fba",
   "metadata": {},
   "outputs": [
    {
     "data": {
      "text/html": [
       "<div>\n",
       "<style scoped>\n",
       "    .dataframe tbody tr th:only-of-type {\n",
       "        vertical-align: middle;\n",
       "    }\n",
       "\n",
       "    .dataframe tbody tr th {\n",
       "        vertical-align: top;\n",
       "    }\n",
       "\n",
       "    .dataframe thead th {\n",
       "        text-align: right;\n",
       "    }\n",
       "</style>\n",
       "<table border=\"1\" class=\"dataframe\">\n",
       "  <thead>\n",
       "    <tr style=\"text-align: right;\">\n",
       "      <th></th>\n",
       "      <th>Project TCGA</th>\n",
       "      <th>Unnamed: 2</th>\n",
       "      <th>Unnamed: 3</th>\n",
       "      <th>Unnamed: 4</th>\n",
       "      <th>Unnamed: 5</th>\n",
       "      <th>Unnamed: 6</th>\n",
       "      <th>Unnamed: 7</th>\n",
       "      <th>Unnamed: 8</th>\n",
       "      <th>Unnamed: 9</th>\n",
       "      <th>Unnamed: 10</th>\n",
       "      <th>Unnamed: 11</th>\n",
       "      <th>Unnamed: 12</th>\n",
       "      <th>Unnamed: 13</th>\n",
       "      <th>Unnamed: 14</th>\n",
       "      <th>Deconvolution</th>\n",
       "      <th>Methylation</th>\n",
       "    </tr>\n",
       "    <tr>\n",
       "      <th>Idat</th>\n",
       "      <th></th>\n",
       "      <th></th>\n",
       "      <th></th>\n",
       "      <th></th>\n",
       "      <th></th>\n",
       "      <th></th>\n",
       "      <th></th>\n",
       "      <th></th>\n",
       "      <th></th>\n",
       "      <th></th>\n",
       "      <th></th>\n",
       "      <th></th>\n",
       "      <th></th>\n",
       "      <th></th>\n",
       "      <th></th>\n",
       "      <th></th>\n",
       "    </tr>\n",
       "  </thead>\n",
       "  <tbody>\n",
       "    <tr>\n",
       "      <th>Sentrix ID</th>\n",
       "      <td>Project ID</td>\n",
       "      <td>Case ID</td>\n",
       "      <td>Sample ID</td>\n",
       "      <td>Case UUID</td>\n",
       "      <td>ID</td>\n",
       "      <td>File Name</td>\n",
       "      <td>Data Category</td>\n",
       "      <td>Data Type</td>\n",
       "      <td>Sample Type</td>\n",
       "      <td>year of diagnosis</td>\n",
       "      <td>age at index</td>\n",
       "      <td>days to death</td>\n",
       "      <td>gender</td>\n",
       "      <td>vital status (0=alive, 1=dead)</td>\n",
       "      <td>Neural signature score</td>\n",
       "      <td>Neural subgroup (0=low, 1=high)</td>\n",
       "    </tr>\n",
       "    <tr>\n",
       "      <th>6929718035_R03C02</th>\n",
       "      <td>TCGA-GBM</td>\n",
       "      <td>TCGA-28-5211</td>\n",
       "      <td>TCGA-28-5211-01C</td>\n",
       "      <td>cf6689b9-d0fa-4461-a6b7-db477629e258</td>\n",
       "      <td>fd30bbbe-fec3-4b99-b6d5-11208b4d6245</td>\n",
       "      <td>jhu-usc.edu_GBM.HumanMethylation450.8.lvl-3.TC...</td>\n",
       "      <td>DNA Methylation</td>\n",
       "      <td>Methylation Beta Value</td>\n",
       "      <td>Primary Tumor</td>\n",
       "      <td>2010</td>\n",
       "      <td>42</td>\n",
       "      <td>'--</td>\n",
       "      <td>male</td>\n",
       "      <td>0</td>\n",
       "      <td>0.22</td>\n",
       "      <td>0</td>\n",
       "    </tr>\n",
       "    <tr>\n",
       "      <th>6042316092_R01C02</th>\n",
       "      <td>TCGA-GBM</td>\n",
       "      <td>TCGA-19-5955</td>\n",
       "      <td>TCGA-19-5955-01A</td>\n",
       "      <td>ad7a6a27-c517-49ef-a9f9-518dccda23b4</td>\n",
       "      <td>0000c40e-9d45-4446-9dd9-a4676224d0ce</td>\n",
       "      <td>jhu-usc.edu_GBM.HumanMethylation450.7.lvl-3.TC...</td>\n",
       "      <td>DNA Methylation</td>\n",
       "      <td>Methylation Beta Value</td>\n",
       "      <td>Primary Tumor</td>\n",
       "      <td>2010</td>\n",
       "      <td>83</td>\n",
       "      <td>54</td>\n",
       "      <td>male</td>\n",
       "      <td>1</td>\n",
       "      <td>0.244</td>\n",
       "      <td>0</td>\n",
       "    </tr>\n",
       "    <tr>\n",
       "      <th>6042316090_R04C02</th>\n",
       "      <td>TCGA-GBM</td>\n",
       "      <td>TCGA-19-5947</td>\n",
       "      <td>TCGA-19-5947-01A</td>\n",
       "      <td>13b4d676-ee9b-499b-94bb-2365830fb37e</td>\n",
       "      <td>5d7b931b-5f56-4937-b97a-158f1e128598</td>\n",
       "      <td>jhu-usc.edu_GBM.HumanMethylation450.7.lvl-3.TC...</td>\n",
       "      <td>DNA Methylation</td>\n",
       "      <td>Methylation Beta Value</td>\n",
       "      <td>Primary Tumor</td>\n",
       "      <td>2010</td>\n",
       "      <td>47</td>\n",
       "      <td>202</td>\n",
       "      <td>female</td>\n",
       "      <td>1</td>\n",
       "      <td>0.245</td>\n",
       "      <td>0</td>\n",
       "    </tr>\n",
       "    <tr>\n",
       "      <th>6929718033_R04C01</th>\n",
       "      <td>TCGA-GBM</td>\n",
       "      <td>TCGA-06-6697</td>\n",
       "      <td>TCGA-06-6697-01A</td>\n",
       "      <td>b28b3575-8097-4a97-b32a-5f0eeff64863</td>\n",
       "      <td>bc45e5b5-8a92-48a3-80b9-822ad3a0f332</td>\n",
       "      <td>jhu-usc.edu_GBM.HumanMethylation450.8.lvl-3.TC...</td>\n",
       "      <td>DNA Methylation</td>\n",
       "      <td>Methylation Beta Value</td>\n",
       "      <td>Primary Tumor</td>\n",
       "      <td>2010</td>\n",
       "      <td>65</td>\n",
       "      <td>'--</td>\n",
       "      <td>male</td>\n",
       "      <td>0</td>\n",
       "      <td>0.251</td>\n",
       "      <td>0</td>\n",
       "    </tr>\n",
       "  </tbody>\n",
       "</table>\n",
       "</div>"
      ],
      "text/plain": [
       "                  Project TCGA    Unnamed: 2        Unnamed: 3  \\\n",
       "Idat                                                             \n",
       "Sentrix ID          Project ID       Case ID         Sample ID   \n",
       "6929718035_R03C02     TCGA-GBM  TCGA-28-5211  TCGA-28-5211-01C   \n",
       "6042316092_R01C02     TCGA-GBM  TCGA-19-5955  TCGA-19-5955-01A   \n",
       "6042316090_R04C02     TCGA-GBM  TCGA-19-5947  TCGA-19-5947-01A   \n",
       "6929718033_R04C01     TCGA-GBM  TCGA-06-6697  TCGA-06-6697-01A   \n",
       "\n",
       "                                             Unnamed: 4  \\\n",
       "Idat                                                      \n",
       "Sentrix ID                                    Case UUID   \n",
       "6929718035_R03C02  cf6689b9-d0fa-4461-a6b7-db477629e258   \n",
       "6042316092_R01C02  ad7a6a27-c517-49ef-a9f9-518dccda23b4   \n",
       "6042316090_R04C02  13b4d676-ee9b-499b-94bb-2365830fb37e   \n",
       "6929718033_R04C01  b28b3575-8097-4a97-b32a-5f0eeff64863   \n",
       "\n",
       "                                             Unnamed: 5  \\\n",
       "Idat                                                      \n",
       "Sentrix ID                                           ID   \n",
       "6929718035_R03C02  fd30bbbe-fec3-4b99-b6d5-11208b4d6245   \n",
       "6042316092_R01C02  0000c40e-9d45-4446-9dd9-a4676224d0ce   \n",
       "6042316090_R04C02  5d7b931b-5f56-4937-b97a-158f1e128598   \n",
       "6929718033_R04C01  bc45e5b5-8a92-48a3-80b9-822ad3a0f332   \n",
       "\n",
       "                                                          Unnamed: 6  \\\n",
       "Idat                                                                   \n",
       "Sentrix ID                                                 File Name   \n",
       "6929718035_R03C02  jhu-usc.edu_GBM.HumanMethylation450.8.lvl-3.TC...   \n",
       "6042316092_R01C02  jhu-usc.edu_GBM.HumanMethylation450.7.lvl-3.TC...   \n",
       "6042316090_R04C02  jhu-usc.edu_GBM.HumanMethylation450.7.lvl-3.TC...   \n",
       "6929718033_R04C01  jhu-usc.edu_GBM.HumanMethylation450.8.lvl-3.TC...   \n",
       "\n",
       "                        Unnamed: 7              Unnamed: 8     Unnamed: 9  \\\n",
       "Idat                                                                        \n",
       "Sentrix ID           Data Category               Data Type    Sample Type   \n",
       "6929718035_R03C02  DNA Methylation  Methylation Beta Value  Primary Tumor   \n",
       "6042316092_R01C02  DNA Methylation  Methylation Beta Value  Primary Tumor   \n",
       "6042316090_R04C02  DNA Methylation  Methylation Beta Value  Primary Tumor   \n",
       "6929718033_R04C01  DNA Methylation  Methylation Beta Value  Primary Tumor   \n",
       "\n",
       "                         Unnamed: 10   Unnamed: 11    Unnamed: 12 Unnamed: 13  \\\n",
       "Idat                                                                            \n",
       "Sentrix ID         year of diagnosis  age at index  days to death      gender   \n",
       "6929718035_R03C02               2010            42            '--        male   \n",
       "6042316092_R01C02               2010            83             54        male   \n",
       "6042316090_R04C02               2010            47            202      female   \n",
       "6929718033_R04C01               2010            65            '--        male   \n",
       "\n",
       "                                      Unnamed: 14           Deconvolution  \\\n",
       "Idat                                                                        \n",
       "Sentrix ID         vital status (0=alive, 1=dead)  Neural signature score   \n",
       "6929718035_R03C02                               0                    0.22   \n",
       "6042316092_R01C02                               1                   0.244   \n",
       "6042316090_R04C02                               1                   0.245   \n",
       "6929718033_R04C01                               0                   0.251   \n",
       "\n",
       "                                       Methylation  \n",
       "Idat                                                \n",
       "Sentrix ID         Neural subgroup (0=low, 1=high)  \n",
       "6929718035_R03C02                                0  \n",
       "6042316092_R01C02                                0  \n",
       "6042316090_R04C02                                0  \n",
       "6929718033_R04C01                                0  "
      ]
     },
     "execution_count": 8,
     "metadata": {},
     "output_type": "execute_result"
    }
   ],
   "source": [
    "df_tcga.head()"
   ]
  },
  {
   "cell_type": "code",
   "execution_count": 9,
   "id": "900ca9ec-0664-487b-8619-ad8f8d73598d",
   "metadata": {},
   "outputs": [],
   "source": [
    "df_tcga.columns = df_tcga.iloc[0].tolist()\n",
    "df_tcga = df_tcga.iloc[1:]"
   ]
  },
  {
   "cell_type": "code",
   "execution_count": 10,
   "id": "a8e4337b-ad3d-4f58-b5bf-ede3a4c2ee55",
   "metadata": {},
   "outputs": [
    {
     "data": {
      "text/html": [
       "<div>\n",
       "<style scoped>\n",
       "    .dataframe tbody tr th:only-of-type {\n",
       "        vertical-align: middle;\n",
       "    }\n",
       "\n",
       "    .dataframe tbody tr th {\n",
       "        vertical-align: top;\n",
       "    }\n",
       "\n",
       "    .dataframe thead th {\n",
       "        text-align: right;\n",
       "    }\n",
       "</style>\n",
       "<table border=\"1\" class=\"dataframe\">\n",
       "  <thead>\n",
       "    <tr style=\"text-align: right;\">\n",
       "      <th></th>\n",
       "      <th>Project ID</th>\n",
       "      <th>Case ID</th>\n",
       "      <th>Sample ID</th>\n",
       "      <th>Case UUID</th>\n",
       "      <th>ID</th>\n",
       "      <th>File Name</th>\n",
       "      <th>Data Category</th>\n",
       "      <th>Data Type</th>\n",
       "      <th>Sample Type</th>\n",
       "      <th>year of diagnosis</th>\n",
       "      <th>age at index</th>\n",
       "      <th>days to death</th>\n",
       "      <th>gender</th>\n",
       "      <th>vital status (0=alive, 1=dead)</th>\n",
       "      <th>Neural signature score</th>\n",
       "      <th>Neural subgroup (0=low, 1=high)</th>\n",
       "    </tr>\n",
       "    <tr>\n",
       "      <th>Idat</th>\n",
       "      <th></th>\n",
       "      <th></th>\n",
       "      <th></th>\n",
       "      <th></th>\n",
       "      <th></th>\n",
       "      <th></th>\n",
       "      <th></th>\n",
       "      <th></th>\n",
       "      <th></th>\n",
       "      <th></th>\n",
       "      <th></th>\n",
       "      <th></th>\n",
       "      <th></th>\n",
       "      <th></th>\n",
       "      <th></th>\n",
       "      <th></th>\n",
       "    </tr>\n",
       "  </thead>\n",
       "  <tbody>\n",
       "    <tr>\n",
       "      <th>6929718035_R03C02</th>\n",
       "      <td>TCGA-GBM</td>\n",
       "      <td>TCGA-28-5211</td>\n",
       "      <td>TCGA-28-5211-01C</td>\n",
       "      <td>cf6689b9-d0fa-4461-a6b7-db477629e258</td>\n",
       "      <td>fd30bbbe-fec3-4b99-b6d5-11208b4d6245</td>\n",
       "      <td>jhu-usc.edu_GBM.HumanMethylation450.8.lvl-3.TC...</td>\n",
       "      <td>DNA Methylation</td>\n",
       "      <td>Methylation Beta Value</td>\n",
       "      <td>Primary Tumor</td>\n",
       "      <td>2010</td>\n",
       "      <td>42</td>\n",
       "      <td>'--</td>\n",
       "      <td>male</td>\n",
       "      <td>0</td>\n",
       "      <td>0.22</td>\n",
       "      <td>0</td>\n",
       "    </tr>\n",
       "    <tr>\n",
       "      <th>6042316092_R01C02</th>\n",
       "      <td>TCGA-GBM</td>\n",
       "      <td>TCGA-19-5955</td>\n",
       "      <td>TCGA-19-5955-01A</td>\n",
       "      <td>ad7a6a27-c517-49ef-a9f9-518dccda23b4</td>\n",
       "      <td>0000c40e-9d45-4446-9dd9-a4676224d0ce</td>\n",
       "      <td>jhu-usc.edu_GBM.HumanMethylation450.7.lvl-3.TC...</td>\n",
       "      <td>DNA Methylation</td>\n",
       "      <td>Methylation Beta Value</td>\n",
       "      <td>Primary Tumor</td>\n",
       "      <td>2010</td>\n",
       "      <td>83</td>\n",
       "      <td>54</td>\n",
       "      <td>male</td>\n",
       "      <td>1</td>\n",
       "      <td>0.244</td>\n",
       "      <td>0</td>\n",
       "    </tr>\n",
       "    <tr>\n",
       "      <th>6042316090_R04C02</th>\n",
       "      <td>TCGA-GBM</td>\n",
       "      <td>TCGA-19-5947</td>\n",
       "      <td>TCGA-19-5947-01A</td>\n",
       "      <td>13b4d676-ee9b-499b-94bb-2365830fb37e</td>\n",
       "      <td>5d7b931b-5f56-4937-b97a-158f1e128598</td>\n",
       "      <td>jhu-usc.edu_GBM.HumanMethylation450.7.lvl-3.TC...</td>\n",
       "      <td>DNA Methylation</td>\n",
       "      <td>Methylation Beta Value</td>\n",
       "      <td>Primary Tumor</td>\n",
       "      <td>2010</td>\n",
       "      <td>47</td>\n",
       "      <td>202</td>\n",
       "      <td>female</td>\n",
       "      <td>1</td>\n",
       "      <td>0.245</td>\n",
       "      <td>0</td>\n",
       "    </tr>\n",
       "    <tr>\n",
       "      <th>6929718033_R04C01</th>\n",
       "      <td>TCGA-GBM</td>\n",
       "      <td>TCGA-06-6697</td>\n",
       "      <td>TCGA-06-6697-01A</td>\n",
       "      <td>b28b3575-8097-4a97-b32a-5f0eeff64863</td>\n",
       "      <td>bc45e5b5-8a92-48a3-80b9-822ad3a0f332</td>\n",
       "      <td>jhu-usc.edu_GBM.HumanMethylation450.8.lvl-3.TC...</td>\n",
       "      <td>DNA Methylation</td>\n",
       "      <td>Methylation Beta Value</td>\n",
       "      <td>Primary Tumor</td>\n",
       "      <td>2010</td>\n",
       "      <td>65</td>\n",
       "      <td>'--</td>\n",
       "      <td>male</td>\n",
       "      <td>0</td>\n",
       "      <td>0.251</td>\n",
       "      <td>0</td>\n",
       "    </tr>\n",
       "    <tr>\n",
       "      <th>6042324058_R01C02</th>\n",
       "      <td>TCGA-GBM</td>\n",
       "      <td>TCGA-76-4928</td>\n",
       "      <td>TCGA-76-4928-01B</td>\n",
       "      <td>dfa3ef71-7006-4c6d-81c4-e0c0c7b75c26</td>\n",
       "      <td>e0c1ca9c-41ed-4311-bdb3-1fe8114fad34</td>\n",
       "      <td>jhu-usc.edu_GBM.HumanMethylation450.6.lvl-3.TC...</td>\n",
       "      <td>DNA Methylation</td>\n",
       "      <td>Methylation Beta Value</td>\n",
       "      <td>Primary Tumor</td>\n",
       "      <td>2005</td>\n",
       "      <td>85</td>\n",
       "      <td>94</td>\n",
       "      <td>female</td>\n",
       "      <td>1</td>\n",
       "      <td>0.257</td>\n",
       "      <td>0</td>\n",
       "    </tr>\n",
       "  </tbody>\n",
       "</table>\n",
       "</div>"
      ],
      "text/plain": [
       "                  Project ID       Case ID         Sample ID  \\\n",
       "Idat                                                           \n",
       "6929718035_R03C02   TCGA-GBM  TCGA-28-5211  TCGA-28-5211-01C   \n",
       "6042316092_R01C02   TCGA-GBM  TCGA-19-5955  TCGA-19-5955-01A   \n",
       "6042316090_R04C02   TCGA-GBM  TCGA-19-5947  TCGA-19-5947-01A   \n",
       "6929718033_R04C01   TCGA-GBM  TCGA-06-6697  TCGA-06-6697-01A   \n",
       "6042324058_R01C02   TCGA-GBM  TCGA-76-4928  TCGA-76-4928-01B   \n",
       "\n",
       "                                              Case UUID  \\\n",
       "Idat                                                      \n",
       "6929718035_R03C02  cf6689b9-d0fa-4461-a6b7-db477629e258   \n",
       "6042316092_R01C02  ad7a6a27-c517-49ef-a9f9-518dccda23b4   \n",
       "6042316090_R04C02  13b4d676-ee9b-499b-94bb-2365830fb37e   \n",
       "6929718033_R04C01  b28b3575-8097-4a97-b32a-5f0eeff64863   \n",
       "6042324058_R01C02  dfa3ef71-7006-4c6d-81c4-e0c0c7b75c26   \n",
       "\n",
       "                                                     ID  \\\n",
       "Idat                                                      \n",
       "6929718035_R03C02  fd30bbbe-fec3-4b99-b6d5-11208b4d6245   \n",
       "6042316092_R01C02  0000c40e-9d45-4446-9dd9-a4676224d0ce   \n",
       "6042316090_R04C02  5d7b931b-5f56-4937-b97a-158f1e128598   \n",
       "6929718033_R04C01  bc45e5b5-8a92-48a3-80b9-822ad3a0f332   \n",
       "6042324058_R01C02  e0c1ca9c-41ed-4311-bdb3-1fe8114fad34   \n",
       "\n",
       "                                                           File Name  \\\n",
       "Idat                                                                   \n",
       "6929718035_R03C02  jhu-usc.edu_GBM.HumanMethylation450.8.lvl-3.TC...   \n",
       "6042316092_R01C02  jhu-usc.edu_GBM.HumanMethylation450.7.lvl-3.TC...   \n",
       "6042316090_R04C02  jhu-usc.edu_GBM.HumanMethylation450.7.lvl-3.TC...   \n",
       "6929718033_R04C01  jhu-usc.edu_GBM.HumanMethylation450.8.lvl-3.TC...   \n",
       "6042324058_R01C02  jhu-usc.edu_GBM.HumanMethylation450.6.lvl-3.TC...   \n",
       "\n",
       "                     Data Category               Data Type    Sample Type  \\\n",
       "Idat                                                                        \n",
       "6929718035_R03C02  DNA Methylation  Methylation Beta Value  Primary Tumor   \n",
       "6042316092_R01C02  DNA Methylation  Methylation Beta Value  Primary Tumor   \n",
       "6042316090_R04C02  DNA Methylation  Methylation Beta Value  Primary Tumor   \n",
       "6929718033_R04C01  DNA Methylation  Methylation Beta Value  Primary Tumor   \n",
       "6042324058_R01C02  DNA Methylation  Methylation Beta Value  Primary Tumor   \n",
       "\n",
       "                  year of diagnosis age at index days to death  gender  \\\n",
       "Idat                                                                     \n",
       "6929718035_R03C02              2010           42           '--    male   \n",
       "6042316092_R01C02              2010           83            54    male   \n",
       "6042316090_R04C02              2010           47           202  female   \n",
       "6929718033_R04C01              2010           65           '--    male   \n",
       "6042324058_R01C02              2005           85            94  female   \n",
       "\n",
       "                  vital status (0=alive, 1=dead) Neural signature score  \\\n",
       "Idat                                                                      \n",
       "6929718035_R03C02                              0                   0.22   \n",
       "6042316092_R01C02                              1                  0.244   \n",
       "6042316090_R04C02                              1                  0.245   \n",
       "6929718033_R04C01                              0                  0.251   \n",
       "6042324058_R01C02                              1                  0.257   \n",
       "\n",
       "                  Neural subgroup (0=low, 1=high)  \n",
       "Idat                                               \n",
       "6929718035_R03C02                               0  \n",
       "6042316092_R01C02                               0  \n",
       "6042316090_R04C02                               0  \n",
       "6929718033_R04C01                               0  \n",
       "6042324058_R01C02                               0  "
      ]
     },
     "execution_count": 10,
     "metadata": {},
     "output_type": "execute_result"
    }
   ],
   "source": [
    "df_tcga.head()"
   ]
  },
  {
   "cell_type": "code",
   "execution_count": null,
   "id": "31564b91-5125-44b3-8590-e6f407526a20",
   "metadata": {},
   "outputs": [],
   "source": [
    "df_tcga = df_tcga.set_index(\"Sample ID\")"
   ]
  },
  {
   "cell_type": "code",
   "execution_count": 11,
   "id": "59d6a9fc-647a-4d39-b2ee-53306966a3e2",
   "metadata": {},
   "outputs": [
    {
     "name": "stderr",
     "output_type": "stream",
     "text": [
      "/tmp/ipykernel_58293/4128645357.py:1: DtypeWarning: Columns (122) have mixed types. Specify dtype option on import or set low_memory=False.\n",
      "  df_maf = pd.read_csv(\"../GBM_TCGA_mutations/maf.csv\", index_col=0)\n"
     ]
    }
   ],
   "source": [
    "df_maf = pd.read_csv(\"../GBM_TCGA_mutations/maf.csv\", index_col=0)"
   ]
  },
  {
   "cell_type": "code",
   "execution_count": 12,
   "id": "ed5a4409-5546-4736-b2fa-ce826023b8bc",
   "metadata": {},
   "outputs": [],
   "source": [
    "df_maf[\"ID\"] = [\"-\".join(e.split(\"-\")[0:4]) for e in df_maf[\"Tumor_Sample_Barcode\"].tolist()]\n",
    "df_maf.index = df_maf[\"Tumor_Sample_Barcode\"].copy()"
   ]
  },
  {
   "cell_type": "code",
   "execution_count": 13,
   "id": "d01bea6a-346c-420f-bd83-353137e0d1a1",
   "metadata": {},
   "outputs": [
    {
     "data": {
      "text/plain": [
       "((987,), (121, 16))"
      ]
     },
     "execution_count": 13,
     "metadata": {},
     "output_type": "execute_result"
    }
   ],
   "source": [
    "df_maf.index.unique().shape, df_tcga.shape"
   ]
  },
  {
   "cell_type": "code",
   "execution_count": 17,
   "id": "8a3f1e18-87f5-4cf8-ace7-39c6ed9f8fb1",
   "metadata": {},
   "outputs": [],
   "source": [
    "df_maf[\"gene_start_end\"] = df_maf[\"Hugo_Symbol\"]+\"_\"+df_maf[\"Start_Position\"].astype(str)+\"-\"+df_maf[\"End_Position\"].astype(str)"
   ]
  },
  {
   "cell_type": "code",
   "execution_count": 18,
   "id": "b587567f-87d6-4f39-8541-5950308d0729",
   "metadata": {},
   "outputs": [],
   "source": [
    "df_maf = df_maf[[\"Hugo_Symbol\", \"gene_start_end\", \"Variant_Classification\", \"ID\"]]\n",
    "df_maf = df_maf.reset_index()\n",
    "df_maf.rename(columns={\"Tumor_Sample_Barcode\": \"barcode\",\n",
    "                      \"Hugo_Symbol\": \"gene\"}, inplace=True)\n",
    "df_maf = df_maf.set_index(\"ID\")"
   ]
  },
  {
   "cell_type": "code",
   "execution_count": 25,
   "id": "7d247a7c-b2e7-4515-930c-3a922ac00f18",
   "metadata": {},
   "outputs": [
    {
     "name": "stdout",
     "output_type": "stream",
     "text": [
      "114\n"
     ]
    }
   ],
   "source": [
    "common = list(set(df_maf.index.tolist())&set(df_tcga.index.tolist()))\n",
    "print(len(common))"
   ]
  },
  {
   "cell_type": "code",
   "execution_count": 26,
   "id": "8bbdcfae-3c84-4f4d-b6d2-3dd9d5795532",
   "metadata": {},
   "outputs": [
    {
     "name": "stdout",
     "output_type": "stream",
     "text": [
      "['TCGA-06-0211-01A', 'TCGA-06-0210-01A', 'TCGA-19-1389-01A', 'TCGA-14-1402-01A', 'TCGA-19-5952-01A', 'TCGA-28-5207-01A', 'TCGA-26-5132-01A']\n"
     ]
    }
   ],
   "source": [
    "missing = [idx for idx in df_tcga.index if idx not in common]\n",
    "print(missing)"
   ]
  },
  {
   "cell_type": "code",
   "execution_count": 27,
   "id": "56e00327-3d72-4470-a87f-a6356540de4e",
   "metadata": {},
   "outputs": [],
   "source": [
    "df_maf = df_maf.loc[common]"
   ]
  },
  {
   "cell_type": "code",
   "execution_count": 28,
   "id": "39b8b003-4032-482b-87f1-59eab3f82ae9",
   "metadata": {},
   "outputs": [],
   "source": [
    "symbols = [\"TP53\", \"IDH1\", \"PTEN\", \"ATRX\", \"EGFR\", \"NF1\", \"TERT\", \"RB1\", \"PIK3CA\", \"PIK3R1\", \"CIC\", \"FUBP1\"]"
   ]
  },
  {
   "cell_type": "code",
   "execution_count": 29,
   "id": "6209a5c6-550e-49e2-b373-17b9677d5b59",
   "metadata": {},
   "outputs": [],
   "source": [
    "df_maf = df_maf[df_maf.gene.isin(symbols)]"
   ]
  },
  {
   "cell_type": "code",
   "execution_count": 30,
   "id": "e5e81c04-c3c0-466a-b127-60ccac792fdb",
   "metadata": {},
   "outputs": [
    {
     "data": {
      "text/plain": [
       "(158,)"
      ]
     },
     "execution_count": 30,
     "metadata": {},
     "output_type": "execute_result"
    }
   ],
   "source": [
    "df_maf.gene_start_end.unique().shape"
   ]
  },
  {
   "cell_type": "code",
   "execution_count": 31,
   "id": "4ed99f32-c639-413e-901e-05ec994753f8",
   "metadata": {},
   "outputs": [
    {
     "data": {
      "text/plain": [
       "(178, 4)"
      ]
     },
     "execution_count": 31,
     "metadata": {},
     "output_type": "execute_result"
    }
   ],
   "source": [
    "df_maf.shape"
   ]
  },
  {
   "cell_type": "code",
   "execution_count": 32,
   "id": "9190147f-2670-42cc-a0b1-217e6cb76399",
   "metadata": {},
   "outputs": [
    {
     "data": {
      "text/plain": [
       "array(['PTEN', 'EGFR', 'RB1', 'TP53', 'NF1', 'PIK3R1', 'ATRX', 'PIK3CA',\n",
       "       'TERT', 'CIC', 'FUBP1'], dtype=object)"
      ]
     },
     "execution_count": 32,
     "metadata": {},
     "output_type": "execute_result"
    }
   ],
   "source": [
    "df_maf.gene.unique()"
   ]
  },
  {
   "cell_type": "code",
   "execution_count": 33,
   "id": "babdfafa-7997-407b-8cb5-a564f636cf89",
   "metadata": {},
   "outputs": [
    {
     "data": {
      "text/plain": [
       "TCGA-19-5956-01A    21\n",
       "TCGA-76-6286-01A     5\n",
       "TCGA-06-5858-01A     4\n",
       "TCGA-76-6193-01A     4\n",
       "TCGA-06-6698-01A     4\n",
       "                    ..\n",
       "TCGA-28-5215-01A     1\n",
       "TCGA-06-A7TK-01A     1\n",
       "TCGA-32-5222-01A     1\n",
       "TCGA-19-A60I-01A     1\n",
       "TCGA-76-6661-01B     1\n",
       "Name: ID, Length: 86, dtype: int64"
      ]
     },
     "execution_count": 33,
     "metadata": {},
     "output_type": "execute_result"
    }
   ],
   "source": [
    "df_maf.index.value_counts()"
   ]
  },
  {
   "cell_type": "code",
   "execution_count": 34,
   "id": "b7520d8a-8d1e-456a-9845-8ae13eb291de",
   "metadata": {},
   "outputs": [
    {
     "data": {
      "text/html": [
       "<div>\n",
       "<style scoped>\n",
       "    .dataframe tbody tr th:only-of-type {\n",
       "        vertical-align: middle;\n",
       "    }\n",
       "\n",
       "    .dataframe tbody tr th {\n",
       "        vertical-align: top;\n",
       "    }\n",
       "\n",
       "    .dataframe thead th {\n",
       "        text-align: right;\n",
       "    }\n",
       "</style>\n",
       "<table border=\"1\" class=\"dataframe\">\n",
       "  <thead>\n",
       "    <tr style=\"text-align: right;\">\n",
       "      <th></th>\n",
       "      <th>barcode</th>\n",
       "      <th>gene</th>\n",
       "      <th>gene_start_end</th>\n",
       "      <th>Variant_Classification</th>\n",
       "    </tr>\n",
       "    <tr>\n",
       "      <th>ID</th>\n",
       "      <th></th>\n",
       "      <th></th>\n",
       "      <th></th>\n",
       "      <th></th>\n",
       "    </tr>\n",
       "  </thead>\n",
       "  <tbody>\n",
       "    <tr>\n",
       "      <th>TCGA-76-6661-01B</th>\n",
       "      <td>TCGA-76-6661-01B-11D-1845-08</td>\n",
       "      <td>PTEN</td>\n",
       "      <td>PTEN_87960907-87960907</td>\n",
       "      <td>Missense_Mutation</td>\n",
       "    </tr>\n",
       "    <tr>\n",
       "      <th>TCGA-76-6192-01A</th>\n",
       "      <td>TCGA-76-6192-01A-11D-1696-08</td>\n",
       "      <td>PTEN</td>\n",
       "      <td>PTEN_87960893-87960893</td>\n",
       "      <td>Splice_Site</td>\n",
       "    </tr>\n",
       "    <tr>\n",
       "      <th>TCGA-28-5213-01A</th>\n",
       "      <td>TCGA-28-5213-01A-01D-1486-08</td>\n",
       "      <td>EGFR</td>\n",
       "      <td>EGFR_55165350-55165350</td>\n",
       "      <td>Missense_Mutation</td>\n",
       "    </tr>\n",
       "    <tr>\n",
       "      <th>TCGA-06-0650-01A</th>\n",
       "      <td>TCGA-06-0650-01A-02D-1696-08</td>\n",
       "      <td>PTEN</td>\n",
       "      <td>PTEN_87957915-87957915</td>\n",
       "      <td>Nonsense_Mutation</td>\n",
       "    </tr>\n",
       "    <tr>\n",
       "      <th>TCGA-76-6283-01A</th>\n",
       "      <td>TCGA-76-6283-01A-11D-1845-08</td>\n",
       "      <td>PTEN</td>\n",
       "      <td>PTEN_87864508-87864510</td>\n",
       "      <td>In_Frame_Del</td>\n",
       "    </tr>\n",
       "    <tr>\n",
       "      <th>...</th>\n",
       "      <td>...</td>\n",
       "      <td>...</td>\n",
       "      <td>...</td>\n",
       "      <td>...</td>\n",
       "    </tr>\n",
       "    <tr>\n",
       "      <th>TCGA-06-6698-01A</th>\n",
       "      <td>TCGA-06-6698-01A-11D-1845-08</td>\n",
       "      <td>NF1</td>\n",
       "      <td>NF1_31334880-31334880</td>\n",
       "      <td>Nonsense_Mutation</td>\n",
       "    </tr>\n",
       "    <tr>\n",
       "      <th>TCGA-06-0171-01A</th>\n",
       "      <td>TCGA-06-0171-01A-02D-1491-08</td>\n",
       "      <td>PIK3CA</td>\n",
       "      <td>PIK3CA_179234284-179234284</td>\n",
       "      <td>Missense_Mutation</td>\n",
       "    </tr>\n",
       "    <tr>\n",
       "      <th>TCGA-81-5911-01A</th>\n",
       "      <td>TCGA-81-5911-01A-12D-1845-08</td>\n",
       "      <td>EGFR</td>\n",
       "      <td>EGFR_55154129-55154129</td>\n",
       "      <td>Missense_Mutation</td>\n",
       "    </tr>\n",
       "    <tr>\n",
       "      <th>TCGA-81-5911-01A</th>\n",
       "      <td>TCGA-81-5911-01A-12D-1845-08</td>\n",
       "      <td>PTEN</td>\n",
       "      <td>PTEN_87933166-87933166</td>\n",
       "      <td>Missense_Mutation</td>\n",
       "    </tr>\n",
       "    <tr>\n",
       "      <th>TCGA-81-5911-01A</th>\n",
       "      <td>TCGA-81-5911-01A-12D-1845-08</td>\n",
       "      <td>RB1</td>\n",
       "      <td>RB1_48360072-48360072</td>\n",
       "      <td>Nonsense_Mutation</td>\n",
       "    </tr>\n",
       "  </tbody>\n",
       "</table>\n",
       "<p>178 rows × 4 columns</p>\n",
       "</div>"
      ],
      "text/plain": [
       "                                       barcode    gene  \\\n",
       "ID                                                       \n",
       "TCGA-76-6661-01B  TCGA-76-6661-01B-11D-1845-08    PTEN   \n",
       "TCGA-76-6192-01A  TCGA-76-6192-01A-11D-1696-08    PTEN   \n",
       "TCGA-28-5213-01A  TCGA-28-5213-01A-01D-1486-08    EGFR   \n",
       "TCGA-06-0650-01A  TCGA-06-0650-01A-02D-1696-08    PTEN   \n",
       "TCGA-76-6283-01A  TCGA-76-6283-01A-11D-1845-08    PTEN   \n",
       "...                                        ...     ...   \n",
       "TCGA-06-6698-01A  TCGA-06-6698-01A-11D-1845-08     NF1   \n",
       "TCGA-06-0171-01A  TCGA-06-0171-01A-02D-1491-08  PIK3CA   \n",
       "TCGA-81-5911-01A  TCGA-81-5911-01A-12D-1845-08    EGFR   \n",
       "TCGA-81-5911-01A  TCGA-81-5911-01A-12D-1845-08    PTEN   \n",
       "TCGA-81-5911-01A  TCGA-81-5911-01A-12D-1845-08     RB1   \n",
       "\n",
       "                              gene_start_end Variant_Classification  \n",
       "ID                                                                   \n",
       "TCGA-76-6661-01B      PTEN_87960907-87960907      Missense_Mutation  \n",
       "TCGA-76-6192-01A      PTEN_87960893-87960893            Splice_Site  \n",
       "TCGA-28-5213-01A      EGFR_55165350-55165350      Missense_Mutation  \n",
       "TCGA-06-0650-01A      PTEN_87957915-87957915      Nonsense_Mutation  \n",
       "TCGA-76-6283-01A      PTEN_87864508-87864510           In_Frame_Del  \n",
       "...                                      ...                    ...  \n",
       "TCGA-06-6698-01A       NF1_31334880-31334880      Nonsense_Mutation  \n",
       "TCGA-06-0171-01A  PIK3CA_179234284-179234284      Missense_Mutation  \n",
       "TCGA-81-5911-01A      EGFR_55154129-55154129      Missense_Mutation  \n",
       "TCGA-81-5911-01A      PTEN_87933166-87933166      Missense_Mutation  \n",
       "TCGA-81-5911-01A       RB1_48360072-48360072      Nonsense_Mutation  \n",
       "\n",
       "[178 rows x 4 columns]"
      ]
     },
     "execution_count": 34,
     "metadata": {},
     "output_type": "execute_result"
    }
   ],
   "source": [
    "df_maf"
   ]
  },
  {
   "cell_type": "code",
   "execution_count": 35,
   "id": "5f3c5a45-a82b-438f-b0a5-9dceb0cb1d15",
   "metadata": {},
   "outputs": [
    {
     "data": {
      "text/plain": [
       "array(['Missense_Mutation', 'Splice_Site', 'Nonsense_Mutation',\n",
       "       'In_Frame_Del', 'Frame_Shift_Del', 'Frame_Shift_Ins', 'Silent',\n",
       "       'In_Frame_Ins', 'Splice_Region', 'Nonstop_Mutation'], dtype=object)"
      ]
     },
     "execution_count": 35,
     "metadata": {},
     "output_type": "execute_result"
    }
   ],
   "source": [
    "df_maf[\"Variant_Classification\"].unique()"
   ]
  },
  {
   "cell_type": "code",
   "execution_count": 36,
   "id": "a78d9572-57de-4801-90ec-502e0a7124ef",
   "metadata": {},
   "outputs": [],
   "source": [
    "columns = df_maf[\"gene\"].unique().tolist()\n",
    "index = df_maf.index.tolist()\n",
    "df_reformat = pd.DataFrame(columns=columns, index=index)"
   ]
  },
  {
   "cell_type": "code",
   "execution_count": 37,
   "id": "4fef70ac-6d18-4e69-8e9d-d3f11ddc8e4c",
   "metadata": {},
   "outputs": [],
   "source": [
    "import numpy as np\n",
    "from tqdm import tqdm"
   ]
  },
  {
   "cell_type": "code",
   "execution_count": 38,
   "id": "4e2995e4-7802-40d4-9b32-80aa42fa1530",
   "metadata": {},
   "outputs": [],
   "source": [
    "# df_reformat"
   ]
  },
  {
   "cell_type": "code",
   "execution_count": 39,
   "id": "c788d7bd-c3ac-40c0-b39d-15530545add7",
   "metadata": {},
   "outputs": [],
   "source": [
    "# sub = df_maf[df_maf.gene==\"PIK3R1\"]\n",
    "# sub_idx = sub.loc[\"TCGA-FG-8188\"]"
   ]
  },
  {
   "cell_type": "code",
   "execution_count": 40,
   "id": "b5d75dd1-3fbc-4c53-9758-41dde456a658",
   "metadata": {},
   "outputs": [],
   "source": [
    "# unique_classes = sub_idx.Variant_Classification"
   ]
  },
  {
   "cell_type": "code",
   "execution_count": 41,
   "id": "ec159efb-6034-4573-b2ec-e2f6928da701",
   "metadata": {},
   "outputs": [],
   "source": [
    "# if type(unique_classes)!=str:\n",
    "#     unique_classes = unique_classes.unique().tolist()\n",
    "# else:\n",
    "#     unique_classes = [unique_classes]"
   ]
  },
  {
   "cell_type": "code",
   "execution_count": 42,
   "id": "375339bd-069b-4d61-8d5c-98ad5888b374",
   "metadata": {},
   "outputs": [],
   "source": [
    "# unique_classes"
   ]
  },
  {
   "cell_type": "code",
   "execution_count": 43,
   "id": "d1a99082-b576-4392-a2cb-966c03b5f9b6",
   "metadata": {
    "tags": []
   },
   "outputs": [
    {
     "name": "stderr",
     "output_type": "stream",
     "text": [
      "100%|██████████| 178/178 [00:00<00:00, 8090.88it/s]\n",
      "100%|██████████| 178/178 [00:00<00:00, 14193.65it/s]\n",
      "100%|██████████| 178/178 [00:00<00:00, 15035.77it/s]\n",
      "100%|██████████| 178/178 [00:00<00:00, 9474.68it/s]\n",
      "100%|██████████| 178/178 [00:00<00:00, 9073.84it/s]\n",
      "100%|██████████| 178/178 [00:00<00:00, 11271.61it/s]\n",
      "100%|██████████| 178/178 [00:00<00:00, 13699.33it/s]\n",
      "100%|██████████| 178/178 [00:00<00:00, 35227.96it/s]\n",
      "100%|██████████| 178/178 [00:00<00:00, 30795.95it/s]\n",
      "100%|██████████| 178/178 [00:00<00:00, 31876.78it/s]\n",
      "100%|██████████| 178/178 [00:00<00:00, 159800.11it/s]\n"
     ]
    }
   ],
   "source": [
    "for col in df_reformat.columns:\n",
    "    sub = df_maf[df_maf.gene==col]\n",
    "    for idx in tqdm(df_reformat.index):\n",
    "        if idx in sub.index.tolist():\n",
    "            sub_idx = sub.loc[idx]\n",
    "            \n",
    "            unique_classes = sub_idx.Variant_Classification\n",
    "            if type(unique_classes)!=str:\n",
    "                unique_classes = unique_classes.unique().tolist()\n",
    "            else:\n",
    "                unique_classes = [unique_classes]\n",
    "            # print(unique_classes)\n",
    "            if len(unique_classes)==1:\n",
    "                df_reformat.loc[idx, col] = unique_classes[0]\n",
    "            else:\n",
    "                df_reformat.loc[idx, col] = \"Multiple\"\n",
    "    df_tcga[col] = \"Unavailable\" # np.nan"
   ]
  },
  {
   "cell_type": "code",
   "execution_count": 44,
   "id": "36e2a203-c7b1-4d1f-9a89-40897dc535c3",
   "metadata": {},
   "outputs": [],
   "source": [
    "df_reformat = df_reformat[~df_reformat.index.duplicated(keep=\"first\")]"
   ]
  },
  {
   "cell_type": "code",
   "execution_count": 45,
   "id": "9245e2b3-e054-447a-ad90-4a347617a894",
   "metadata": {},
   "outputs": [
    {
     "name": "stdout",
     "output_type": "stream",
     "text": [
      "['Missense_Mutation' 'Splice_Site' nan 'Nonsense_Mutation' 'In_Frame_Del'\n",
      " 'Frame_Shift_Del' 'Frame_Shift_Ins' 'Multiple']\n",
      "[nan 'Missense_Mutation' 'In_Frame_Ins']\n",
      "[nan 'Frame_Shift_Del' 'In_Frame_Del' 'Splice_Site' 'Silent'\n",
      " 'Missense_Mutation' 'Nonsense_Mutation' 'Multiple']\n",
      "[nan 'Missense_Mutation' 'Splice_Site' 'Multiple' 'Nonsense_Mutation'\n",
      " 'Splice_Region']\n",
      "[nan 'Nonsense_Mutation' 'Frame_Shift_Ins' 'Missense_Mutation' 'Multiple'\n",
      " 'Silent']\n",
      "[nan 'Multiple' 'Missense_Mutation' 'In_Frame_Ins' 'Frame_Shift_Del'\n",
      " 'In_Frame_Del' 'Splice_Site' 'Frame_Shift_Ins']\n",
      "[nan 'Missense_Mutation' 'Frame_Shift_Del' 'Multiple']\n",
      "[nan 'Missense_Mutation' 'In_Frame_Del' 'Nonstop_Mutation' 'Multiple']\n",
      "[nan 'Missense_Mutation']\n",
      "[nan 'Missense_Mutation']\n",
      "[nan 'Missense_Mutation']\n"
     ]
    }
   ],
   "source": [
    "for col in df_reformat.columns:\n",
    "    print(df_reformat[col].unique())"
   ]
  },
  {
   "cell_type": "code",
   "execution_count": 46,
   "id": "e539f785-d551-4c1f-8037-c4511e3dc1f6",
   "metadata": {},
   "outputs": [
    {
     "data": {
      "text/html": [
       "<div>\n",
       "<style scoped>\n",
       "    .dataframe tbody tr th:only-of-type {\n",
       "        vertical-align: middle;\n",
       "    }\n",
       "\n",
       "    .dataframe tbody tr th {\n",
       "        vertical-align: top;\n",
       "    }\n",
       "\n",
       "    .dataframe thead th {\n",
       "        text-align: right;\n",
       "    }\n",
       "</style>\n",
       "<table border=\"1\" class=\"dataframe\">\n",
       "  <thead>\n",
       "    <tr style=\"text-align: right;\">\n",
       "      <th></th>\n",
       "      <th>PTEN</th>\n",
       "      <th>EGFR</th>\n",
       "      <th>RB1</th>\n",
       "      <th>TP53</th>\n",
       "      <th>NF1</th>\n",
       "      <th>PIK3R1</th>\n",
       "      <th>ATRX</th>\n",
       "      <th>PIK3CA</th>\n",
       "      <th>TERT</th>\n",
       "      <th>CIC</th>\n",
       "      <th>FUBP1</th>\n",
       "    </tr>\n",
       "  </thead>\n",
       "  <tbody>\n",
       "    <tr>\n",
       "      <th>TCGA-76-6661-01B</th>\n",
       "      <td>Missense_Mutation</td>\n",
       "      <td>NaN</td>\n",
       "      <td>NaN</td>\n",
       "      <td>NaN</td>\n",
       "      <td>NaN</td>\n",
       "      <td>NaN</td>\n",
       "      <td>NaN</td>\n",
       "      <td>NaN</td>\n",
       "      <td>NaN</td>\n",
       "      <td>NaN</td>\n",
       "      <td>NaN</td>\n",
       "    </tr>\n",
       "    <tr>\n",
       "      <th>TCGA-76-6192-01A</th>\n",
       "      <td>Splice_Site</td>\n",
       "      <td>NaN</td>\n",
       "      <td>NaN</td>\n",
       "      <td>NaN</td>\n",
       "      <td>NaN</td>\n",
       "      <td>NaN</td>\n",
       "      <td>NaN</td>\n",
       "      <td>NaN</td>\n",
       "      <td>NaN</td>\n",
       "      <td>NaN</td>\n",
       "      <td>NaN</td>\n",
       "    </tr>\n",
       "    <tr>\n",
       "      <th>TCGA-28-5213-01A</th>\n",
       "      <td>NaN</td>\n",
       "      <td>Missense_Mutation</td>\n",
       "      <td>NaN</td>\n",
       "      <td>NaN</td>\n",
       "      <td>NaN</td>\n",
       "      <td>NaN</td>\n",
       "      <td>NaN</td>\n",
       "      <td>NaN</td>\n",
       "      <td>NaN</td>\n",
       "      <td>NaN</td>\n",
       "      <td>NaN</td>\n",
       "    </tr>\n",
       "    <tr>\n",
       "      <th>TCGA-06-0650-01A</th>\n",
       "      <td>Nonsense_Mutation</td>\n",
       "      <td>NaN</td>\n",
       "      <td>NaN</td>\n",
       "      <td>NaN</td>\n",
       "      <td>NaN</td>\n",
       "      <td>NaN</td>\n",
       "      <td>NaN</td>\n",
       "      <td>NaN</td>\n",
       "      <td>NaN</td>\n",
       "      <td>NaN</td>\n",
       "      <td>NaN</td>\n",
       "    </tr>\n",
       "    <tr>\n",
       "      <th>TCGA-76-6283-01A</th>\n",
       "      <td>In_Frame_Del</td>\n",
       "      <td>NaN</td>\n",
       "      <td>Frame_Shift_Del</td>\n",
       "      <td>Missense_Mutation</td>\n",
       "      <td>NaN</td>\n",
       "      <td>NaN</td>\n",
       "      <td>NaN</td>\n",
       "      <td>NaN</td>\n",
       "      <td>NaN</td>\n",
       "      <td>NaN</td>\n",
       "      <td>NaN</td>\n",
       "    </tr>\n",
       "    <tr>\n",
       "      <th>...</th>\n",
       "      <td>...</td>\n",
       "      <td>...</td>\n",
       "      <td>...</td>\n",
       "      <td>...</td>\n",
       "      <td>...</td>\n",
       "      <td>...</td>\n",
       "      <td>...</td>\n",
       "      <td>...</td>\n",
       "      <td>...</td>\n",
       "      <td>...</td>\n",
       "      <td>...</td>\n",
       "    </tr>\n",
       "    <tr>\n",
       "      <th>TCGA-28-5216-01A</th>\n",
       "      <td>Missense_Mutation</td>\n",
       "      <td>NaN</td>\n",
       "      <td>NaN</td>\n",
       "      <td>Missense_Mutation</td>\n",
       "      <td>NaN</td>\n",
       "      <td>NaN</td>\n",
       "      <td>NaN</td>\n",
       "      <td>NaN</td>\n",
       "      <td>NaN</td>\n",
       "      <td>NaN</td>\n",
       "      <td>NaN</td>\n",
       "    </tr>\n",
       "    <tr>\n",
       "      <th>TCGA-4W-AA9T-01A</th>\n",
       "      <td>Nonsense_Mutation</td>\n",
       "      <td>Missense_Mutation</td>\n",
       "      <td>NaN</td>\n",
       "      <td>NaN</td>\n",
       "      <td>NaN</td>\n",
       "      <td>NaN</td>\n",
       "      <td>Missense_Mutation</td>\n",
       "      <td>NaN</td>\n",
       "      <td>NaN</td>\n",
       "      <td>NaN</td>\n",
       "      <td>NaN</td>\n",
       "    </tr>\n",
       "    <tr>\n",
       "      <th>TCGA-06-6698-01A</th>\n",
       "      <td>NaN</td>\n",
       "      <td>NaN</td>\n",
       "      <td>Multiple</td>\n",
       "      <td>Missense_Mutation</td>\n",
       "      <td>Nonsense_Mutation</td>\n",
       "      <td>NaN</td>\n",
       "      <td>NaN</td>\n",
       "      <td>NaN</td>\n",
       "      <td>NaN</td>\n",
       "      <td>NaN</td>\n",
       "      <td>NaN</td>\n",
       "    </tr>\n",
       "    <tr>\n",
       "      <th>TCGA-06-0171-01A</th>\n",
       "      <td>NaN</td>\n",
       "      <td>NaN</td>\n",
       "      <td>NaN</td>\n",
       "      <td>NaN</td>\n",
       "      <td>NaN</td>\n",
       "      <td>NaN</td>\n",
       "      <td>NaN</td>\n",
       "      <td>Missense_Mutation</td>\n",
       "      <td>NaN</td>\n",
       "      <td>NaN</td>\n",
       "      <td>NaN</td>\n",
       "    </tr>\n",
       "    <tr>\n",
       "      <th>TCGA-81-5911-01A</th>\n",
       "      <td>Missense_Mutation</td>\n",
       "      <td>Missense_Mutation</td>\n",
       "      <td>Nonsense_Mutation</td>\n",
       "      <td>NaN</td>\n",
       "      <td>NaN</td>\n",
       "      <td>NaN</td>\n",
       "      <td>NaN</td>\n",
       "      <td>NaN</td>\n",
       "      <td>NaN</td>\n",
       "      <td>NaN</td>\n",
       "      <td>NaN</td>\n",
       "    </tr>\n",
       "  </tbody>\n",
       "</table>\n",
       "<p>86 rows × 11 columns</p>\n",
       "</div>"
      ],
      "text/plain": [
       "                               PTEN               EGFR                RB1  \\\n",
       "TCGA-76-6661-01B  Missense_Mutation                NaN                NaN   \n",
       "TCGA-76-6192-01A        Splice_Site                NaN                NaN   \n",
       "TCGA-28-5213-01A                NaN  Missense_Mutation                NaN   \n",
       "TCGA-06-0650-01A  Nonsense_Mutation                NaN                NaN   \n",
       "TCGA-76-6283-01A       In_Frame_Del                NaN    Frame_Shift_Del   \n",
       "...                             ...                ...                ...   \n",
       "TCGA-28-5216-01A  Missense_Mutation                NaN                NaN   \n",
       "TCGA-4W-AA9T-01A  Nonsense_Mutation  Missense_Mutation                NaN   \n",
       "TCGA-06-6698-01A                NaN                NaN           Multiple   \n",
       "TCGA-06-0171-01A                NaN                NaN                NaN   \n",
       "TCGA-81-5911-01A  Missense_Mutation  Missense_Mutation  Nonsense_Mutation   \n",
       "\n",
       "                               TP53                NF1 PIK3R1  \\\n",
       "TCGA-76-6661-01B                NaN                NaN    NaN   \n",
       "TCGA-76-6192-01A                NaN                NaN    NaN   \n",
       "TCGA-28-5213-01A                NaN                NaN    NaN   \n",
       "TCGA-06-0650-01A                NaN                NaN    NaN   \n",
       "TCGA-76-6283-01A  Missense_Mutation                NaN    NaN   \n",
       "...                             ...                ...    ...   \n",
       "TCGA-28-5216-01A  Missense_Mutation                NaN    NaN   \n",
       "TCGA-4W-AA9T-01A                NaN                NaN    NaN   \n",
       "TCGA-06-6698-01A  Missense_Mutation  Nonsense_Mutation    NaN   \n",
       "TCGA-06-0171-01A                NaN                NaN    NaN   \n",
       "TCGA-81-5911-01A                NaN                NaN    NaN   \n",
       "\n",
       "                               ATRX             PIK3CA TERT  CIC FUBP1  \n",
       "TCGA-76-6661-01B                NaN                NaN  NaN  NaN   NaN  \n",
       "TCGA-76-6192-01A                NaN                NaN  NaN  NaN   NaN  \n",
       "TCGA-28-5213-01A                NaN                NaN  NaN  NaN   NaN  \n",
       "TCGA-06-0650-01A                NaN                NaN  NaN  NaN   NaN  \n",
       "TCGA-76-6283-01A                NaN                NaN  NaN  NaN   NaN  \n",
       "...                             ...                ...  ...  ...   ...  \n",
       "TCGA-28-5216-01A                NaN                NaN  NaN  NaN   NaN  \n",
       "TCGA-4W-AA9T-01A  Missense_Mutation                NaN  NaN  NaN   NaN  \n",
       "TCGA-06-6698-01A                NaN                NaN  NaN  NaN   NaN  \n",
       "TCGA-06-0171-01A                NaN  Missense_Mutation  NaN  NaN   NaN  \n",
       "TCGA-81-5911-01A                NaN                NaN  NaN  NaN   NaN  \n",
       "\n",
       "[86 rows x 11 columns]"
      ]
     },
     "execution_count": 46,
     "metadata": {},
     "output_type": "execute_result"
    }
   ],
   "source": [
    "df_reformat"
   ]
  },
  {
   "cell_type": "code",
   "execution_count": 47,
   "id": "a4c00a84-f91d-4ff2-9241-a2a6986d5802",
   "metadata": {},
   "outputs": [],
   "source": [
    "df_reformat = df_reformat.fillna(\"No_mutation\")"
   ]
  },
  {
   "cell_type": "code",
   "execution_count": 48,
   "id": "79084b28-c36e-48cb-b3ed-7e5259742c53",
   "metadata": {},
   "outputs": [],
   "source": [
    "for idx in df_reformat.index:\n",
    "    for col in df_reformat.columns:\n",
    "        df_tcga.loc[idx, col] = df_reformat.loc[idx, col]"
   ]
  },
  {
   "cell_type": "code",
   "execution_count": 49,
   "id": "d7ded7d2-2ce4-4984-bc37-01a53dcd8e70",
   "metadata": {},
   "outputs": [],
   "source": [
    "df_tcga.to_csv(\"maf_matched.csv\")"
   ]
  },
  {
   "cell_type": "code",
   "execution_count": 52,
   "id": "4da70745-ba70-45bb-b147-53f4ce76401d",
   "metadata": {},
   "outputs": [
    {
     "data": {
      "text/plain": [
       "Index(['Project ID', 'Case ID', 'Case UUID', 'ID', 'File Name',\n",
       "       'Data Category', 'Data Type', 'Sample Type', 'year of diagnosis',\n",
       "       'age at index', 'days to death', 'gender',\n",
       "       'vital status (0=alive, 1=dead)', 'Neural signature score',\n",
       "       'Neural subgroup (0=low, 1=high)', 'PTEN', 'EGFR', 'RB1', 'TP53', 'NF1',\n",
       "       'PIK3R1', 'ATRX', 'PIK3CA', 'TERT', 'CIC', 'FUBP1'],\n",
       "      dtype='object')"
      ]
     },
     "execution_count": 52,
     "metadata": {},
     "output_type": "execute_result"
    }
   ],
   "source": [
    "df_tcga.columns"
   ]
  },
  {
   "cell_type": "code",
   "execution_count": 53,
   "id": "4f0ec43c-b00a-41fa-9295-62b70f53265e",
   "metadata": {},
   "outputs": [],
   "source": [
    "mutation_tabs = {}\n",
    "for mutation in df_maf[\"Variant_Classification\"].unique():\n",
    "    tmp = df_tcga.copy()\n",
    "    tmp[tmp==\"Unavailable\"] = np.nan\n",
    "    tmp = tmp.dropna()\n",
    "    tmp[tmp==\"No_mutation\"] = np.nan\n",
    "    for mutation_ in df_maf[\"Variant_Classification\"].unique():\n",
    "        if mutation_!=mutation:\n",
    "            tmp[tmp==mutation_] = np.nan\n",
    "    mutation_tabs[mutation] = tmp.groupby(\"Neural subgroup (0=low, 1=high)\").agg(\"count\")\n",
    "    mutation_tabs[mutation][\"Variant\"] = mutation\n",
    "    cols = [\"Variant\"] + [col for col in mutation_tabs[mutation].columns if col!=\"Variant\"]\n",
    "    mutation_tabs[mutation] = mutation_tabs[mutation][cols]"
   ]
  },
  {
   "cell_type": "code",
   "execution_count": 54,
   "id": "f48384dd-f39e-4af8-8aa6-874462623770",
   "metadata": {},
   "outputs": [],
   "source": [
    "mutation_tab = pd.concat(list(mutation_tabs.values()), axis=0)\n",
    "mutation_tab.to_csv(\"neural_by_mutation_counts.csv\")"
   ]
  },
  {
   "cell_type": "code",
   "execution_count": null,
   "id": "eb8e4e5d-8727-47c6-a231-574e22f80863",
   "metadata": {},
   "outputs": [],
   "source": []
  }
 ],
 "metadata": {
  "kernelspec": {
   "display_name": "Python 3 (ipykernel)",
   "language": "python",
   "name": "python3"
  },
  "language_info": {
   "codemirror_mode": {
    "name": "ipython",
    "version": 3
   },
   "file_extension": ".py",
   "mimetype": "text/x-python",
   "name": "python",
   "nbconvert_exporter": "python",
   "pygments_lexer": "ipython3",
   "version": "3.9.7"
  }
 },
 "nbformat": 4,
 "nbformat_minor": 5
}
