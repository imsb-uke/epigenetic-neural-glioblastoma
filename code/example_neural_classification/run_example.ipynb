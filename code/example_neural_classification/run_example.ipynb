{
 "cells": [
  {
   "cell_type": "markdown",
   "id": "29825fa2-66ba-4888-872d-42d902057e36",
   "metadata": {},
   "source": [
    "## Inputs"
   ]
  },
  {
   "cell_type": "code",
   "execution_count": 1,
   "id": "411b8fcb-883f-4af8-ba1d-6cd52c933145",
   "metadata": {},
   "outputs": [],
   "source": [
    "indir = \"sample_idats\" # Directory with IDATs"
   ]
  },
  {
   "cell_type": "code",
   "execution_count": 2,
   "id": "ba17c583-3252-498b-b64c-94ce50d38bec",
   "metadata": {},
   "outputs": [],
   "source": [
    "outcsv_beta = \"betas.csv\" # Output path for csv file containing beta values\n",
    "outcsv_pred = \"prediction.csv\" # Output path to save the prediction results"
   ]
  },
  {
   "cell_type": "markdown",
   "id": "bed933da-16a7-4402-9978-49024fe467ae",
   "metadata": {},
   "source": [
    "## Process idats"
   ]
  },
  {
   "cell_type": "code",
   "execution_count": 3,
   "id": "60f84af1-db59-4164-870e-86ef8008bb63",
   "metadata": {},
   "outputs": [],
   "source": [
    "rscript = \"../DNAm_deconv/process_array.R\"\n",
    "ref = \"../DNAm_deconv/ref_sample.RData\""
   ]
  },
  {
   "cell_type": "code",
   "execution_count": 4,
   "id": "37a58d65-94e1-4f51-86fd-2b3f51e38ffb",
   "metadata": {
    "scrolled": true
   },
   "outputs": [
    {
     "name": "stderr",
     "output_type": "stream",
     "text": [
      "Loading required package: BiocGenerics\n",
      "\n",
      "Attaching package: ‘BiocGenerics’\n",
      "\n",
      "The following objects are masked from ‘package:stats’:\n",
      "\n",
      "    IQR, mad, sd, var, xtabs\n",
      "\n",
      "The following objects are masked from ‘package:base’:\n",
      "\n",
      "    anyDuplicated, aperm, append, as.data.frame, basename, cbind,\n",
      "    colnames, dirname, do.call, duplicated, eval, evalq, Filter, Find,\n",
      "    get, grep, grepl, intersect, is.unsorted, lapply, Map, mapply,\n",
      "    match, mget, order, paste, pmax, pmax.int, pmin, pmin.int,\n",
      "    Position, rank, rbind, Reduce, rownames, sapply, setdiff, sort,\n",
      "    table, tapply, union, unique, unsplit, which.max, which.min\n",
      "\n",
      "Loading required package: GenomicRanges\n",
      "Loading required package: stats4\n",
      "Loading required package: S4Vectors\n",
      "\n",
      "Attaching package: ‘S4Vectors’\n",
      "\n",
      "The following object is masked from ‘package:utils’:\n",
      "\n",
      "    findMatches\n",
      "\n",
      "The following objects are masked from ‘package:base’:\n",
      "\n",
      "    expand.grid, I, unname\n",
      "\n",
      "Loading required package: IRanges\n",
      "Loading required package: GenomeInfoDb\n",
      "Loading required package: SummarizedExperiment\n",
      "Loading required package: MatrixGenerics\n",
      "Loading required package: matrixStats\n",
      "\n",
      "Attaching package: ‘MatrixGenerics’\n",
      "\n",
      "The following objects are masked from ‘package:matrixStats’:\n",
      "\n",
      "    colAlls, colAnyNAs, colAnys, colAvgsPerRowSet, colCollapse,\n",
      "    colCounts, colCummaxs, colCummins, colCumprods, colCumsums,\n",
      "    colDiffs, colIQRDiffs, colIQRs, colLogSumExps, colMadDiffs,\n",
      "    colMads, colMaxs, colMeans2, colMedians, colMins, colOrderStats,\n",
      "    colProds, colQuantiles, colRanges, colRanks, colSdDiffs, colSds,\n",
      "    colSums2, colTabulates, colVarDiffs, colVars, colWeightedMads,\n",
      "    colWeightedMeans, colWeightedMedians, colWeightedSds,\n",
      "    colWeightedVars, rowAlls, rowAnyNAs, rowAnys, rowAvgsPerColSet,\n",
      "    rowCollapse, rowCounts, rowCummaxs, rowCummins, rowCumprods,\n",
      "    rowCumsums, rowDiffs, rowIQRDiffs, rowIQRs, rowLogSumExps,\n",
      "    rowMadDiffs, rowMads, rowMaxs, rowMeans2, rowMedians, rowMins,\n",
      "    rowOrderStats, rowProds, rowQuantiles, rowRanges, rowRanks,\n",
      "    rowSdDiffs, rowSds, rowSums2, rowTabulates, rowVarDiffs, rowVars,\n",
      "    rowWeightedMads, rowWeightedMeans, rowWeightedMedians,\n",
      "    rowWeightedSds, rowWeightedVars\n",
      "\n",
      "Loading required package: Biobase\n",
      "Welcome to Bioconductor\n",
      "\n",
      "    Vignettes contain introductory material; view with\n",
      "    'browseVignettes()'. To cite Bioconductor, see\n",
      "    'citation(\"Biobase\")', and for packages 'citation(\"pkgname\")'.\n",
      "\n",
      "\n",
      "Attaching package: ‘Biobase’\n",
      "\n",
      "The following object is masked from ‘package:MatrixGenerics’:\n",
      "\n",
      "    rowMedians\n",
      "\n",
      "The following objects are masked from ‘package:matrixStats’:\n",
      "\n",
      "    anyMissing, rowMedians\n",
      "\n",
      "Loading required package: Biostrings\n",
      "Loading required package: XVector\n",
      "\n",
      "Attaching package: ‘Biostrings’\n",
      "\n",
      "The following object is masked from ‘package:base’:\n",
      "\n",
      "    strsplit\n",
      "\n",
      "Loading required package: bumphunter\n",
      "Loading required package: foreach\n",
      "Loading required package: iterators\n",
      "Loading required package: parallel\n",
      "Loading required package: locfit\n",
      "locfit 1.5-9.9 \t 2024-03-01\n",
      "Setting options('download.file.method.GEOquery'='auto')\n",
      "Setting options('GEOquery.inmemory.gpl'=FALSE)\n"
     ]
    },
    {
     "name": "stdout",
     "output_type": "stream",
     "text": [
      "[1] \"1. process_array script - READING ARRAY - 2024-06-15 13:46:35.155617\"\n",
      "[1] \"2. process_array script - P_VALUES CALCULATION - 2024-06-15 13:46:39.607545\"\n"
     ]
    },
    {
     "name": "stderr",
     "output_type": "stream",
     "text": [
      "Loading required package: IlluminaHumanMethylationEPICmanifest\n"
     ]
    },
    {
     "name": "stdout",
     "output_type": "stream",
     "text": [
      "[1] \"3. process_array script - ILLUMINA - 2024-06-15 13:46:46.201213\"\n"
     ]
    },
    {
     "name": "stderr",
     "output_type": "stream",
     "text": [
      "[convertArray] Casting as IlluminaHumanMethylation450k\n",
      "Loading required package: IlluminaHumanMethylation450kmanifest\n"
     ]
    },
    {
     "name": "stdout",
     "output_type": "stream",
     "text": [
      "[1] \"4. process_array script - CONTEXT_REMOVAL - 2024-06-15 13:46:58.03009\"\n",
      "[1] \"5. process_array script - CONVERT TO RATIOSET - 2024-06-15 13:46:58.206205\"\n",
      "[1] \"6. process_array script - CONVERT TO GENOMICRATIOSET - 2024-06-15 13:46:58.247501\"\n"
     ]
    },
    {
     "name": "stderr",
     "output_type": "stream",
     "text": [
      "Loading required package: IlluminaHumanMethylation450kanno.ilmn12.hg19\n"
     ]
    },
    {
     "name": "stdout",
     "output_type": "stream",
     "text": [
      "[1] \"7. process_array script - REMOVE SNPs - 2024-06-15 13:46:59.154387\"\n",
      "[1] \"8. process_array script - BETA VALUES CALCULATION - 2024-06-15 13:46:59.995857\"\n",
      "[1] \"13. process_array script - WRITING ARRAY TO CSV - 2024-06-15 13:47:03.657825\"\n",
      "[1] \"14. process_array script - FINISHED - 2024-06-15 13:47:05.544365\"\n"
     ]
    },
    {
     "data": {
      "text/plain": [
       "0"
      ]
     },
     "execution_count": 4,
     "metadata": {},
     "output_type": "execute_result"
    }
   ],
   "source": [
    "import os\n",
    "\n",
    "## Uses meth_atlas processing script (https://github.com/nloyfer/meth_atlas/tree/master/pre_process)\n",
    "os.system(f\"\"\"\n",
    "        Rscript {rscript} {indir} {outcsv_beta} {ref}\n",
    "    \"\"\")"
   ]
  },
  {
   "cell_type": "markdown",
   "id": "7ebd3616-4d1a-4d58-bdfa-65f8386a984c",
   "metadata": {},
   "source": [
    "## Load betas file"
   ]
  },
  {
   "cell_type": "code",
   "execution_count": 5,
   "id": "3d2d77bb-fabc-4dd9-99c3-02ab73e7a444",
   "metadata": {},
   "outputs": [],
   "source": [
    "import pandas as pd # tested with pandas version 2.1.1"
   ]
  },
  {
   "cell_type": "code",
   "execution_count": 6,
   "id": "13f5ba1d-eff6-4356-8821-bb279caa1c44",
   "metadata": {},
   "outputs": [
    {
     "data": {
      "text/html": [
       "<div>\n",
       "<style scoped>\n",
       "    .dataframe tbody tr th:only-of-type {\n",
       "        vertical-align: middle;\n",
       "    }\n",
       "\n",
       "    .dataframe tbody tr th {\n",
       "        vertical-align: top;\n",
       "    }\n",
       "\n",
       "    .dataframe thead th {\n",
       "        text-align: right;\n",
       "    }\n",
       "</style>\n",
       "<table border=\"1\" class=\"dataframe\">\n",
       "  <thead>\n",
       "    <tr style=\"text-align: right;\">\n",
       "      <th></th>\n",
       "      <th>cg20367788</th>\n",
       "      <th>cg01847620</th>\n",
       "      <th>cg08450501</th>\n",
       "      <th>cg06848514</th>\n",
       "      <th>cg16045340</th>\n",
       "      <th>cg08036346</th>\n",
       "      <th>cg26702958</th>\n",
       "      <th>cg26361646</th>\n",
       "      <th>cg21774865</th>\n",
       "      <th>cg12465710</th>\n",
       "      <th>...</th>\n",
       "      <th>cg06969287</th>\n",
       "      <th>cg15545692</th>\n",
       "      <th>cg08989942</th>\n",
       "      <th>cg18293633</th>\n",
       "      <th>cg24076348</th>\n",
       "      <th>cg17754680</th>\n",
       "      <th>cg09460231</th>\n",
       "      <th>cg22502319</th>\n",
       "      <th>cg02078370</th>\n",
       "      <th>cg18105767</th>\n",
       "    </tr>\n",
       "  </thead>\n",
       "  <tbody>\n",
       "    <tr>\n",
       "      <th>201868500109_R01C01</th>\n",
       "      <td>0.71381</td>\n",
       "      <td>0.97018</td>\n",
       "      <td>0.02561</td>\n",
       "      <td>0.05913</td>\n",
       "      <td>0.77954</td>\n",
       "      <td>0.95897</td>\n",
       "      <td>0.09149</td>\n",
       "      <td>NaN</td>\n",
       "      <td>0.93369</td>\n",
       "      <td>0.40153</td>\n",
       "      <td>...</td>\n",
       "      <td>0.07831</td>\n",
       "      <td>0.77114</td>\n",
       "      <td>0.7088</td>\n",
       "      <td>0.59292</td>\n",
       "      <td>0.807</td>\n",
       "      <td>0.71371</td>\n",
       "      <td>0.60444</td>\n",
       "      <td>0.03165</td>\n",
       "      <td>0.10808</td>\n",
       "      <td>0.11553</td>\n",
       "    </tr>\n",
       "  </tbody>\n",
       "</table>\n",
       "<p>1 rows × 423213 columns</p>\n",
       "</div>"
      ],
      "text/plain": [
       "                     cg20367788  cg01847620  cg08450501  cg06848514  \\\n",
       "201868500109_R01C01     0.71381     0.97018     0.02561     0.05913   \n",
       "\n",
       "                     cg16045340  cg08036346  cg26702958  cg26361646  \\\n",
       "201868500109_R01C01     0.77954     0.95897     0.09149         NaN   \n",
       "\n",
       "                     cg21774865  cg12465710  ...  cg06969287  cg15545692  \\\n",
       "201868500109_R01C01     0.93369     0.40153  ...     0.07831     0.77114   \n",
       "\n",
       "                     cg08989942  cg18293633  cg24076348  cg17754680  \\\n",
       "201868500109_R01C01      0.7088     0.59292       0.807     0.71371   \n",
       "\n",
       "                     cg09460231  cg22502319  cg02078370  cg18105767  \n",
       "201868500109_R01C01     0.60444     0.03165     0.10808     0.11553  \n",
       "\n",
       "[1 rows x 423213 columns]"
      ]
     },
     "execution_count": 6,
     "metadata": {},
     "output_type": "execute_result"
    }
   ],
   "source": [
    "df = pd.read_csv(outcsv_beta, index_col=0).T\n",
    "df.head()"
   ]
  },
  {
   "cell_type": "markdown",
   "id": "aa1448ae-2c7c-4814-b0b4-b94a83515655",
   "metadata": {},
   "source": [
    "## load CpG sites"
   ]
  },
  {
   "cell_type": "code",
   "execution_count": 8,
   "id": "6f54c602-985e-48ac-a907-939e3aafee83",
   "metadata": {},
   "outputs": [
    {
     "name": "stdout",
     "output_type": "stream",
     "text": [
      "1289\n"
     ]
    }
   ],
   "source": [
    "# CpG sites\n",
    "low_cgs = pd.read_csv(\"../neural_group_classification/low_manifest_all.csv\", index_col=0).index.tolist()\n",
    "high_cgs = pd.read_csv(\"../neural_group_classification/high_manifest_all.csv\", index_col=0).index.tolist()\n",
    "cgs = low_cgs + high_cgs\n",
    "print(len(cgs))"
   ]
  },
  {
   "cell_type": "markdown",
   "id": "ec57e5bc-8924-485e-8c3f-299a7957c931",
   "metadata": {},
   "source": [
    "## check overlap of CpGs"
   ]
  },
  {
   "cell_type": "code",
   "execution_count": 9,
   "id": "9a17ece7-c59f-4025-8c23-5d8ee63d3d82",
   "metadata": {},
   "outputs": [
    {
     "name": "stdout",
     "output_type": "stream",
     "text": [
      "1289\n"
     ]
    }
   ],
   "source": [
    "common = list(set(df.columns)&set(cgs))\n",
    "print(len(common))"
   ]
  },
  {
   "cell_type": "code",
   "execution_count": 10,
   "id": "28828412-a5ce-468f-ba16-5eb4c5c33905",
   "metadata": {},
   "outputs": [],
   "source": [
    "df = df[cgs] # subset"
   ]
  },
  {
   "cell_type": "markdown",
   "id": "193a63f6-9a74-467d-99e6-000cbff48b09",
   "metadata": {},
   "source": [
    "### If needed, use simple imputer to impute any missing values (uses mean CpG value from the training data)"
   ]
  },
  {
   "cell_type": "code",
   "execution_count": 11,
   "id": "57c573a3-e949-4316-9051-58adee40e46c",
   "metadata": {},
   "outputs": [
    {
     "name": "stdout",
     "output_type": "stream",
     "text": [
      "0\n"
     ]
    }
   ],
   "source": [
    "## check for CpGs with at least one missing value\n",
    "missing_cgs = df.columns[df.isna().sum()>0]\n",
    "print(len(missing_cgs))"
   ]
  },
  {
   "cell_type": "code",
   "execution_count": 12,
   "id": "00b2e3fd-d7d1-48fa-b017-c8a7ba54f8df",
   "metadata": {},
   "outputs": [],
   "source": [
    "import joblib\n",
    "imputer = joblib.load(\"../neural_group_classification/imputer.pkl\")"
   ]
  },
  {
   "cell_type": "code",
   "execution_count": 13,
   "id": "fd3f4898-c1b3-4e76-9a34-8ebf0e7f673e",
   "metadata": {
    "scrolled": true
   },
   "outputs": [
    {
     "data": {
      "text/html": [
       "<div>\n",
       "<style scoped>\n",
       "    .dataframe tbody tr th:only-of-type {\n",
       "        vertical-align: middle;\n",
       "    }\n",
       "\n",
       "    .dataframe tbody tr th {\n",
       "        vertical-align: top;\n",
       "    }\n",
       "\n",
       "    .dataframe thead th {\n",
       "        text-align: right;\n",
       "    }\n",
       "</style>\n",
       "<table border=\"1\" class=\"dataframe\">\n",
       "  <thead>\n",
       "    <tr style=\"text-align: right;\">\n",
       "      <th></th>\n",
       "      <th>fill_value</th>\n",
       "    </tr>\n",
       "  </thead>\n",
       "  <tbody>\n",
       "    <tr>\n",
       "      <th>cg20367788</th>\n",
       "      <td>0.640331</td>\n",
       "    </tr>\n",
       "    <tr>\n",
       "      <th>cg01847620</th>\n",
       "      <td>0.933521</td>\n",
       "    </tr>\n",
       "    <tr>\n",
       "      <th>cg08450501</th>\n",
       "      <td>0.062221</td>\n",
       "    </tr>\n",
       "    <tr>\n",
       "      <th>cg06848514</th>\n",
       "      <td>0.069198</td>\n",
       "    </tr>\n",
       "    <tr>\n",
       "      <th>cg16045340</th>\n",
       "      <td>0.689996</td>\n",
       "    </tr>\n",
       "  </tbody>\n",
       "</table>\n",
       "</div>"
      ],
      "text/plain": [
       "            fill_value\n",
       "cg20367788    0.640331\n",
       "cg01847620    0.933521\n",
       "cg08450501    0.062221\n",
       "cg06848514    0.069198\n",
       "cg16045340    0.689996"
      ]
     },
     "execution_count": 13,
     "metadata": {},
     "output_type": "execute_result"
    }
   ],
   "source": [
    "df_fill_values = pd.DataFrame(imputer.statistics_, columns=[\"fill_value\"], index=imputer.feature_names_in_)\n",
    "df_fill_values.head()"
   ]
  },
  {
   "cell_type": "code",
   "execution_count": 14,
   "id": "0b1dfe78-cce1-4a17-be01-e554d454cde7",
   "metadata": {},
   "outputs": [
    {
     "data": {
      "text/plain": [
       "'1.26.3'"
      ]
     },
     "execution_count": 14,
     "metadata": {},
     "output_type": "execute_result"
    }
   ],
   "source": [
    "import numpy as np\n",
    "np.__version__"
   ]
  },
  {
   "cell_type": "code",
   "execution_count": 15,
   "id": "705a63a9-2b41-4a44-a527-66c963a080ca",
   "metadata": {},
   "outputs": [],
   "source": [
    "for idx in df.index:\n",
    "    for col in missing_cgs:\n",
    "        if pd.isnull(df.loc[idx, col]):\n",
    "            df.loc[idx, col] = df_fill_values.loc[col][0]"
   ]
  },
  {
   "cell_type": "markdown",
   "id": "408c4687-fea7-464a-a9d6-efcc7fe13b66",
   "metadata": {},
   "source": [
    "## Load model and make prediction"
   ]
  },
  {
   "cell_type": "code",
   "execution_count": 16,
   "id": "7f966b92-d7a0-471c-90b6-dfd3ded395aa",
   "metadata": {},
   "outputs": [
    {
     "name": "stdout",
     "output_type": "stream",
     "text": [
      "1289\n"
     ]
    }
   ],
   "source": [
    "# Model \n",
    "import joblib\n",
    "clf = joblib.load(\"../neural_group_classification/logregCV_allCpG.pkl\")\n",
    "print(clf.coef_.shape[1]) # number of features"
   ]
  },
  {
   "cell_type": "code",
   "execution_count": 17,
   "id": "78cb175f-c5c6-4317-9cae-ce8097b3672d",
   "metadata": {},
   "outputs": [],
   "source": [
    "preds = clf.predict(np.array(df))\n",
    "preds_score = clf.predict_proba(np.array(df)).max(1)"
   ]
  },
  {
   "cell_type": "code",
   "execution_count": 20,
   "id": "df1061c9-44b6-46fb-9550-47835fd6f9c4",
   "metadata": {},
   "outputs": [
    {
     "data": {
      "text/html": [
       "<div>\n",
       "<style scoped>\n",
       "    .dataframe tbody tr th:only-of-type {\n",
       "        vertical-align: middle;\n",
       "    }\n",
       "\n",
       "    .dataframe tbody tr th {\n",
       "        vertical-align: top;\n",
       "    }\n",
       "\n",
       "    .dataframe thead th {\n",
       "        text-align: right;\n",
       "    }\n",
       "</style>\n",
       "<table border=\"1\" class=\"dataframe\">\n",
       "  <thead>\n",
       "    <tr style=\"text-align: right;\">\n",
       "      <th></th>\n",
       "      <th>Prediction</th>\n",
       "      <th>Prediction score</th>\n",
       "    </tr>\n",
       "  </thead>\n",
       "  <tbody>\n",
       "    <tr>\n",
       "      <th>201868500109_R01C01</th>\n",
       "      <td>0</td>\n",
       "      <td>0.992182</td>\n",
       "    </tr>\n",
       "  </tbody>\n",
       "</table>\n",
       "</div>"
      ],
      "text/plain": [
       "                     Prediction  Prediction score\n",
       "201868500109_R01C01           0          0.992182"
      ]
     },
     "execution_count": 20,
     "metadata": {},
     "output_type": "execute_result"
    }
   ],
   "source": [
    "df_preds = pd.DataFrame([preds, preds_score], index=[\"Prediction\", \"Prediction score\"], columns=df.index).T\n",
    "df_preds[\"Prediction\"] = df_preds[\"Prediction\"].astype(int)\n",
    "df_preds"
   ]
  },
  {
   "cell_type": "code",
   "execution_count": 21,
   "id": "1250b3f2-d17e-4e73-b26c-26ee2820eaa3",
   "metadata": {},
   "outputs": [],
   "source": [
    "df_preds.to_csv(outcsv_pred)"
   ]
  },
  {
   "cell_type": "markdown",
   "id": "0050b2f8-5783-48d4-93e0-915e17115a10",
   "metadata": {},
   "source": [
    "-----"
   ]
  }
 ],
 "metadata": {
  "kernelspec": {
   "display_name": "Python 3 (ipykernel)",
   "language": "python",
   "name": "python3"
  },
  "language_info": {
   "codemirror_mode": {
    "name": "ipython",
    "version": 3
   },
   "file_extension": ".py",
   "mimetype": "text/x-python",
   "name": "python",
   "nbconvert_exporter": "python",
   "pygments_lexer": "ipython3",
   "version": "3.9.18"
  }
 },
 "nbformat": 4,
 "nbformat_minor": 5
}
